{
 "cells": [
  {
   "cell_type": "markdown",
   "id": "domestic-williams",
   "metadata": {},
   "source": [
    "# Import libraries"
   ]
  },
  {
   "cell_type": "code",
   "execution_count": 1,
   "id": "appreciated-heater",
   "metadata": {
    "ExecuteTime": {
     "end_time": "2021-07-20T10:13:55.606863Z",
     "start_time": "2021-07-20T10:13:55.081081Z"
    }
   },
   "outputs": [],
   "source": [
    "import scipy.io as sio\n",
    "from torch.utils.data import TensorDataset, DataLoader\n",
    "import numpy as np\n",
    "from numpy import mean, std\n",
    "import torch\n",
    "import torch.nn as nn\n",
    "from torch.autograd import Variable\n",
    "import torch.nn.functional as F\n",
    "import matplotlib.pyplot as plt\n",
    "import math\n",
    "import time\n",
    "import torch\n",
    "from torch import nn\n",
    "from torch.autograd import Variable\n",
    "\n",
    "import math\n",
    "import time\n",
    "from tqdm.notebook import tqdm\n",
    "import pandas as pd\n",
    "\n",
    "from sklearn.model_selection import train_test_split\n",
    "from sklearn.preprocessing import StandardScaler\n",
    "from sklearn.preprocessing import LabelEncoder\n",
    "import seaborn as sns\n",
    "from collections import Counter\n",
    "\n",
    "from Resnet_1d import *\n",
    "from sklearn.metrics import confusion_matrix, classification_report, f1_score\n",
    "\n",
    "from open_dataset import open_file, count_and_plot\n",
    "#from train_model import Exe_Model\n",
    "from sklearn.model_selection import RepeatedStratifiedKFold, cross_val_score\n",
    "from sklearn.metrics import accuracy_score"
   ]
  },
  {
   "cell_type": "markdown",
   "id": "first-count",
   "metadata": {},
   "source": [
    "# Check GPU Availability"
   ]
  },
  {
   "cell_type": "code",
   "execution_count": 2,
   "id": "immune-serum",
   "metadata": {
    "ExecuteTime": {
     "end_time": "2021-07-20T10:13:57.367851Z",
     "start_time": "2021-07-20T10:13:57.335656Z"
    }
   },
   "outputs": [
    {
     "name": "stdout",
     "output_type": "stream",
     "text": [
      "Location of Deep learning processed: GPU\n"
     ]
    }
   ],
   "source": [
    "use_cuda = torch.cuda.is_available()\n",
    "lct = 'GPU' if use_cuda else 'CPU'\n",
    "print('Location of Deep learning processed:', lct)"
   ]
  },
  {
   "cell_type": "markdown",
   "id": "grave-incident",
   "metadata": {},
   "source": [
    "# Load dataset"
   ]
  },
  {
   "cell_type": "markdown",
   "id": "unsigned-stanford",
   "metadata": {},
   "source": [
    "## For non-divided dataset"
   ]
  },
  {
   "cell_type": "code",
   "execution_count": null,
   "id": "national-donna",
   "metadata": {
    "ExecuteTime": {
     "end_time": "2021-07-20T02:08:12.336481Z",
     "start_time": "2021-07-20T02:08:11.884651Z"
    }
   },
   "outputs": [],
   "source": [
    "dataset_path = '512_colorectal.csv'\n",
    "train_data_loader, test_data_loader, num_train_instances, num_test_instances, n_cat = open_file(dataset_path)"
   ]
  },
  {
   "cell_type": "markdown",
   "id": "collective-detective",
   "metadata": {},
   "source": [
    "## For pre-divded dataset"
   ]
  },
  {
   "cell_type": "code",
   "execution_count": null,
   "id": "cubic-coast",
   "metadata": {
    "ExecuteTime": {
     "end_time": "2021-07-10T17:24:22.803434Z",
     "start_time": "2021-07-10T17:24:20.845325Z"
    }
   },
   "outputs": [],
   "source": [
    "for idx, phase in enumerate(['train', 'test']):\n",
    "    dataset_path = '512_indianfruits_' + phase + '.csv'\n",
    "    if phase == 'train':\n",
    "        train_data_loader, num_train_instances, n_cat = open_file(dataset_path, split=False, phase=phase)\n",
    "    elif phase == 'test':\n",
    "        test_data_loader, num_test_instances, n_cat = open_file(dataset_path, split=False, phase=phase)"
   ]
  },
  {
   "cell_type": "markdown",
   "id": "thorough-destination",
   "metadata": {},
   "source": [
    "# Run Models"
   ]
  },
  {
   "cell_type": "code",
   "execution_count": null,
   "id": "personalized-wealth",
   "metadata": {
    "ExecuteTime": {
     "end_time": "2021-07-20T02:08:17.024243Z",
     "start_time": "2021-07-20T02:08:17.017312Z"
    }
   },
   "outputs": [],
   "source": [
    "model=Exe_Model(MSResNet)"
   ]
  },
  {
   "cell_type": "code",
   "execution_count": null,
   "id": "viral-camcorder",
   "metadata": {
    "ExecuteTime": {
     "end_time": "2021-07-20T02:09:46.109733Z",
     "start_time": "2021-07-20T02:08:19.239881Z"
    }
   },
   "outputs": [],
   "source": [
    "model.set_model(n_cat)\n",
    "model.train_model(train_data_loader, test_data_loader, num_train_instances, num_test_instances, es_tolerance=50)"
   ]
  },
  {
   "cell_type": "code",
   "execution_count": null,
   "id": "adult-timeline",
   "metadata": {
    "ExecuteTime": {
     "end_time": "2021-07-20T02:22:07.650983Z",
     "start_time": "2021-07-20T02:22:07.581221Z"
    }
   },
   "outputs": [],
   "source": [
    "print(model.best_acc)\n",
    "print(model.epoch_atbest)\n",
    "print(model.current_epoch)\n",
    "print(model.train_time)\n",
    "\n",
    "#print(set_result)\n",
    "#count_and_plot(acc_result)"
   ]
  },
  {
   "cell_type": "code",
   "execution_count": null,
   "id": "demonstrated-opening",
   "metadata": {
    "ExecuteTime": {
     "end_time": "2021-07-17T03:01:53.570551Z",
     "start_time": "2021-07-17T02:41:39.580269Z"
    }
   },
   "outputs": [],
   "source": [
    "model.repeat_train(n_repeat=20)"
   ]
  },
  {
   "cell_type": "code",
   "execution_count": null,
   "id": "arbitrary-geometry",
   "metadata": {
    "ExecuteTime": {
     "end_time": "2021-07-17T03:07:32.687639Z",
     "start_time": "2021-07-17T03:07:32.681899Z"
    }
   },
   "outputs": [],
   "source": [
    "print(model.repeat_acc)\n",
    "print(model.repeat_epoch)"
   ]
  },
  {
   "cell_type": "code",
   "execution_count": null,
   "id": "plastic-electricity",
   "metadata": {
    "ExecuteTime": {
     "end_time": "2021-07-20T02:12:07.179697Z",
     "start_time": "2021-07-20T02:12:06.825982Z"
    }
   },
   "outputs": [],
   "source": [
    "model.cm()\n",
    "model.result()"
   ]
  },
  {
   "cell_type": "code",
   "execution_count": null,
   "id": "social-lincoln",
   "metadata": {},
   "outputs": [],
   "source": [
    "emodel = torch.load(model.PATH+'model.pt')\n",
    "emodel.load_state_dict(torch.load(model.PATH+'model_state_dict.pt'))\n",
    "\n",
    "checkpoint = torch.load(model.PATH+'all.tar')\n",
    "emodel.load_state_dict(checkpoint['model'])\n",
    "model.optimizer.load_state_dict(checkpoint['optimizer'])\n",
    "#emodel.eval(test_data_loader)"
   ]
  },
  {
   "cell_type": "markdown",
   "id": "radical-victory",
   "metadata": {
    "ExecuteTime": {
     "end_time": "2021-07-12T10:44:35.102836Z",
     "start_time": "2021-07-12T10:44:35.047180Z"
    }
   },
   "source": [
    "# Compare 1D ResNet and sklearn ML"
   ]
  },
  {
   "cell_type": "code",
   "execution_count": 3,
   "id": "completed-twenty",
   "metadata": {
    "ExecuteTime": {
     "end_time": "2021-07-20T10:14:01.877193Z",
     "start_time": "2021-07-20T10:14:01.698003Z"
    }
   },
   "outputs": [],
   "source": [
    "from sklearn.svm import SVC\n",
    "from sklearn.ensemble import RandomForestClassifier\n",
    "from sklearn.neighbors import KNeighborsClassifier\n",
    "from sklearn.tree import DecisionTreeClassifier\n",
    "from sklearn.ensemble import GradientBoostingClassifier\n",
    "from xgboost import XGBClassifier\n",
    "from lightgbm import LGBMClassifier\n",
    "\n",
    "models = ['SVC', 'RandomForest', 'knn', 'DecisionTree', 'GradientBoosting', 'XgBoost', 'LightGBM']"
   ]
  },
  {
   "cell_type": "code",
   "execution_count": 16,
   "id": "qualified-landscape",
   "metadata": {
    "ExecuteTime": {
     "end_time": "2021-07-20T16:20:58.423308Z",
     "start_time": "2021-07-20T16:20:58.415369Z"
    }
   },
   "outputs": [],
   "source": [
    "def count_and_plot2(y): \n",
    "    C = Counter(y)\n",
    "    print(C)\n",
    "    sorted_C=sorted(C.items(), key=lambda x:(-x[1], x[0]))\n",
    "    counter=sorted(sorted_C)\n",
    "    key = []\n",
    "    value = []\n",
    "    for k,v in enumerate(counter):\n",
    "        #print('Class=%d, n=%d (%.3f%%)' % (v[0], v[1], v[1] / len(y) * 100), 'weight=', len(y)/v[1])\n",
    "        key.append(v[0])\n",
    "        value.append(round(v[1], 4))\n",
    "    #plt.bar(key, value)\n",
    "    #plt.xlabel('Labels')\n",
    "    #plt.show()\n",
    "    \n",
    "    tick_size = 13 ## 눈금 폰트 사이즈\n",
    "    axis_label_size = 15 ## x축, y축 폰트 사이즈\n",
    "\n",
    "    fig = plt.figure(figsize=(10,10)) ## Figure 생성 사이즈는 10 by 10\n",
    "    ax = fig.add_subplot() ## Axes 추가\n",
    "    colors = sns.color_palette('hls',len(key)) ## 색상 지정\n",
    "\n",
    "    xtick_label_position = list(range(len(key))) ## x축 눈금 라벨이 표시될 x좌표\n",
    "\n",
    "    plt.yticks(fontsize=tick_size)\n",
    "    plt.xticks(xtick_label_position, key, fontsize=tick_size, rotation=90) ## x축 눈금 라벨 출력\n",
    "\n",
    "    bars = plt.bar(xtick_label_position, value, color=colors, \\\n",
    "                   edgecolor=colors, alpha=0.7, linewidth=1) ## 바차트 출력\n",
    "\n",
    "    for i, b in enumerate(bars):\n",
    "        ax.text(b.get_x()+b.get_width()*(1/2),b.get_height()+0.01, \\\n",
    "                value[i],ha='center',fontsize=13)\n",
    "\n",
    "    #plt.title('지난달 연령별 방문환자 수',fontsize=20) ## 타이틀 출력\n",
    "    plt.xlabel('Labels',fontsize=axis_label_size) ## x축 라벨 출력\n",
    "    #plt.ylabel('방문환자수',fontsize=axis_label_size) ## y축 라벨 출력\n",
    "    plt.show()"
   ]
  },
  {
   "cell_type": "code",
   "execution_count": 23,
   "id": "scenic-trustee",
   "metadata": {
    "ExecuteTime": {
     "end_time": "2021-07-20T16:49:50.958731Z",
     "start_time": "2021-07-20T16:49:46.098209Z"
    }
   },
   "outputs": [
    {
     "name": "stdout",
     "output_type": "stream",
     "text": [
      "       img  label     glcm1     glcm2     glcm3     glcm4     glcm5     glcm6  \\\n",
      "0  10515.0    9.0  0.515894  0.504506  0.512995  0.504683  0.506722  0.504506   \n",
      "\n",
      "      glcm7     glcm8  ...  dim1_f134  dim1_f135  dim1_f136  dim1_f137  \\\n",
      "0  0.500906  0.504683  ...        0.0        0.0        0.0        0.0   \n",
      "\n",
      "   dim1_f138  dim1_f139  dim1_f140  dim1_f141  dim1_f142  dim1_f143  \n",
      "0        0.0        0.0        0.0        0.0        0.0        0.0  \n",
      "\n",
      "[1 rows x 514 columns]\n",
      "Counter({9.0: 6000, 5.0: 6000, 3.0: 6000, 8.0: 6000, 6.0: 6000, 1.0: 6000, 7.0: 6000, 4.0: 6000, 2.0: 6000, 0.0: 6000})\n"
     ]
    },
    {
     "data": {
      "image/png": "[encoded data removed]",
      "text/plain": [
       "<Figure size 720x720 with 1 Axes>"
      ]
     },
     "metadata": {
      "needs_background": "light"
     },
     "output_type": "display_data"
    },
    {
     "name": "stdout",
     "output_type": "stream",
     "text": [
      "label data shape: (60000,)\n",
      "Original data shape: (60000, 512)\n",
      "Test data shape:  torch.Size([12000, 1, 512])\n"
     ]
    }
   ],
   "source": [
    "acc_result={}\n",
    "time_result={}\n",
    "f1_result={}\n",
    "\n",
    "dataset_path = '512_fmnist.csv'\n",
    "train_data_loader, test_data_loader, num_train_instances, num_test_instances, n_cat = open_file(dataset_path)\n",
    "\n",
    "data = pd.read_csv(dataset_path)\n",
    "dataset = data.sample(frac=1).reset_index(drop=True)\n",
    "dataset = dataset.fillna(0)\n",
    "X_len = len(dataset.columns)\n",
    "X = dataset.iloc[:, 3:X_len].values if X_len==515 else dataset.iloc[:, 2:X_len].values\n",
    "y = dataset.iloc[:, 2].values if X_len==515 else dataset.iloc[:, 1].values\n",
    "if np.min(y) > 0: \n",
    "    y = y-np.min(y)\n",
    "n_cat = int(max(y))+1\n",
    "X_train, X_test, y_train, y_test = train_test_split(X, y, test_size = 0.2, random_state = 20, shuffle=True)"
   ]
  },
  {
   "cell_type": "code",
   "execution_count": 24,
   "id": "subsequent-reduction",
   "metadata": {
    "ExecuteTime": {
     "end_time": "2021-07-20T16:57:39.990954Z",
     "start_time": "2021-07-20T16:49:52.363905Z"
    }
   },
   "outputs": [
    {
     "name": "stdout",
     "output_type": "stream",
     "text": [
      "model loaded\n",
      "==============================================\n"
     ]
    },
    {
     "name": "stderr",
     "output_type": "stream",
     "text": [
      "/home/seung-ho/anaconda3/envs/cubical/lib/python3.8/site-packages/torch/nn/_reduction.py:43: UserWarning: size_average and reduce args will be deprecated, please use reduction='sum' instead.\n",
      "  warnings.warn(warning.format(ret))\n",
      "/home/seung-ho/anaconda3/envs/cubical/lib/python3.8/site-packages/torch/optim/lr_scheduler.py:117: UserWarning: Detected call of `lr_scheduler.step()` before `optimizer.step()`. In PyTorch 1.1.0 and later, you should call them in the opposite order: `optimizer.step()` before `lr_scheduler.step()`.  Failure to do this will result in PyTorch skipping the first value of the learning rate schedule. See more details at https://pytorch.org/docs/stable/optim.html#how-to-adjust-learning-rate\n",
      "  warnings.warn(\"Detected call of `lr_scheduler.step()` before `optimizer.step()`. \"\n"
     ]
    },
    {
     "data": {
      "application/vnd.jupyter.widget-view+json": {
       "model_id": "806fc735abe64fd885c2ca9b0f844c9d",
       "version_major": 2,
       "version_minor": 0
      },
      "text/plain": [
       "HBox(children=(FloatProgress(value=0.0, max=375.0), HTML(value='')))"
      ]
     },
     "metadata": {},
     "output_type": "display_data"
    },
    {
     "name": "stdout",
     "output_type": "stream",
     "text": [
      "\n",
      "Epoch: 0\n",
      "Training accuracy: 55.66458333333333\n",
      "val accuracy: 55.108333333333334\n",
      "F1 score: 0.5151321615792366\n",
      "==============================================\n"
     ]
    },
    {
     "data": {
      "application/vnd.jupyter.widget-view+json": {
       "model_id": "af97494ea85642b0a2c176f46e91d3df",
       "version_major": 2,
       "version_minor": 0
      },
      "text/plain": [
       "HBox(children=(FloatProgress(value=0.0, max=375.0), HTML(value='')))"
      ]
     },
     "metadata": {},
     "output_type": "display_data"
    },
    {
     "name": "stdout",
     "output_type": "stream",
     "text": [
      "\n",
      "Epoch: 1\n",
      "Training accuracy: 49.010416666666664\n",
      "val accuracy: 48.983333333333334\n",
      "F1 score: 0.4440745666937901\n",
      "==============================================\n"
     ]
    },
    {
     "data": {
      "application/vnd.jupyter.widget-view+json": {
       "model_id": "b0106f18c61c4fa791ca6f21ca6247a0",
       "version_major": 2,
       "version_minor": 0
      },
      "text/plain": [
       "HBox(children=(FloatProgress(value=0.0, max=375.0), HTML(value='')))"
      ]
     },
     "metadata": {},
     "output_type": "display_data"
    },
    {
     "name": "stdout",
     "output_type": "stream",
     "text": [
      "\n",
      "Epoch: 2\n",
      "Training accuracy: 53.28541666666667\n",
      "val accuracy: 53.19166666666667\n",
      "F1 score: 0.5266395645311831\n",
      "==============================================\n"
     ]
    },
    {
     "data": {
      "application/vnd.jupyter.widget-view+json": {
       "model_id": "3ad6dc23f007483885911e79ba66dd53",
       "version_major": 2,
       "version_minor": 0
      },
      "text/plain": [
       "HBox(children=(FloatProgress(value=0.0, max=375.0), HTML(value='')))"
      ]
     },
     "metadata": {},
     "output_type": "display_data"
    },
    {
     "name": "stdout",
     "output_type": "stream",
     "text": [
      "\n",
      "Epoch: 3\n",
      "Training accuracy: 71.29375\n",
      "val accuracy: 70.53333333333333\n",
      "F1 score: 0.701852962108973\n",
      "==============================================\n"
     ]
    },
    {
     "data": {
      "application/vnd.jupyter.widget-view+json": {
       "model_id": "fe3d5dbc9b2742d394c454abb0e7c3be",
       "version_major": 2,
       "version_minor": 0
      },
      "text/plain": [
       "HBox(children=(FloatProgress(value=0.0, max=375.0), HTML(value='')))"
      ]
     },
     "metadata": {},
     "output_type": "display_data"
    },
    {
     "name": "stdout",
     "output_type": "stream",
     "text": [
      "\n",
      "Epoch: 4\n",
      "Training accuracy: 69.30625\n",
      "val accuracy: 68.8\n",
      "F1 score: 0.6806357651649092\n",
      "==============================================\n"
     ]
    },
    {
     "data": {
      "application/vnd.jupyter.widget-view+json": {
       "model_id": "73ab3e13a171457599dac17551f764ab",
       "version_major": 2,
       "version_minor": 0
      },
      "text/plain": [
       "HBox(children=(FloatProgress(value=0.0, max=375.0), HTML(value='')))"
      ]
     },
     "metadata": {},
     "output_type": "display_data"
    },
    {
     "name": "stdout",
     "output_type": "stream",
     "text": [
      "\n",
      "Epoch: 5\n",
      "Training accuracy: 51.43125\n",
      "val accuracy: 51.45\n",
      "F1 score: 0.46407360434212114\n",
      "==============================================\n"
     ]
    },
    {
     "data": {
      "application/vnd.jupyter.widget-view+json": {
       "model_id": "daada7f7732648f89eedb621f089501c",
       "version_major": 2,
       "version_minor": 0
      },
      "text/plain": [
       "HBox(children=(FloatProgress(value=0.0, max=375.0), HTML(value='')))"
      ]
     },
     "metadata": {},
     "output_type": "display_data"
    },
    {
     "name": "stdout",
     "output_type": "stream",
     "text": [
      "\n",
      "Epoch: 6\n",
      "Training accuracy: 63.12708333333333\n",
      "val accuracy: 61.84166666666667\n",
      "F1 score: 0.6167935942124796\n",
      "==============================================\n"
     ]
    },
    {
     "data": {
      "application/vnd.jupyter.widget-view+json": {
       "model_id": "e8fbd2d1755e457dbd32b04b881a9127",
       "version_major": 2,
       "version_minor": 0
      },
      "text/plain": [
       "HBox(children=(FloatProgress(value=0.0, max=375.0), HTML(value='')))"
      ]
     },
     "metadata": {},
     "output_type": "display_data"
    },
    {
     "name": "stdout",
     "output_type": "stream",
     "text": [
      "\n",
      "Epoch: 7\n",
      "Training accuracy: 53.5375\n",
      "val accuracy: 53.125\n",
      "F1 score: 0.5088031940752566\n",
      "==============================================\n"
     ]
    },
    {
     "data": {
      "application/vnd.jupyter.widget-view+json": {
       "model_id": "bd9e036fa1c64f7cb74e614178e69735",
       "version_major": 2,
       "version_minor": 0
      },
      "text/plain": [
       "HBox(children=(FloatProgress(value=0.0, max=375.0), HTML(value='')))"
      ]
     },
     "metadata": {},
     "output_type": "display_data"
    },
    {
     "name": "stdout",
     "output_type": "stream",
     "text": [
      "\n",
      "Epoch: 8\n",
      "Training accuracy: 58.8875\n",
      "val accuracy: 57.958333333333336\n",
      "F1 score: 0.5688247021364378\n",
      "==============================================\n"
     ]
    },
    {
     "data": {
      "application/vnd.jupyter.widget-view+json": {
       "model_id": "6439cee1ad0946c387757e7c1759bc2b",
       "version_major": 2,
       "version_minor": 0
      },
      "text/plain": [
       "HBox(children=(FloatProgress(value=0.0, max=375.0), HTML(value='')))"
      ]
     },
     "metadata": {},
     "output_type": "display_data"
    },
    {
     "name": "stdout",
     "output_type": "stream",
     "text": [
      "\n",
      "Epoch: 9\n",
      "Training accuracy: 58.65416666666667\n",
      "val accuracy: 57.85\n",
      "F1 score: 0.544414737116062\n",
      "==============================================\n"
     ]
    },
    {
     "data": {
      "application/vnd.jupyter.widget-view+json": {
       "model_id": "b9dd1b86172c42df963f15b0d8d5ab0e",
       "version_major": 2,
       "version_minor": 0
      },
      "text/plain": [
       "HBox(children=(FloatProgress(value=0.0, max=375.0), HTML(value='')))"
      ]
     },
     "metadata": {},
     "output_type": "display_data"
    },
    {
     "name": "stdout",
     "output_type": "stream",
     "text": [
      "\n",
      "Epoch: 10\n",
      "Training accuracy: 65.58958333333334\n",
      "val accuracy: 65.08333333333333\n",
      "F1 score: 0.6383023703436979\n",
      "==============================================\n"
     ]
    },
    {
     "data": {
      "application/vnd.jupyter.widget-view+json": {
       "model_id": "1b023bbacf5a4b02a60088e47f5fb379",
       "version_major": 2,
       "version_minor": 0
      },
      "text/plain": [
       "HBox(children=(FloatProgress(value=0.0, max=375.0), HTML(value='')))"
      ]
     },
     "metadata": {},
     "output_type": "display_data"
    },
    {
     "name": "stdout",
     "output_type": "stream",
     "text": [
      "\n",
      "Epoch: 11\n",
      "Training accuracy: 69.15833333333333\n",
      "val accuracy: 67.15\n",
      "F1 score: 0.6675281644284897\n",
      "==============================================\n"
     ]
    },
    {
     "data": {
      "application/vnd.jupyter.widget-view+json": {
       "model_id": "a4e0ce57adf64480bad427d6a2cefb7c",
       "version_major": 2,
       "version_minor": 0
      },
      "text/plain": [
       "HBox(children=(FloatProgress(value=0.0, max=375.0), HTML(value='')))"
      ]
     },
     "metadata": {},
     "output_type": "display_data"
    },
    {
     "name": "stdout",
     "output_type": "stream",
     "text": [
      "\n",
      "Epoch: 12\n",
      "Training accuracy: 69.3875\n",
      "val accuracy: 67.84166666666667\n",
      "F1 score: 0.6733162850268357\n",
      "==============================================\n"
     ]
    },
    {
     "data": {
      "application/vnd.jupyter.widget-view+json": {
       "model_id": "8a75c90265894e6cb9f7b4d8c95b76bf",
       "version_major": 2,
       "version_minor": 0
      },
      "text/plain": [
       "HBox(children=(FloatProgress(value=0.0, max=375.0), HTML(value='')))"
      ]
     },
     "metadata": {},
     "output_type": "display_data"
    },
    {
     "name": "stdout",
     "output_type": "stream",
     "text": [
      "\n",
      "Epoch: 13\n",
      "Training accuracy: 72.26875\n",
      "val accuracy: 70.375\n",
      "F1 score: 0.7080035209522287\n",
      "==============================================\n"
     ]
    },
    {
     "data": {
      "application/vnd.jupyter.widget-view+json": {
       "model_id": "722c5709624c4e21ac02da6ab0cdb5b3",
       "version_major": 2,
       "version_minor": 0
      },
      "text/plain": [
       "HBox(children=(FloatProgress(value=0.0, max=375.0), HTML(value='')))"
      ]
     },
     "metadata": {},
     "output_type": "display_data"
    },
    {
     "name": "stdout",
     "output_type": "stream",
     "text": [
      "\n",
      "Epoch: 14\n",
      "Training accuracy: 74.725\n",
      "val accuracy: 72.15\n",
      "F1 score: 0.7216492718459699\n",
      "==============================================\n"
     ]
    },
    {
     "data": {
      "application/vnd.jupyter.widget-view+json": {
       "model_id": "0b2ae59e8b384ecfb56b606392fa60e2",
       "version_major": 2,
       "version_minor": 0
      },
      "text/plain": [
       "HBox(children=(FloatProgress(value=0.0, max=375.0), HTML(value='')))"
      ]
     },
     "metadata": {},
     "output_type": "display_data"
    },
    {
     "name": "stdout",
     "output_type": "stream",
     "text": [
      "\n",
      "Epoch: 15\n",
      "Training accuracy: 63.7375\n",
      "val accuracy: 61.641666666666666\n",
      "F1 score: 0.6112234064405936\n",
      "==============================================\n"
     ]
    },
    {
     "data": {
      "application/vnd.jupyter.widget-view+json": {
       "model_id": "fad2a88a83eb4e5eb57bfd8a06e15c5b",
       "version_major": 2,
       "version_minor": 0
      },
      "text/plain": [
       "HBox(children=(FloatProgress(value=0.0, max=375.0), HTML(value='')))"
      ]
     },
     "metadata": {},
     "output_type": "display_data"
    },
    {
     "name": "stdout",
     "output_type": "stream",
     "text": [
      "\n",
      "Epoch: 16\n",
      "Training accuracy: 65.9875\n",
      "val accuracy: 63.84166666666667\n",
      "F1 score: 0.6229038918804076\n",
      "==============================================\n"
     ]
    },
    {
     "data": {
      "application/vnd.jupyter.widget-view+json": {
       "model_id": "79783eeb9b6c420a8c4c438534f452af",
       "version_major": 2,
       "version_minor": 0
      },
      "text/plain": [
       "HBox(children=(FloatProgress(value=0.0, max=375.0), HTML(value='')))"
      ]
     },
     "metadata": {},
     "output_type": "display_data"
    },
    {
     "name": "stdout",
     "output_type": "stream",
     "text": [
      "\n",
      "Epoch: 17\n",
      "Training accuracy: 67.74166666666666\n",
      "val accuracy: 65.06666666666666\n",
      "F1 score: 0.63618976010386\n",
      "==============================================\n"
     ]
    },
    {
     "data": {
      "application/vnd.jupyter.widget-view+json": {
       "model_id": "d1f4a5f69dbf42ba91e5d5fa9151cb03",
       "version_major": 2,
       "version_minor": 0
      },
      "text/plain": [
       "HBox(children=(FloatProgress(value=0.0, max=375.0), HTML(value='')))"
      ]
     },
     "metadata": {},
     "output_type": "display_data"
    },
    {
     "name": "stdout",
     "output_type": "stream",
     "text": [
      "\n",
      "Epoch: 18\n",
      "Training accuracy: 65.73958333333333\n",
      "val accuracy: 62.733333333333334\n",
      "F1 score: 0.6198699656852472\n",
      "==============================================\n"
     ]
    },
    {
     "data": {
      "application/vnd.jupyter.widget-view+json": {
       "model_id": "386fb4f12dde434d892af31a9662416f",
       "version_major": 2,
       "version_minor": 0
      },
      "text/plain": [
       "HBox(children=(FloatProgress(value=0.0, max=375.0), HTML(value='')))"
      ]
     },
     "metadata": {},
     "output_type": "display_data"
    },
    {
     "name": "stdout",
     "output_type": "stream",
     "text": [
      "\n",
      "Epoch: 19\n",
      "Training accuracy: 58.08541666666667\n",
      "val accuracy: 55.858333333333334\n",
      "F1 score: 0.5592329409153998\n",
      "==============================================\n"
     ]
    },
    {
     "data": {
      "application/vnd.jupyter.widget-view+json": {
       "model_id": "43848b4739f84b6f885ca84d7691711c",
       "version_major": 2,
       "version_minor": 0
      },
      "text/plain": [
       "HBox(children=(FloatProgress(value=0.0, max=375.0), HTML(value='')))"
      ]
     },
     "metadata": {},
     "output_type": "display_data"
    },
    {
     "name": "stdout",
     "output_type": "stream",
     "text": [
      "\n",
      "Epoch: 20\n",
      "Training accuracy: 72.72291666666666\n",
      "val accuracy: 68.51666666666667\n",
      "F1 score: 0.6857380476166883\n",
      "==============================================\n"
     ]
    },
    {
     "data": {
      "application/vnd.jupyter.widget-view+json": {
       "model_id": "a20c8ae2dff14497becdddc4de496f73",
       "version_major": 2,
       "version_minor": 0
      },
      "text/plain": [
       "HBox(children=(FloatProgress(value=0.0, max=375.0), HTML(value='')))"
      ]
     },
     "metadata": {},
     "output_type": "display_data"
    },
    {
     "name": "stdout",
     "output_type": "stream",
     "text": [
      "\n",
      "Epoch: 21\n",
      "Training accuracy: 64.3125\n",
      "val accuracy: 59.583333333333336\n",
      "F1 score: 0.575164669028821\n",
      "==============================================\n"
     ]
    },
    {
     "data": {
      "application/vnd.jupyter.widget-view+json": {
       "model_id": "f913fe34fd04460e8034afa1816b0350",
       "version_major": 2,
       "version_minor": 0
      },
      "text/plain": [
       "HBox(children=(FloatProgress(value=0.0, max=375.0), HTML(value='')))"
      ]
     },
     "metadata": {},
     "output_type": "display_data"
    },
    {
     "name": "stdout",
     "output_type": "stream",
     "text": [
      "\n",
      "Epoch: 22\n",
      "Training accuracy: 45.93333333333333\n",
      "val accuracy: 44.275\n",
      "F1 score: 0.37726341609791103\n",
      "==============================================\n"
     ]
    },
    {
     "data": {
      "application/vnd.jupyter.widget-view+json": {
       "model_id": "b387134566374301a39572b16c8cd243",
       "version_major": 2,
       "version_minor": 0
      },
      "text/plain": [
       "HBox(children=(FloatProgress(value=0.0, max=375.0), HTML(value='')))"
      ]
     },
     "metadata": {},
     "output_type": "display_data"
    },
    {
     "name": "stdout",
     "output_type": "stream",
     "text": [
      "\n",
      "Epoch: 23\n",
      "Training accuracy: 49.69375\n",
      "val accuracy: 47.358333333333334\n",
      "F1 score: 0.4234919628224602\n",
      "==============================================\n"
     ]
    },
    {
     "data": {
      "application/vnd.jupyter.widget-view+json": {
       "model_id": "d7f59c229ffa40eaa06bc73b20283f1c",
       "version_major": 2,
       "version_minor": 0
      },
      "text/plain": [
       "HBox(children=(FloatProgress(value=0.0, max=375.0), HTML(value='')))"
      ]
     },
     "metadata": {},
     "output_type": "display_data"
    },
    {
     "name": "stdout",
     "output_type": "stream",
     "text": [
      "\n",
      "Epoch: 24\n",
      "Training accuracy: 74.975\n",
      "val accuracy: 68.68333333333334\n",
      "F1 score: 0.6743974911546602\n",
      "==============================================\n"
     ]
    },
    {
     "data": {
      "application/vnd.jupyter.widget-view+json": {
       "model_id": "aec697a233da4b5b93482577fbc62cf6",
       "version_major": 2,
       "version_minor": 0
      },
      "text/plain": [
       "HBox(children=(FloatProgress(value=0.0, max=375.0), HTML(value='')))"
      ]
     },
     "metadata": {},
     "output_type": "display_data"
    },
    {
     "name": "stdout",
     "output_type": "stream",
     "text": [
      "\n",
      "Epoch: 25\n",
      "Training accuracy: 71.45208333333333\n",
      "val accuracy: 64.60833333333333\n",
      "F1 score: 0.6365485154485587\n",
      "==============================================\n"
     ]
    },
    {
     "data": {
      "application/vnd.jupyter.widget-view+json": {
       "model_id": "a25ad0175b3b4e9f88c49b433d267b77",
       "version_major": 2,
       "version_minor": 0
      },
      "text/plain": [
       "HBox(children=(FloatProgress(value=0.0, max=375.0), HTML(value='')))"
      ]
     },
     "metadata": {},
     "output_type": "display_data"
    },
    {
     "name": "stdout",
     "output_type": "stream",
     "text": [
      "\n",
      "Epoch: 26\n",
      "Training accuracy: 84.07708333333333\n",
      "val accuracy: 73.68333333333334\n",
      "F1 score: 0.7361978695534065\n",
      "==============================================\n"
     ]
    },
    {
     "data": {
      "application/vnd.jupyter.widget-view+json": {
       "model_id": "54bb3a17b4fd425dbf8ed1772280b5eb",
       "version_major": 2,
       "version_minor": 0
      },
      "text/plain": [
       "HBox(children=(FloatProgress(value=0.0, max=375.0), HTML(value='')))"
      ]
     },
     "metadata": {},
     "output_type": "display_data"
    },
    {
     "name": "stdout",
     "output_type": "stream",
     "text": [
      "\n",
      "Epoch: 27\n",
      "Training accuracy: 77.5\n",
      "val accuracy: 67.86666666666666\n",
      "F1 score: 0.6831020627330869\n",
      "==============================================\n"
     ]
    },
    {
     "data": {
      "application/vnd.jupyter.widget-view+json": {
       "model_id": "02087c1582c548e1b2053557497e2963",
       "version_major": 2,
       "version_minor": 0
      },
      "text/plain": [
       "HBox(children=(FloatProgress(value=0.0, max=375.0), HTML(value='')))"
      ]
     },
     "metadata": {},
     "output_type": "display_data"
    },
    {
     "name": "stdout",
     "output_type": "stream",
     "text": [
      "\n",
      "Epoch: 28\n",
      "Training accuracy: 79.99791666666667\n",
      "val accuracy: 70.375\n",
      "F1 score: 0.7035839681725908\n",
      "==============================================\n"
     ]
    },
    {
     "data": {
      "application/vnd.jupyter.widget-view+json": {
       "model_id": "0b052d88b06f4d5b899828cb1558957f",
       "version_major": 2,
       "version_minor": 0
      },
      "text/plain": [
       "HBox(children=(FloatProgress(value=0.0, max=375.0), HTML(value='')))"
      ]
     },
     "metadata": {},
     "output_type": "display_data"
    },
    {
     "name": "stdout",
     "output_type": "stream",
     "text": [
      "\n",
      "Epoch: 29\n",
      "Training accuracy: 74.16041666666666\n",
      "val accuracy: 64.375\n",
      "F1 score: 0.6531448312493171\n",
      "==============================================\n"
     ]
    },
    {
     "data": {
      "application/vnd.jupyter.widget-view+json": {
       "model_id": "310882ee40ba43279d8d94eaec97944d",
       "version_major": 2,
       "version_minor": 0
      },
      "text/plain": [
       "HBox(children=(FloatProgress(value=0.0, max=375.0), HTML(value='')))"
      ]
     },
     "metadata": {},
     "output_type": "display_data"
    },
    {
     "name": "stdout",
     "output_type": "stream",
     "text": [
      "\n",
      "Epoch: 30\n",
      "Training accuracy: 76.42916666666666\n",
      "val accuracy: 63.93333333333333\n",
      "F1 score: 0.6343567357385465\n",
      "==============================================\n"
     ]
    },
    {
     "data": {
      "application/vnd.jupyter.widget-view+json": {
       "model_id": "16a7a954225f4378bb81d71986b07f8c",
       "version_major": 2,
       "version_minor": 0
      },
      "text/plain": [
       "HBox(children=(FloatProgress(value=0.0, max=375.0), HTML(value='')))"
      ]
     },
     "metadata": {},
     "output_type": "display_data"
    },
    {
     "name": "stdout",
     "output_type": "stream",
     "text": [
      "\n",
      "Epoch: 31\n",
      "Training accuracy: 71.71875\n",
      "val accuracy: 61.30833333333333\n",
      "F1 score: 0.5985866192822411\n",
      "==============================================\n"
     ]
    },
    {
     "data": {
      "application/vnd.jupyter.widget-view+json": {
       "model_id": "0335a0d8085843deb3faf7da4e94cb53",
       "version_major": 2,
       "version_minor": 0
      },
      "text/plain": [
       "HBox(children=(FloatProgress(value=0.0, max=375.0), HTML(value='')))"
      ]
     },
     "metadata": {},
     "output_type": "display_data"
    },
    {
     "name": "stdout",
     "output_type": "stream",
     "text": [
      "\n",
      "Epoch: 32\n",
      "Training accuracy: 74.28541666666666\n",
      "val accuracy: 61.65\n",
      "F1 score: 0.6132963260757625\n",
      "==============================================\n"
     ]
    },
    {
     "data": {
      "application/vnd.jupyter.widget-view+json": {
       "model_id": "ab1e42068bf24405a500824c9d0d51ce",
       "version_major": 2,
       "version_minor": 0
      },
      "text/plain": [
       "HBox(children=(FloatProgress(value=0.0, max=375.0), HTML(value='')))"
      ]
     },
     "metadata": {},
     "output_type": "display_data"
    },
    {
     "name": "stdout",
     "output_type": "stream",
     "text": [
      "\n",
      "Epoch: 33\n",
      "Training accuracy: 83.59375\n",
      "val accuracy: 67.68333333333334\n",
      "F1 score: 0.6768950354255971\n",
      "==============================================\n"
     ]
    },
    {
     "data": {
      "application/vnd.jupyter.widget-view+json": {
       "model_id": "af7225365aa04d6093604d5d141f037c",
       "version_major": 2,
       "version_minor": 0
      },
      "text/plain": [
       "HBox(children=(FloatProgress(value=0.0, max=375.0), HTML(value='')))"
      ]
     },
     "metadata": {},
     "output_type": "display_data"
    },
    {
     "name": "stdout",
     "output_type": "stream",
     "text": [
      "\n",
      "Epoch: 34\n",
      "Training accuracy: 73.87708333333333\n",
      "val accuracy: 59.61666666666667\n",
      "F1 score: 0.5953208311740885\n",
      "==============================================\n"
     ]
    },
    {
     "data": {
      "application/vnd.jupyter.widget-view+json": {
       "model_id": "aa33eb821f334aae9991a5a53e42e9f0",
       "version_major": 2,
       "version_minor": 0
      },
      "text/plain": [
       "HBox(children=(FloatProgress(value=0.0, max=375.0), HTML(value='')))"
      ]
     },
     "metadata": {},
     "output_type": "display_data"
    },
    {
     "name": "stdout",
     "output_type": "stream",
     "text": [
      "\n",
      "Epoch: 35\n",
      "Training accuracy: 87.57083333333334\n",
      "val accuracy: 68.54166666666667\n",
      "F1 score: 0.6827878519128631\n",
      "==============================================\n"
     ]
    },
    {
     "data": {
      "application/vnd.jupyter.widget-view+json": {
       "model_id": "a49c4d6b7aca4b2da0459d122e4c884f",
       "version_major": 2,
       "version_minor": 0
      },
      "text/plain": [
       "HBox(children=(FloatProgress(value=0.0, max=375.0), HTML(value='')))"
      ]
     },
     "metadata": {},
     "output_type": "display_data"
    },
    {
     "name": "stdout",
     "output_type": "stream",
     "text": [
      "\n",
      "Epoch: 36\n",
      "Training accuracy: 83.72083333333333\n",
      "val accuracy: 66.69166666666666\n",
      "F1 score: 0.673337275835249\n",
      "==============================================\n"
     ]
    },
    {
     "data": {
      "application/vnd.jupyter.widget-view+json": {
       "model_id": "c1f025aabfca46fda40f3872dd1aa522",
       "version_major": 2,
       "version_minor": 0
      },
      "text/plain": [
       "HBox(children=(FloatProgress(value=0.0, max=375.0), HTML(value='')))"
      ]
     },
     "metadata": {},
     "output_type": "display_data"
    },
    {
     "name": "stdout",
     "output_type": "stream",
     "text": [
      "\n",
      "Epoch: 37\n",
      "Training accuracy: 78.56875\n",
      "val accuracy: 62.675\n",
      "F1 score: 0.623326160285851\n",
      "==============================================\n"
     ]
    },
    {
     "data": {
      "application/vnd.jupyter.widget-view+json": {
       "model_id": "1dfb6a241e684febbd4a5d98c0c3ae36",
       "version_major": 2,
       "version_minor": 0
      },
      "text/plain": [
       "HBox(children=(FloatProgress(value=0.0, max=375.0), HTML(value='')))"
      ]
     },
     "metadata": {},
     "output_type": "display_data"
    },
    {
     "name": "stdout",
     "output_type": "stream",
     "text": [
      "\n",
      "Epoch: 38\n",
      "Training accuracy: 66.12291666666667\n",
      "val accuracy: 52.40833333333333\n",
      "F1 score: 0.5119298337545993\n",
      "==============================================\n"
     ]
    },
    {
     "data": {
      "application/vnd.jupyter.widget-view+json": {
       "model_id": "2bc82f6809cb4cfe83f3785823549099",
       "version_major": 2,
       "version_minor": 0
      },
      "text/plain": [
       "HBox(children=(FloatProgress(value=0.0, max=375.0), HTML(value='')))"
      ]
     },
     "metadata": {},
     "output_type": "display_data"
    },
    {
     "name": "stdout",
     "output_type": "stream",
     "text": [
      "\n",
      "Epoch: 39\n",
      "Training accuracy: 78.28541666666666\n",
      "val accuracy: 59.68333333333333\n",
      "F1 score: 0.5926300935060096\n",
      "==============================================\n"
     ]
    },
    {
     "data": {
      "application/vnd.jupyter.widget-view+json": {
       "model_id": "e77f41d397ab4984b1d675df28bf8eb7",
       "version_major": 2,
       "version_minor": 0
      },
      "text/plain": [
       "HBox(children=(FloatProgress(value=0.0, max=375.0), HTML(value='')))"
      ]
     },
     "metadata": {},
     "output_type": "display_data"
    },
    {
     "name": "stdout",
     "output_type": "stream",
     "text": [
      "\n",
      "Epoch: 40\n",
      "Training accuracy: 88.99583333333334\n",
      "val accuracy: 66.125\n",
      "F1 score: 0.6681754981221517\n",
      "==============================================\n"
     ]
    },
    {
     "data": {
      "application/vnd.jupyter.widget-view+json": {
       "model_id": "8746520aca65422ca1b41f4ece0f9fc8",
       "version_major": 2,
       "version_minor": 0
      },
      "text/plain": [
       "HBox(children=(FloatProgress(value=0.0, max=375.0), HTML(value='')))"
      ]
     },
     "metadata": {},
     "output_type": "display_data"
    },
    {
     "name": "stdout",
     "output_type": "stream",
     "text": [
      "\n",
      "Epoch: 41\n",
      "Training accuracy: 87.175\n",
      "val accuracy: 65.29166666666667\n",
      "F1 score: 0.6506568853574244\n",
      "==============================================\n"
     ]
    },
    {
     "data": {
      "application/vnd.jupyter.widget-view+json": {
       "model_id": "bcb9f0c5422b4a33b52e1df1c1ec3ae2",
       "version_major": 2,
       "version_minor": 0
      },
      "text/plain": [
       "HBox(children=(FloatProgress(value=0.0, max=375.0), HTML(value='')))"
      ]
     },
     "metadata": {},
     "output_type": "display_data"
    },
    {
     "name": "stdout",
     "output_type": "stream",
     "text": [
      "\n",
      "Epoch: 42\n",
      "Training accuracy: 84.96875\n",
      "val accuracy: 64.71666666666667\n",
      "F1 score: 0.6535491711603928\n",
      "==============================================\n"
     ]
    },
    {
     "data": {
      "application/vnd.jupyter.widget-view+json": {
       "model_id": "4801247add27425cbc7a249ca32b49d6",
       "version_major": 2,
       "version_minor": 0
      },
      "text/plain": [
       "HBox(children=(FloatProgress(value=0.0, max=375.0), HTML(value='')))"
      ]
     },
     "metadata": {},
     "output_type": "display_data"
    },
    {
     "name": "stdout",
     "output_type": "stream",
     "text": [
      "\n",
      "Epoch: 43\n",
      "Training accuracy: 89.12916666666666\n",
      "val accuracy: 65.93333333333334\n",
      "F1 score: 0.6520422194124413\n",
      "==============================================\n"
     ]
    },
    {
     "data": {
      "application/vnd.jupyter.widget-view+json": {
       "model_id": "5237edc3af874563ad1ef16be2aff066",
       "version_major": 2,
       "version_minor": 0
      },
      "text/plain": [
       "HBox(children=(FloatProgress(value=0.0, max=375.0), HTML(value='')))"
      ]
     },
     "metadata": {},
     "output_type": "display_data"
    },
    {
     "name": "stdout",
     "output_type": "stream",
     "text": [
      "\n",
      "Epoch: 44\n",
      "Training accuracy: 96.09166666666667\n",
      "val accuracy: 71.36666666666666\n",
      "F1 score: 0.7116133668214674\n",
      "==============================================\n"
     ]
    },
    {
     "data": {
      "application/vnd.jupyter.widget-view+json": {
       "model_id": "a792c835e094471cb77eb41fc0e5d014",
       "version_major": 2,
       "version_minor": 0
      },
      "text/plain": [
       "HBox(children=(FloatProgress(value=0.0, max=375.0), HTML(value='')))"
      ]
     },
     "metadata": {},
     "output_type": "display_data"
    },
    {
     "name": "stdout",
     "output_type": "stream",
     "text": [
      "\n",
      "Epoch: 45\n",
      "Training accuracy: 43.639583333333334\n",
      "val accuracy: 36.375\n",
      "F1 score: 0.3332431785994027\n",
      "==============================================\n"
     ]
    },
    {
     "data": {
      "application/vnd.jupyter.widget-view+json": {
       "model_id": "56abed6cec7e42ab9d661618c0046624",
       "version_major": 2,
       "version_minor": 0
      },
      "text/plain": [
       "HBox(children=(FloatProgress(value=0.0, max=375.0), HTML(value='')))"
      ]
     },
     "metadata": {},
     "output_type": "display_data"
    },
    {
     "name": "stdout",
     "output_type": "stream",
     "text": [
      "\n",
      "Epoch: 46\n",
      "Training accuracy: 90.14166666666667\n",
      "val accuracy: 67.28333333333333\n",
      "F1 score: 0.6829569708361843\n",
      "==============================================\n",
      "\n",
      " Best validation accuracy: 0.7368333333333333    when epoch: 26\n",
      "triain time: 467.12322878837585\n"
     ]
    },
    {
     "data": {
      "image/png": "[encoded data removed]",
      "text/plain": [
       "<Figure size 720x720 with 2 Axes>"
      ]
     },
     "metadata": {
      "needs_background": "light"
     },
     "output_type": "display_data"
    }
   ],
   "source": [
    "model=Exe_Model(MSResNet)\n",
    "model.set_model(n_cat)\n",
    "model.train_model(train_data_loader, test_data_loader, num_train_instances, num_test_instances, es_tolerance=20)\n",
    "model.cm()\n",
    "\n",
    "acc_result['1D_ResNet'] = model.best_acc\n",
    "time_result['1D_ResNet'] = model.train_time\n",
    "f1_result['1D_ResNet'] = model.f1score"
   ]
  },
  {
   "cell_type": "code",
   "execution_count": 25,
   "id": "pleasant-information",
   "metadata": {
    "ExecuteTime": {
     "end_time": "2021-07-20T18:10:07.392776Z",
     "start_time": "2021-07-20T16:57:40.102393Z"
    }
   },
   "outputs": [
    {
     "data": {
      "application/vnd.jupyter.widget-view+json": {
       "model_id": "e74bf7928bea4a6998fd462eb3506c49",
       "version_major": 2,
       "version_minor": 0
      },
      "text/plain": [
       "HBox(children=(FloatProgress(value=1.0, bar_style='info', max=1.0), HTML(value='')))"
      ]
     },
     "metadata": {},
     "output_type": "display_data"
    },
    {
     "name": "stdout",
     "output_type": "stream",
     "text": [
      "\n"
     ]
    }
   ],
   "source": [
    "for idx, sk_model in tqdm(enumerate(models)):\n",
    "    if sk_model=='SVC':\n",
    "        train_model=SVC(kernel='rbf', C = 10, gamma=0.001)\n",
    "    elif sk_model=='RandomForest':\n",
    "        train_model=RandomForestClassifier(criterion='gini', n_estimators=200, random_state=4, n_jobs=10)\n",
    "    elif sk_model=='knn':\n",
    "        train_model=KNeighborsClassifier(n_neighbors = n_cat)\n",
    "    elif sk_model=='DecisionTree':\n",
    "        train_model=DecisionTreeClassifier(random_state=10)\n",
    "    elif sk_model=='GradientBoosting':\n",
    "        train_model=GradientBoostingClassifier(random_state=10)\n",
    "    elif sk_model=='XgBoost':\n",
    "        train_model=XGBClassifier(n_estimators=1000)\n",
    "    elif sk_model=='LightGBM':\n",
    "        train_model=LGBMClassifier(n_estimators=1000)\n",
    "    start = time.time()\n",
    "    train_model.fit(X_train, y_train)\n",
    "    time_result[sk_model]=time.time() - start\n",
    "    y_pred = train_model.predict(X_test)\n",
    "    acc_result[sk_model]=accuracy_score(y_test, y_pred)\n",
    "    f1_result[sk_model]=f1_score(y_test, y_pred, average='weighted')"
   ]
  },
  {
   "cell_type": "code",
   "execution_count": 26,
   "id": "scientific-fraction",
   "metadata": {
    "ExecuteTime": {
     "end_time": "2021-07-20T18:10:07.616142Z",
     "start_time": "2021-07-20T18:10:07.503745Z"
    }
   },
   "outputs": [
    {
     "name": "stdout",
     "output_type": "stream",
     "text": [
      "{'1D_ResNet': 467.12326836586, 'SVC': 935.2069072723389, 'RandomForest': 7.659602403640747, 'knn': 3.378364086151123, 'DecisionTree': 8.3752281665802, 'GradientBoosting': 1808.0719537734985, 'XgBoost': 1108.1968343257904, 'LightGBM': 89.36505722999573}\n",
      "{'1D_ResNet': 0.7361978695534065, 'SVC': 0.5285052527927679, 'RandomForest': 0.6919095009393725, 'knn': 0.39032742778391866, 'DecisionTree': 0.5668261194456518, 'GradientBoosting': 0.6943256475245136, 'XgBoost': 0.7459476772982694, 'LightGBM': 0.7485450266835137}\n",
      "Counter({'LightGBM': 0.7478333333333333, 'XgBoost': 0.7459166666666667, '1D_ResNet': 0.7368333333333333, 'GradientBoosting': 0.6958333333333333, 'RandomForest': 0.69275, 'DecisionTree': 0.5666666666666667, 'SVC': 0.53475, 'knn': 0.39725})\n"
     ]
    },
    {
     "data": {
      "image/png": "[encoded data removed]",
      "text/plain": [
       "<Figure size 720x720 with 1 Axes>"
      ]
     },
     "metadata": {
      "needs_background": "light"
     },
     "output_type": "display_data"
    }
   ],
   "source": [
    "print(time_result)\n",
    "print(f1_result)\n",
    "count_and_plot2(acc_result)"
   ]
  },
  {
   "cell_type": "code",
   "execution_count": 32,
   "id": "satisfied-ocean",
   "metadata": {
    "ExecuteTime": {
     "end_time": "2021-07-21T01:27:21.296938Z",
     "start_time": "2021-07-21T01:23:50.883817Z"
    }
   },
   "outputs": [
    {
     "name": "stdout",
     "output_type": "stream",
     "text": [
      "      img  label     glcm1     glcm2     glcm3     glcm4     glcm5     glcm6  \\\n",
      "0  3562.0    0.0  0.512562  0.508774  0.513654  0.508886  0.505305  0.508774   \n",
      "\n",
      "      glcm7     glcm8  ...  dim1_f134  dim1_f135  dim1_f136  dim1_f137  \\\n",
      "0  0.507518  0.508886  ...   1.066969   1.066752   1.066652   1.065967   \n",
      "\n",
      "   dim1_f138  dim1_f139  dim1_f140  dim1_f141  dim1_f142  dim1_f143  \n",
      "0   1.065337   1.064717   1.064397   1.064017   1.062415   1.062267  \n",
      "\n",
      "[1 rows x 514 columns]\n",
      "Counter({0.0: 1805, 2.0: 999, 1.0: 370, 4.0: 295, 3.0: 193})\n"
     ]
    },
    {
     "data": {
      "image/png": "[encoded data removed]",
      "text/plain": [
       "<Figure size 720x720 with 1 Axes>"
      ]
     },
     "metadata": {
      "needs_background": "light"
     },
     "output_type": "display_data"
    },
    {
     "name": "stdout",
     "output_type": "stream",
     "text": [
      "label data shape: (3662,)\n",
      "Original data shape: (3662, 512)\n",
      "Test data shape:  torch.Size([733, 1, 512])\n",
      "model loaded\n",
      "==============================================\n"
     ]
    },
    {
     "name": "stderr",
     "output_type": "stream",
     "text": [
      "/home/seung-ho/anaconda3/envs/cubical/lib/python3.8/site-packages/torch/nn/_reduction.py:43: UserWarning: size_average and reduce args will be deprecated, please use reduction='sum' instead.\n",
      "  warnings.warn(warning.format(ret))\n",
      "/home/seung-ho/anaconda3/envs/cubical/lib/python3.8/site-packages/torch/optim/lr_scheduler.py:117: UserWarning: Detected call of `lr_scheduler.step()` before `optimizer.step()`. In PyTorch 1.1.0 and later, you should call them in the opposite order: `optimizer.step()` before `lr_scheduler.step()`.  Failure to do this will result in PyTorch skipping the first value of the learning rate schedule. See more details at https://pytorch.org/docs/stable/optim.html#how-to-adjust-learning-rate\n",
      "  warnings.warn(\"Detected call of `lr_scheduler.step()` before `optimizer.step()`. \"\n"
     ]
    },
    {
     "data": {
      "application/vnd.jupyter.widget-view+json": {
       "model_id": "093f0b5f3b4b4138a16c29ce2d689b6e",
       "version_major": 2,
       "version_minor": 0
      },
      "text/plain": [
       "HBox(children=(FloatProgress(value=0.0, max=23.0), HTML(value='')))"
      ]
     },
     "metadata": {},
     "output_type": "display_data"
    },
    {
     "name": "stdout",
     "output_type": "stream",
     "text": [
      "\n",
      "Epoch: 0\n",
      "Training accuracy: 7.98907476954592\n",
      "val accuracy: 9.140518417462483\n",
      "F1 score: 0.017752916052260953\n",
      "==============================================\n"
     ]
    },
    {
     "data": {
      "application/vnd.jupyter.widget-view+json": {
       "model_id": "a0fe6076a18a42fd92cfeee5eeb60132",
       "version_major": 2,
       "version_minor": 0
      },
      "text/plain": [
       "HBox(children=(FloatProgress(value=0.0, max=23.0), HTML(value='')))"
      ]
     },
     "metadata": {},
     "output_type": "display_data"
    },
    {
     "name": "stdout",
     "output_type": "stream",
     "text": [
      "\n",
      "Epoch: 1\n",
      "Training accuracy: 64.56128371457835\n",
      "val accuracy: 64.5293315143247\n",
      "F1 score: 0.6305347006118377\n",
      "==============================================\n"
     ]
    },
    {
     "data": {
      "application/vnd.jupyter.widget-view+json": {
       "model_id": "5b0e9a96700a4f289c3d1f46ff14c401",
       "version_major": 2,
       "version_minor": 0
      },
      "text/plain": [
       "HBox(children=(FloatProgress(value=0.0, max=23.0), HTML(value='')))"
      ]
     },
     "metadata": {},
     "output_type": "display_data"
    },
    {
     "name": "stdout",
     "output_type": "stream",
     "text": [
      "\n",
      "Epoch: 2\n",
      "Training accuracy: 65.68794810515534\n",
      "val accuracy: 62.755798090040926\n",
      "F1 score: 0.5710700953893679\n",
      "==============================================\n"
     ]
    },
    {
     "data": {
      "application/vnd.jupyter.widget-view+json": {
       "model_id": "1cb0e2371d274aa39a8123ac94deae89",
       "version_major": 2,
       "version_minor": 0
      },
      "text/plain": [
       "HBox(children=(FloatProgress(value=0.0, max=23.0), HTML(value='')))"
      ]
     },
     "metadata": {},
     "output_type": "display_data"
    },
    {
     "name": "stdout",
     "output_type": "stream",
     "text": [
      "\n",
      "Epoch: 3\n",
      "Training accuracy: 69.54592010925231\n",
      "val accuracy: 68.4856753069577\n",
      "F1 score: 0.5970396048857124\n",
      "==============================================\n"
     ]
    },
    {
     "data": {
      "application/vnd.jupyter.widget-view+json": {
       "model_id": "b49805854f454a8a8e49739460ea73b1",
       "version_major": 2,
       "version_minor": 0
      },
      "text/plain": [
       "HBox(children=(FloatProgress(value=0.0, max=23.0), HTML(value='')))"
      ]
     },
     "metadata": {},
     "output_type": "display_data"
    },
    {
     "name": "stdout",
     "output_type": "stream",
     "text": [
      "\n",
      "Epoch: 4\n",
      "Training accuracy: 66.16592693752133\n",
      "val accuracy: 63.84720327421555\n",
      "F1 score: 0.5728631924588526\n",
      "==============================================\n"
     ]
    },
    {
     "data": {
      "application/vnd.jupyter.widget-view+json": {
       "model_id": "b4666f03c8574213b3fb48c779b91a7a",
       "version_major": 2,
       "version_minor": 0
      },
      "text/plain": [
       "HBox(children=(FloatProgress(value=0.0, max=23.0), HTML(value='')))"
      ]
     },
     "metadata": {},
     "output_type": "display_data"
    },
    {
     "name": "stdout",
     "output_type": "stream",
     "text": [
      "\n",
      "Epoch: 5\n",
      "Training accuracy: 68.48753840901331\n",
      "val accuracy: 66.84856753069577\n",
      "F1 score: 0.5983217325595678\n",
      "==============================================\n"
     ]
    },
    {
     "data": {
      "application/vnd.jupyter.widget-view+json": {
       "model_id": "6975f9b733084c82a3f46e18290f2bee",
       "version_major": 2,
       "version_minor": 0
      },
      "text/plain": [
       "HBox(children=(FloatProgress(value=0.0, max=23.0), HTML(value='')))"
      ]
     },
     "metadata": {},
     "output_type": "display_data"
    },
    {
     "name": "stdout",
     "output_type": "stream",
     "text": [
      "\n",
      "Epoch: 6\n",
      "Training accuracy: 73.02833731649027\n",
      "val accuracy: 69.98635743519782\n",
      "F1 score: 0.6534411427013163\n",
      "==============================================\n"
     ]
    },
    {
     "data": {
      "application/vnd.jupyter.widget-view+json": {
       "model_id": "ff9d3a873b4e445db540135635472a42",
       "version_major": 2,
       "version_minor": 0
      },
      "text/plain": [
       "HBox(children=(FloatProgress(value=0.0, max=23.0), HTML(value='')))"
      ]
     },
     "metadata": {},
     "output_type": "display_data"
    },
    {
     "name": "stdout",
     "output_type": "stream",
     "text": [
      "\n",
      "Epoch: 7\n",
      "Training accuracy: 71.83339023557528\n",
      "val accuracy: 69.57708049113234\n",
      "F1 score: 0.6300676130291857\n",
      "==============================================\n"
     ]
    },
    {
     "data": {
      "application/vnd.jupyter.widget-view+json": {
       "model_id": "3685ea307ccf4b8f863331e3f79b0833",
       "version_major": 2,
       "version_minor": 0
      },
      "text/plain": [
       "HBox(children=(FloatProgress(value=0.0, max=23.0), HTML(value='')))"
      ]
     },
     "metadata": {},
     "output_type": "display_data"
    },
    {
     "name": "stdout",
     "output_type": "stream",
     "text": [
      "\n",
      "Epoch: 8\n",
      "Training accuracy: 70.2628883578013\n",
      "val accuracy: 65.21145975443383\n",
      "F1 score: 0.6156212130150127\n",
      "==============================================\n"
     ]
    },
    {
     "data": {
      "application/vnd.jupyter.widget-view+json": {
       "model_id": "5e124a4f435a419fb195dbd404c23348",
       "version_major": 2,
       "version_minor": 0
      },
      "text/plain": [
       "HBox(children=(FloatProgress(value=0.0, max=23.0), HTML(value='')))"
      ]
     },
     "metadata": {},
     "output_type": "display_data"
    },
    {
     "name": "stdout",
     "output_type": "stream",
     "text": [
      "\n",
      "Epoch: 9\n",
      "Training accuracy: 71.73096620006828\n",
      "val accuracy: 70.12278308321964\n",
      "F1 score: 0.6266842740183725\n",
      "==============================================\n"
     ]
    },
    {
     "data": {
      "application/vnd.jupyter.widget-view+json": {
       "model_id": "3a61a9401de84480a54570864f81b052",
       "version_major": 2,
       "version_minor": 0
      },
      "text/plain": [
       "HBox(children=(FloatProgress(value=0.0, max=23.0), HTML(value='')))"
      ]
     },
     "metadata": {},
     "output_type": "display_data"
    },
    {
     "name": "stdout",
     "output_type": "stream",
     "text": [
      "\n",
      "Epoch: 10\n",
      "Training accuracy: 57.01604643222943\n",
      "val accuracy: 54.02455661664393\n",
      "F1 score: 0.4363786201257317\n",
      "==============================================\n"
     ]
    },
    {
     "data": {
      "application/vnd.jupyter.widget-view+json": {
       "model_id": "58bff7da9eca4c98aa6b4db645543abf",
       "version_major": 2,
       "version_minor": 0
      },
      "text/plain": [
       "HBox(children=(FloatProgress(value=0.0, max=23.0), HTML(value='')))"
      ]
     },
     "metadata": {},
     "output_type": "display_data"
    },
    {
     "name": "stdout",
     "output_type": "stream",
     "text": [
      "\n",
      "Epoch: 11\n",
      "Training accuracy: 74.63298053943325\n",
      "val accuracy: 69.03137789904503\n",
      "F1 score: 0.6694774671562793\n",
      "==============================================\n"
     ]
    },
    {
     "data": {
      "application/vnd.jupyter.widget-view+json": {
       "model_id": "330c3c499df044f3a0ba6236342e03cb",
       "version_major": 2,
       "version_minor": 0
      },
      "text/plain": [
       "HBox(children=(FloatProgress(value=0.0, max=23.0), HTML(value='')))"
      ]
     },
     "metadata": {},
     "output_type": "display_data"
    },
    {
     "name": "stdout",
     "output_type": "stream",
     "text": [
      "\n",
      "Epoch: 12\n",
      "Training accuracy: 74.39399112325026\n",
      "val accuracy: 70.66848567530695\n",
      "F1 score: 0.6672007571716589\n",
      "==============================================\n"
     ]
    },
    {
     "data": {
      "application/vnd.jupyter.widget-view+json": {
       "model_id": "959880d94a2a425c97549ce900c44c73",
       "version_major": 2,
       "version_minor": 0
      },
      "text/plain": [
       "HBox(children=(FloatProgress(value=0.0, max=23.0), HTML(value='')))"
      ]
     },
     "metadata": {},
     "output_type": "display_data"
    },
    {
     "name": "stdout",
     "output_type": "stream",
     "text": [
      "\n",
      "Epoch: 13\n",
      "Training accuracy: 61.96654148173438\n",
      "val accuracy: 56.61664392905866\n",
      "F1 score: 0.47641716009939516\n",
      "==============================================\n"
     ]
    },
    {
     "data": {
      "application/vnd.jupyter.widget-view+json": {
       "model_id": "f4f6d73a3f7948799a7bd5e84ffaedf3",
       "version_major": 2,
       "version_minor": 0
      },
      "text/plain": [
       "HBox(children=(FloatProgress(value=0.0, max=23.0), HTML(value='')))"
      ]
     },
     "metadata": {},
     "output_type": "display_data"
    },
    {
     "name": "stdout",
     "output_type": "stream",
     "text": [
      "\n",
      "Epoch: 14\n",
      "Training accuracy: 72.96005462615227\n",
      "val accuracy: 68.8949522510232\n",
      "F1 score: 0.6363398835412982\n",
      "==============================================\n"
     ]
    },
    {
     "data": {
      "application/vnd.jupyter.widget-view+json": {
       "model_id": "235d770def5e4ed19a7b087d2757139d",
       "version_major": 2,
       "version_minor": 0
      },
      "text/plain": [
       "HBox(children=(FloatProgress(value=0.0, max=23.0), HTML(value='')))"
      ]
     },
     "metadata": {},
     "output_type": "display_data"
    },
    {
     "name": "stdout",
     "output_type": "stream",
     "text": [
      "\n",
      "Epoch: 15\n",
      "Training accuracy: 72.00409696142027\n",
      "val accuracy: 68.07639836289222\n",
      "F1 score: 0.645496026187365\n",
      "==============================================\n"
     ]
    },
    {
     "data": {
      "application/vnd.jupyter.widget-view+json": {
       "model_id": "0e869bbd41c84b738982fd746d183fc3",
       "version_major": 2,
       "version_minor": 0
      },
      "text/plain": [
       "HBox(children=(FloatProgress(value=0.0, max=23.0), HTML(value='')))"
      ]
     },
     "metadata": {},
     "output_type": "display_data"
    },
    {
     "name": "stdout",
     "output_type": "stream",
     "text": [
      "\n",
      "Epoch: 16\n",
      "Training accuracy: 59.9522021167634\n",
      "val accuracy: 56.20736698499318\n",
      "F1 score: 0.48073486769242935\n",
      "==============================================\n"
     ]
    },
    {
     "data": {
      "application/vnd.jupyter.widget-view+json": {
       "model_id": "9a31bb7d8e1245f2b915765de922ea08",
       "version_major": 2,
       "version_minor": 0
      },
      "text/plain": [
       "HBox(children=(FloatProgress(value=0.0, max=23.0), HTML(value='')))"
      ]
     },
     "metadata": {},
     "output_type": "display_data"
    },
    {
     "name": "stdout",
     "output_type": "stream",
     "text": [
      "\n",
      "Epoch: 17\n",
      "Training accuracy: 70.50187777398429\n",
      "val accuracy: 63.02864938608458\n",
      "F1 score: 0.6019785720571266\n",
      "==============================================\n"
     ]
    },
    {
     "data": {
      "application/vnd.jupyter.widget-view+json": {
       "model_id": "e4857dc96f4d4bc39d4ecc6fb42e4a2e",
       "version_major": 2,
       "version_minor": 0
      },
      "text/plain": [
       "HBox(children=(FloatProgress(value=0.0, max=23.0), HTML(value='')))"
      ]
     },
     "metadata": {},
     "output_type": "display_data"
    },
    {
     "name": "stdout",
     "output_type": "stream",
     "text": [
      "\n",
      "Epoch: 18\n",
      "Training accuracy: 75.11095937179925\n",
      "val accuracy: 67.25784447476126\n",
      "F1 score: 0.6450323848828786\n",
      "==============================================\n"
     ]
    },
    {
     "data": {
      "application/vnd.jupyter.widget-view+json": {
       "model_id": "0718b71d99f04bcc85f9509f78daee0d",
       "version_major": 2,
       "version_minor": 0
      },
      "text/plain": [
       "HBox(children=(FloatProgress(value=0.0, max=23.0), HTML(value='')))"
      ]
     },
     "metadata": {},
     "output_type": "display_data"
    },
    {
     "name": "stdout",
     "output_type": "stream",
     "text": [
      "\n",
      "Epoch: 19\n",
      "Training accuracy: 73.71116421987027\n",
      "val accuracy: 69.84993178717599\n",
      "F1 score: 0.6436802424059447\n",
      "==============================================\n"
     ]
    },
    {
     "data": {
      "application/vnd.jupyter.widget-view+json": {
       "model_id": "ffbc3d19319345799a5a1d78074a55a4",
       "version_major": 2,
       "version_minor": 0
      },
      "text/plain": [
       "HBox(children=(FloatProgress(value=0.0, max=23.0), HTML(value='')))"
      ]
     },
     "metadata": {},
     "output_type": "display_data"
    },
    {
     "name": "stdout",
     "output_type": "stream",
     "text": [
      "\n",
      "Epoch: 20\n",
      "Training accuracy: 75.34994878798224\n",
      "val accuracy: 68.4856753069577\n",
      "F1 score: 0.6342381849467554\n",
      "==============================================\n"
     ]
    },
    {
     "data": {
      "application/vnd.jupyter.widget-view+json": {
       "model_id": "312996f18e7d4aeba8147b69fb9184dc",
       "version_major": 2,
       "version_minor": 0
      },
      "text/plain": [
       "HBox(children=(FloatProgress(value=0.0, max=23.0), HTML(value='')))"
      ]
     },
     "metadata": {},
     "output_type": "display_data"
    },
    {
     "name": "stdout",
     "output_type": "stream",
     "text": [
      "\n",
      "Epoch: 21\n",
      "Training accuracy: 76.64731990440423\n",
      "val accuracy: 66.9849931787176\n",
      "F1 score: 0.6772122509996618\n",
      "==============================================\n"
     ]
    },
    {
     "data": {
      "application/vnd.jupyter.widget-view+json": {
       "model_id": "a8047e13d6a94a06b3782f04cba18fe8",
       "version_major": 2,
       "version_minor": 0
      },
      "text/plain": [
       "HBox(children=(FloatProgress(value=0.0, max=23.0), HTML(value='')))"
      ]
     },
     "metadata": {},
     "output_type": "display_data"
    },
    {
     "name": "stdout",
     "output_type": "stream",
     "text": [
      "\n",
      "Epoch: 22\n",
      "Training accuracy: 77.97883236599522\n",
      "val accuracy: 68.62210095497953\n",
      "F1 score: 0.6615236114424219\n",
      "==============================================\n"
     ]
    },
    {
     "data": {
      "application/vnd.jupyter.widget-view+json": {
       "model_id": "7cf0a60284734836a8a87b8c9469feda",
       "version_major": 2,
       "version_minor": 0
      },
      "text/plain": [
       "HBox(children=(FloatProgress(value=0.0, max=23.0), HTML(value='')))"
      ]
     },
     "metadata": {},
     "output_type": "display_data"
    },
    {
     "name": "stdout",
     "output_type": "stream",
     "text": [
      "\n",
      "Epoch: 23\n",
      "Training accuracy: 75.58893820416525\n",
      "val accuracy: 67.66712141882674\n",
      "F1 score: 0.6478722684827414\n",
      "==============================================\n"
     ]
    },
    {
     "data": {
      "application/vnd.jupyter.widget-view+json": {
       "model_id": "0166d38963c7450fa204c4080f6e7280",
       "version_major": 2,
       "version_minor": 0
      },
      "text/plain": [
       "HBox(children=(FloatProgress(value=0.0, max=23.0), HTML(value='')))"
      ]
     },
     "metadata": {},
     "output_type": "display_data"
    },
    {
     "name": "stdout",
     "output_type": "stream",
     "text": [
      "\n",
      "Epoch: 24\n",
      "Training accuracy: 79.3103448275862\n",
      "val accuracy: 69.44065484311051\n",
      "F1 score: 0.6724233675117707\n",
      "==============================================\n"
     ]
    },
    {
     "data": {
      "application/vnd.jupyter.widget-view+json": {
       "model_id": "d3ad9dff79404847aca46c1cb78f3382",
       "version_major": 2,
       "version_minor": 0
      },
      "text/plain": [
       "HBox(children=(FloatProgress(value=0.0, max=23.0), HTML(value='')))"
      ]
     },
     "metadata": {},
     "output_type": "display_data"
    },
    {
     "name": "stdout",
     "output_type": "stream",
     "text": [
      "\n",
      "Epoch: 25\n",
      "Training accuracy: 76.85216797541823\n",
      "val accuracy: 66.84856753069577\n",
      "F1 score: 0.6537366167953219\n",
      "==============================================\n"
     ]
    },
    {
     "data": {
      "application/vnd.jupyter.widget-view+json": {
       "model_id": "3d6cfb353cce409a9051a031d1eee243",
       "version_major": 2,
       "version_minor": 0
      },
      "text/plain": [
       "HBox(children=(FloatProgress(value=0.0, max=23.0), HTML(value='')))"
      ]
     },
     "metadata": {},
     "output_type": "display_data"
    },
    {
     "name": "stdout",
     "output_type": "stream",
     "text": [
      "\n",
      "Epoch: 26\n",
      "Training accuracy: 76.78388528508023\n",
      "val accuracy: 69.71350613915416\n",
      "F1 score: 0.6487313665993848\n",
      "==============================================\n"
     ]
    },
    {
     "data": {
      "application/vnd.jupyter.widget-view+json": {
       "model_id": "4821bcd73fe04779a73312c5d74f9138",
       "version_major": 2,
       "version_minor": 0
      },
      "text/plain": [
       "HBox(children=(FloatProgress(value=0.0, max=23.0), HTML(value='')))"
      ]
     },
     "metadata": {},
     "output_type": "display_data"
    },
    {
     "name": "stdout",
     "output_type": "stream",
     "text": [
      "\n",
      "Epoch: 27\n",
      "Training accuracy: 79.9590303857972\n",
      "val accuracy: 67.53069577080491\n",
      "F1 score: 0.6453695684643247\n",
      "==============================================\n"
     ]
    },
    {
     "data": {
      "application/vnd.jupyter.widget-view+json": {
       "model_id": "58c9727d3f734b5bbab4c03616ffcb3b",
       "version_major": 2,
       "version_minor": 0
      },
      "text/plain": [
       "HBox(children=(FloatProgress(value=0.0, max=23.0), HTML(value='')))"
      ]
     },
     "metadata": {},
     "output_type": "display_data"
    },
    {
     "name": "stdout",
     "output_type": "stream",
     "text": [
      "\n",
      "Epoch: 28\n",
      "Training accuracy: 80.4028678729942\n",
      "val accuracy: 70.3956343792633\n",
      "F1 score: 0.6957577783037172\n",
      "==============================================\n"
     ]
    },
    {
     "data": {
      "application/vnd.jupyter.widget-view+json": {
       "model_id": "e7437573f5224c78aff8626c45bb2787",
       "version_major": 2,
       "version_minor": 0
      },
      "text/plain": [
       "HBox(children=(FloatProgress(value=0.0, max=23.0), HTML(value='')))"
      ]
     },
     "metadata": {},
     "output_type": "display_data"
    },
    {
     "name": "stdout",
     "output_type": "stream",
     "text": [
      "\n",
      "Epoch: 29\n",
      "Training accuracy: 79.03721406623421\n",
      "val accuracy: 65.89358799454297\n",
      "F1 score: 0.6322531792258266\n",
      "==============================================\n"
     ]
    },
    {
     "data": {
      "application/vnd.jupyter.widget-view+json": {
       "model_id": "27cd55574c6648e9a61d6e0eacfbb561",
       "version_major": 2,
       "version_minor": 0
      },
      "text/plain": [
       "HBox(children=(FloatProgress(value=0.0, max=23.0), HTML(value='')))"
      ]
     },
     "metadata": {},
     "output_type": "display_data"
    },
    {
     "name": "stdout",
     "output_type": "stream",
     "text": [
      "\n",
      "Epoch: 30\n",
      "Training accuracy: 83.85114373506316\n",
      "val accuracy: 66.9849931787176\n",
      "F1 score: 0.6650536849257107\n",
      "==============================================\n"
     ]
    },
    {
     "data": {
      "application/vnd.jupyter.widget-view+json": {
       "model_id": "713c7ae97478427cb92382db04e02325",
       "version_major": 2,
       "version_minor": 0
      },
      "text/plain": [
       "HBox(children=(FloatProgress(value=0.0, max=23.0), HTML(value='')))"
      ]
     },
     "metadata": {},
     "output_type": "display_data"
    },
    {
     "name": "stdout",
     "output_type": "stream",
     "text": [
      "\n",
      "Epoch: 31\n",
      "Training accuracy: 77.87640833048822\n",
      "val accuracy: 68.07639836289222\n",
      "F1 score: 0.6512704700138741\n",
      "==============================================\n"
     ]
    },
    {
     "data": {
      "application/vnd.jupyter.widget-view+json": {
       "model_id": "d9b8338c4e6e4f44861ad8280572ba5f",
       "version_major": 2,
       "version_minor": 0
      },
      "text/plain": [
       "HBox(children=(FloatProgress(value=0.0, max=23.0), HTML(value='')))"
      ]
     },
     "metadata": {},
     "output_type": "display_data"
    },
    {
     "name": "stdout",
     "output_type": "stream",
     "text": [
      "\n",
      "Epoch: 32\n",
      "Training accuracy: 80.8467053601912\n",
      "val accuracy: 65.48431105047749\n",
      "F1 score: 0.6551444291054824\n",
      "==============================================\n"
     ]
    },
    {
     "data": {
      "application/vnd.jupyter.widget-view+json": {
       "model_id": "758e0b43595a44f6b3bd21f1b0ddce42",
       "version_major": 2,
       "version_minor": 0
      },
      "text/plain": [
       "HBox(children=(FloatProgress(value=0.0, max=23.0), HTML(value='')))"
      ]
     },
     "metadata": {},
     "output_type": "display_data"
    },
    {
     "name": "stdout",
     "output_type": "stream",
     "text": [
      "\n",
      "Epoch: 33\n",
      "Training accuracy: 82.72447934448617\n",
      "val accuracy: 68.62210095497953\n",
      "F1 score: 0.6828884282052359\n",
      "==============================================\n"
     ]
    },
    {
     "data": {
      "application/vnd.jupyter.widget-view+json": {
       "model_id": "c562da207d3e423287ea6572b30e111b",
       "version_major": 2,
       "version_minor": 0
      },
      "text/plain": [
       "HBox(children=(FloatProgress(value=0.0, max=23.0), HTML(value='')))"
      ]
     },
     "metadata": {},
     "output_type": "display_data"
    },
    {
     "name": "stdout",
     "output_type": "stream",
     "text": [
      "\n",
      "Epoch: 34\n",
      "Training accuracy: 84.90952543530216\n",
      "val accuracy: 64.93860845839018\n",
      "F1 score: 0.6414871850596919\n",
      "==============================================\n"
     ]
    },
    {
     "data": {
      "application/vnd.jupyter.widget-view+json": {
       "model_id": "4785ae9c3f5144c4bc306daa1a6fa7f1",
       "version_major": 2,
       "version_minor": 0
      },
      "text/plain": [
       "HBox(children=(FloatProgress(value=0.0, max=23.0), HTML(value='')))"
      ]
     },
     "metadata": {},
     "output_type": "display_data"
    },
    {
     "name": "stdout",
     "output_type": "stream",
     "text": [
      "\n",
      "Epoch: 35\n",
      "Training accuracy: 82.58791396381018\n",
      "val accuracy: 66.43929058663029\n",
      "F1 score: 0.6740474553435444\n",
      "==============================================\n"
     ]
    },
    {
     "data": {
      "application/vnd.jupyter.widget-view+json": {
       "model_id": "f4d6e49621914023b1fe14e074068b1b",
       "version_major": 2,
       "version_minor": 0
      },
      "text/plain": [
       "HBox(children=(FloatProgress(value=0.0, max=23.0), HTML(value='')))"
      ]
     },
     "metadata": {},
     "output_type": "display_data"
    },
    {
     "name": "stdout",
     "output_type": "stream",
     "text": [
      "\n",
      "Epoch: 36\n",
      "Training accuracy: 82.31478320245817\n",
      "val accuracy: 66.43929058663029\n",
      "F1 score: 0.6527711910538173\n",
      "==============================================\n"
     ]
    },
    {
     "data": {
      "application/vnd.jupyter.widget-view+json": {
       "model_id": "a80d3d8af49140799d213ee5668cddbf",
       "version_major": 2,
       "version_minor": 0
      },
      "text/plain": [
       "HBox(children=(FloatProgress(value=0.0, max=23.0), HTML(value='')))"
      ]
     },
     "metadata": {},
     "output_type": "display_data"
    },
    {
     "name": "stdout",
     "output_type": "stream",
     "text": [
      "\n",
      "Epoch: 37\n",
      "Training accuracy: 75.99863434619324\n",
      "val accuracy: 66.57571623465212\n",
      "F1 score: 0.630726135774588\n",
      "==============================================\n"
     ]
    },
    {
     "data": {
      "application/vnd.jupyter.widget-view+json": {
       "model_id": "955959f4a26049e5b3045220c8de4583",
       "version_major": 2,
       "version_minor": 0
      },
      "text/plain": [
       "HBox(children=(FloatProgress(value=0.0, max=23.0), HTML(value='')))"
      ]
     },
     "metadata": {},
     "output_type": "display_data"
    },
    {
     "name": "stdout",
     "output_type": "stream",
     "text": [
      "\n",
      "Epoch: 38\n",
      "Training accuracy: 84.12427449641515\n",
      "val accuracy: 65.75716234652114\n",
      "F1 score: 0.641065462163912\n",
      "==============================================\n"
     ]
    },
    {
     "data": {
      "application/vnd.jupyter.widget-view+json": {
       "model_id": "2d024686e973462294cf4df1bdbf274e",
       "version_major": 2,
       "version_minor": 0
      },
      "text/plain": [
       "HBox(children=(FloatProgress(value=0.0, max=23.0), HTML(value='')))"
      ]
     },
     "metadata": {},
     "output_type": "display_data"
    },
    {
     "name": "stdout",
     "output_type": "stream",
     "text": [
      "\n",
      "Epoch: 39\n",
      "Training accuracy: 84.87538409013315\n",
      "val accuracy: 61.391541609822646\n",
      "F1 score: 0.6147552828831286\n",
      "==============================================\n"
     ]
    },
    {
     "data": {
      "application/vnd.jupyter.widget-view+json": {
       "model_id": "e2650a48da7d449b9514db10bb2ae9f3",
       "version_major": 2,
       "version_minor": 0
      },
      "text/plain": [
       "HBox(children=(FloatProgress(value=0.0, max=23.0), HTML(value='')))"
      ]
     },
     "metadata": {},
     "output_type": "display_data"
    },
    {
     "name": "stdout",
     "output_type": "stream",
     "text": [
      "\n",
      "Epoch: 40\n",
      "Training accuracy: 83.61215431888016\n",
      "val accuracy: 63.43792633015007\n",
      "F1 score: 0.6122919375598114\n",
      "==============================================\n"
     ]
    },
    {
     "data": {
      "application/vnd.jupyter.widget-view+json": {
       "model_id": "497715b1d1a04945a94036d2d4a1c407",
       "version_major": 2,
       "version_minor": 0
      },
      "text/plain": [
       "HBox(children=(FloatProgress(value=0.0, max=23.0), HTML(value='')))"
      ]
     },
     "metadata": {},
     "output_type": "display_data"
    },
    {
     "name": "stdout",
     "output_type": "stream",
     "text": [
      "\n",
      "Epoch: 41\n",
      "Training accuracy: 85.86548310003414\n",
      "val accuracy: 67.25784447476126\n",
      "F1 score: 0.660646702806505\n",
      "==============================================\n"
     ]
    },
    {
     "data": {
      "application/vnd.jupyter.widget-view+json": {
       "model_id": "007623cd5d384dd2a18f3a836f9b93a8",
       "version_major": 2,
       "version_minor": 0
      },
      "text/plain": [
       "HBox(children=(FloatProgress(value=0.0, max=23.0), HTML(value='')))"
      ]
     },
     "metadata": {},
     "output_type": "display_data"
    },
    {
     "name": "stdout",
     "output_type": "stream",
     "text": [
      "\n",
      "Epoch: 42\n",
      "Training accuracy: 90.0307272106521\n",
      "val accuracy: 68.07639836289222\n",
      "F1 score: 0.6566203836580998\n",
      "==============================================\n"
     ]
    },
    {
     "data": {
      "application/vnd.jupyter.widget-view+json": {
       "model_id": "99d97231b09c461f9b9176d0a1ac2da0",
       "version_major": 2,
       "version_minor": 0
      },
      "text/plain": [
       "HBox(children=(FloatProgress(value=0.0, max=23.0), HTML(value='')))"
      ]
     },
     "metadata": {},
     "output_type": "display_data"
    },
    {
     "name": "stdout",
     "output_type": "stream",
     "text": [
      "\n",
      "Epoch: 43\n",
      "Training accuracy: 91.63537043359509\n",
      "val accuracy: 66.84856753069577\n",
      "F1 score: 0.6548309409227278\n",
      "==============================================\n"
     ]
    },
    {
     "data": {
      "application/vnd.jupyter.widget-view+json": {
       "model_id": "12c249125b264de68fb55e943cec25a8",
       "version_major": 2,
       "version_minor": 0
      },
      "text/plain": [
       "HBox(children=(FloatProgress(value=0.0, max=23.0), HTML(value='')))"
      ]
     },
     "metadata": {},
     "output_type": "display_data"
    },
    {
     "name": "stdout",
     "output_type": "stream",
     "text": [
      "\n",
      "Epoch: 44\n",
      "Training accuracy: 88.22123591669512\n",
      "val accuracy: 67.9399727148704\n",
      "F1 score: 0.6591399458801174\n",
      "==============================================\n"
     ]
    },
    {
     "data": {
      "application/vnd.jupyter.widget-view+json": {
       "model_id": "9cd85dbb56bc42d8b4c76cde07d74df8",
       "version_major": 2,
       "version_minor": 0
      },
      "text/plain": [
       "HBox(children=(FloatProgress(value=0.0, max=23.0), HTML(value='')))"
      ]
     },
     "metadata": {},
     "output_type": "display_data"
    },
    {
     "name": "stdout",
     "output_type": "stream",
     "text": [
      "\n",
      "Epoch: 45\n",
      "Training accuracy: 89.34790030727211\n",
      "val accuracy: 64.80218281036835\n",
      "F1 score: 0.6456808264040382\n",
      "==============================================\n"
     ]
    },
    {
     "data": {
      "application/vnd.jupyter.widget-view+json": {
       "model_id": "3d3969ca978b420a82f87d3f02fa28a1",
       "version_major": 2,
       "version_minor": 0
      },
      "text/plain": [
       "HBox(children=(FloatProgress(value=0.0, max=23.0), HTML(value='')))"
      ]
     },
     "metadata": {},
     "output_type": "display_data"
    },
    {
     "name": "stdout",
     "output_type": "stream",
     "text": [
      "\n",
      "Epoch: 46\n",
      "Training accuracy: 93.47900307272107\n",
      "val accuracy: 67.12141882673943\n",
      "F1 score: 0.6747573834103641\n",
      "==============================================\n"
     ]
    },
    {
     "data": {
      "application/vnd.jupyter.widget-view+json": {
       "model_id": "eae1a266cac04ce298bd097e59133109",
       "version_major": 2,
       "version_minor": 0
      },
      "text/plain": [
       "HBox(children=(FloatProgress(value=0.0, max=23.0), HTML(value='')))"
      ]
     },
     "metadata": {},
     "output_type": "display_data"
    },
    {
     "name": "stdout",
     "output_type": "stream",
     "text": [
      "\n",
      "Epoch: 47\n",
      "Training accuracy: 89.2796176169341\n",
      "val accuracy: 61.6643929058663\n",
      "F1 score: 0.6141640807312528\n",
      "==============================================\n"
     ]
    },
    {
     "data": {
      "application/vnd.jupyter.widget-view+json": {
       "model_id": "07e936bf75454c5182838bc002c38830",
       "version_major": 2,
       "version_minor": 0
      },
      "text/plain": [
       "HBox(children=(FloatProgress(value=0.0, max=23.0), HTML(value='')))"
      ]
     },
     "metadata": {},
     "output_type": "display_data"
    },
    {
     "name": "stdout",
     "output_type": "stream",
     "text": [
      "\n",
      "Epoch: 48\n",
      "Training accuracy: 89.9283031751451\n",
      "val accuracy: 66.43929058663029\n",
      "F1 score: 0.641133983057119\n",
      "==============================================\n"
     ]
    },
    {
     "data": {
      "application/vnd.jupyter.widget-view+json": {
       "model_id": "4d98227d94f24b9591f315f3e8020389",
       "version_major": 2,
       "version_minor": 0
      },
      "text/plain": [
       "HBox(children=(FloatProgress(value=0.0, max=23.0), HTML(value='')))"
      ]
     },
     "metadata": {},
     "output_type": "display_data"
    },
    {
     "name": "stdout",
     "output_type": "stream",
     "text": [
      "\n",
      "Epoch: 49\n",
      "Training accuracy: 97.57596449300102\n",
      "val accuracy: 66.16643929058662\n",
      "F1 score: 0.6606499258212535\n",
      "==============================================\n"
     ]
    },
    {
     "data": {
      "application/vnd.jupyter.widget-view+json": {
       "model_id": "f6935d1a01f140b2bf5b899dd32714a4",
       "version_major": 2,
       "version_minor": 0
      },
      "text/plain": [
       "HBox(children=(FloatProgress(value=0.0, max=23.0), HTML(value='')))"
      ]
     },
     "metadata": {},
     "output_type": "display_data"
    },
    {
     "name": "stdout",
     "output_type": "stream",
     "text": [
      "\n",
      "Epoch: 50\n",
      "Training accuracy: 98.15636736087401\n",
      "val accuracy: 66.43929058663029\n",
      "F1 score: 0.6623509220015077\n",
      "==============================================\n"
     ]
    },
    {
     "data": {
      "application/vnd.jupyter.widget-view+json": {
       "model_id": "2a3e99cc56034836bd8ff8fcd80f6a8b",
       "version_major": 2,
       "version_minor": 0
      },
      "text/plain": [
       "HBox(children=(FloatProgress(value=0.0, max=23.0), HTML(value='')))"
      ]
     },
     "metadata": {},
     "output_type": "display_data"
    },
    {
     "name": "stdout",
     "output_type": "stream",
     "text": [
      "\n",
      "Epoch: 51\n",
      "Training accuracy: 98.22465005121202\n",
      "val accuracy: 67.12141882673943\n",
      "F1 score: 0.6687149600235855\n",
      "==============================================\n"
     ]
    },
    {
     "data": {
      "application/vnd.jupyter.widget-view+json": {
       "model_id": "5683bb8daeaa4d7ea3e4542fdcdc935c",
       "version_major": 2,
       "version_minor": 0
      },
      "text/plain": [
       "HBox(children=(FloatProgress(value=0.0, max=23.0), HTML(value='')))"
      ]
     },
     "metadata": {},
     "output_type": "display_data"
    },
    {
     "name": "stdout",
     "output_type": "stream",
     "text": [
      "\n",
      "Epoch: 52\n",
      "Training accuracy: 98.36121543188801\n",
      "val accuracy: 67.39427012278308\n",
      "F1 score: 0.6705453177158102\n",
      "==============================================\n"
     ]
    },
    {
     "data": {
      "application/vnd.jupyter.widget-view+json": {
       "model_id": "5157638551fe4ec2b40b1b31428f3180",
       "version_major": 2,
       "version_minor": 0
      },
      "text/plain": [
       "HBox(children=(FloatProgress(value=0.0, max=23.0), HTML(value='')))"
      ]
     },
     "metadata": {},
     "output_type": "display_data"
    },
    {
     "name": "stdout",
     "output_type": "stream",
     "text": [
      "\n",
      "Epoch: 53\n",
      "Training accuracy: 98.53192215773302\n",
      "val accuracy: 66.9849931787176\n",
      "F1 score: 0.6679058333092892\n",
      "==============================================\n"
     ]
    },
    {
     "data": {
      "application/vnd.jupyter.widget-view+json": {
       "model_id": "2a834073aa9c4e37a8b1e06710684369",
       "version_major": 2,
       "version_minor": 0
      },
      "text/plain": [
       "HBox(children=(FloatProgress(value=0.0, max=23.0), HTML(value='')))"
      ]
     },
     "metadata": {},
     "output_type": "display_data"
    },
    {
     "name": "stdout",
     "output_type": "stream",
     "text": [
      "\n",
      "Epoch: 54\n",
      "Training accuracy: 98.53192215773302\n",
      "val accuracy: 67.66712141882674\n",
      "F1 score: 0.6733891565903088\n",
      "==============================================\n"
     ]
    },
    {
     "data": {
      "application/vnd.jupyter.widget-view+json": {
       "model_id": "2c07cc981684442d9d9befc40040cbc6",
       "version_major": 2,
       "version_minor": 0
      },
      "text/plain": [
       "HBox(children=(FloatProgress(value=0.0, max=23.0), HTML(value='')))"
      ]
     },
     "metadata": {},
     "output_type": "display_data"
    },
    {
     "name": "stdout",
     "output_type": "stream",
     "text": [
      "\n",
      "Epoch: 55\n",
      "Training accuracy: 98.66848753840901\n",
      "val accuracy: 67.53069577080491\n",
      "F1 score: 0.6721131342544326\n",
      "==============================================\n"
     ]
    },
    {
     "data": {
      "application/vnd.jupyter.widget-view+json": {
       "model_id": "22f67ad9bedd406ba8ae6f5935074c77",
       "version_major": 2,
       "version_minor": 0
      },
      "text/plain": [
       "HBox(children=(FloatProgress(value=0.0, max=23.0), HTML(value='')))"
      ]
     },
     "metadata": {},
     "output_type": "display_data"
    },
    {
     "name": "stdout",
     "output_type": "stream",
     "text": [
      "\n",
      "Epoch: 56\n",
      "Training accuracy: 98.73677022874702\n",
      "val accuracy: 68.07639836289222\n",
      "F1 score: 0.67723656253585\n",
      "==============================================\n"
     ]
    },
    {
     "data": {
      "application/vnd.jupyter.widget-view+json": {
       "model_id": "a090bc15577b4b0d9219ba8ab12f3986",
       "version_major": 2,
       "version_minor": 0
      },
      "text/plain": [
       "HBox(children=(FloatProgress(value=0.0, max=23.0), HTML(value='')))"
      ]
     },
     "metadata": {},
     "output_type": "display_data"
    },
    {
     "name": "stdout",
     "output_type": "stream",
     "text": [
      "\n",
      "Epoch: 57\n",
      "Training accuracy: 98.60020484807102\n",
      "val accuracy: 68.21282401091405\n",
      "F1 score: 0.6782928834558967\n",
      "==============================================\n"
     ]
    },
    {
     "data": {
      "application/vnd.jupyter.widget-view+json": {
       "model_id": "e2fc3f53f6c74840a2d240a24763789a",
       "version_major": 2,
       "version_minor": 0
      },
      "text/plain": [
       "HBox(children=(FloatProgress(value=0.0, max=23.0), HTML(value='')))"
      ]
     },
     "metadata": {},
     "output_type": "display_data"
    },
    {
     "name": "stdout",
     "output_type": "stream",
     "text": [
      "\n",
      "Epoch: 58\n",
      "Training accuracy: 98.83919426425402\n",
      "val accuracy: 67.12141882673943\n",
      "F1 score: 0.6693890089759343\n",
      "==============================================\n"
     ]
    },
    {
     "data": {
      "application/vnd.jupyter.widget-view+json": {
       "model_id": "770403aca8194c35a9d6d33e1d98d6a2",
       "version_major": 2,
       "version_minor": 0
      },
      "text/plain": [
       "HBox(children=(FloatProgress(value=0.0, max=23.0), HTML(value='')))"
      ]
     },
     "metadata": {},
     "output_type": "display_data"
    },
    {
     "name": "stdout",
     "output_type": "stream",
     "text": [
      "\n",
      "Epoch: 59\n",
      "Training accuracy: 98.87333560942301\n",
      "val accuracy: 67.25784447476126\n",
      "F1 score: 0.6693492475937584\n",
      "==============================================\n"
     ]
    },
    {
     "data": {
      "application/vnd.jupyter.widget-view+json": {
       "model_id": "90014a3c5aa24fdd86380be285fcc138",
       "version_major": 2,
       "version_minor": 0
      },
      "text/plain": [
       "HBox(children=(FloatProgress(value=0.0, max=23.0), HTML(value='')))"
      ]
     },
     "metadata": {},
     "output_type": "display_data"
    },
    {
     "name": "stdout",
     "output_type": "stream",
     "text": [
      "\n",
      "Epoch: 60\n",
      "Training accuracy: 98.83919426425402\n",
      "val accuracy: 68.07639836289222\n",
      "F1 score: 0.6760801767672144\n",
      "==============================================\n"
     ]
    },
    {
     "data": {
      "application/vnd.jupyter.widget-view+json": {
       "model_id": "0df02e54cbb442e5aa7a8e05aaf30028",
       "version_major": 2,
       "version_minor": 0
      },
      "text/plain": [
       "HBox(children=(FloatProgress(value=0.0, max=23.0), HTML(value='')))"
      ]
     },
     "metadata": {},
     "output_type": "display_data"
    },
    {
     "name": "stdout",
     "output_type": "stream",
     "text": [
      "\n",
      "Epoch: 61\n",
      "Training accuracy: 98.83919426425402\n",
      "val accuracy: 68.07639836289222\n",
      "F1 score: 0.6775327688928203\n",
      "==============================================\n"
     ]
    },
    {
     "data": {
      "application/vnd.jupyter.widget-view+json": {
       "model_id": "4b0e523a36cf421aba0cf09de1537092",
       "version_major": 2,
       "version_minor": 0
      },
      "text/plain": [
       "HBox(children=(FloatProgress(value=0.0, max=23.0), HTML(value='')))"
      ]
     },
     "metadata": {},
     "output_type": "display_data"
    },
    {
     "name": "stdout",
     "output_type": "stream",
     "text": [
      "\n",
      "Epoch: 62\n",
      "Training accuracy: 98.90747695459201\n",
      "val accuracy: 68.21282401091405\n",
      "F1 score: 0.6776087776465387\n",
      "==============================================\n"
     ]
    },
    {
     "data": {
      "application/vnd.jupyter.widget-view+json": {
       "model_id": "77a8e8b414674c118bb6a2bc82b412fd",
       "version_major": 2,
       "version_minor": 0
      },
      "text/plain": [
       "HBox(children=(FloatProgress(value=0.0, max=23.0), HTML(value='')))"
      ]
     },
     "metadata": {},
     "output_type": "display_data"
    },
    {
     "name": "stdout",
     "output_type": "stream",
     "text": [
      "\n",
      "Epoch: 63\n",
      "Training accuracy: 99.00990099009901\n",
      "val accuracy: 67.66712141882674\n",
      "F1 score: 0.6738376081383415\n",
      "==============================================\n"
     ]
    },
    {
     "data": {
      "application/vnd.jupyter.widget-view+json": {
       "model_id": "192211767dac45a7be69850122eda9f4",
       "version_major": 2,
       "version_minor": 0
      },
      "text/plain": [
       "HBox(children=(FloatProgress(value=0.0, max=23.0), HTML(value='')))"
      ]
     },
     "metadata": {},
     "output_type": "display_data"
    },
    {
     "name": "stdout",
     "output_type": "stream",
     "text": [
      "\n",
      "Epoch: 64\n",
      "Training accuracy: 99.00990099009901\n",
      "val accuracy: 68.34924965893588\n",
      "F1 score: 0.6778860474560302\n",
      "==============================================\n"
     ]
    },
    {
     "data": {
      "application/vnd.jupyter.widget-view+json": {
       "model_id": "f962a1eaf7454aa59a30db80451e857c",
       "version_major": 2,
       "version_minor": 0
      },
      "text/plain": [
       "HBox(children=(FloatProgress(value=0.0, max=23.0), HTML(value='')))"
      ]
     },
     "metadata": {},
     "output_type": "display_data"
    },
    {
     "name": "stdout",
     "output_type": "stream",
     "text": [
      "\n",
      "Epoch: 65\n",
      "Training accuracy: 99.044042335268\n",
      "val accuracy: 67.53069577080491\n",
      "F1 score: 0.672508483993945\n",
      "==============================================\n"
     ]
    },
    {
     "data": {
      "application/vnd.jupyter.widget-view+json": {
       "model_id": "e44f3a81824644de9ddeebad710419f7",
       "version_major": 2,
       "version_minor": 0
      },
      "text/plain": [
       "HBox(children=(FloatProgress(value=0.0, max=23.0), HTML(value='')))"
      ]
     },
     "metadata": {},
     "output_type": "display_data"
    },
    {
     "name": "stdout",
     "output_type": "stream",
     "text": [
      "\n",
      "Epoch: 66\n",
      "Training accuracy: 99.044042335268\n",
      "val accuracy: 67.9399727148704\n",
      "F1 score: 0.6754872119291316\n",
      "==============================================\n"
     ]
    },
    {
     "data": {
      "application/vnd.jupyter.widget-view+json": {
       "model_id": "df0e3ac7d0294c34b7f6a90bbe4d313d",
       "version_major": 2,
       "version_minor": 0
      },
      "text/plain": [
       "HBox(children=(FloatProgress(value=0.0, max=23.0), HTML(value='')))"
      ]
     },
     "metadata": {},
     "output_type": "display_data"
    },
    {
     "name": "stdout",
     "output_type": "stream",
     "text": [
      "\n",
      "Epoch: 67\n",
      "Training accuracy: 99.00990099009901\n",
      "val accuracy: 68.21282401091405\n",
      "F1 score: 0.6775259778599376\n",
      "==============================================\n"
     ]
    },
    {
     "data": {
      "application/vnd.jupyter.widget-view+json": {
       "model_id": "8a89e8fce04848bd90f37ea60786886b",
       "version_major": 2,
       "version_minor": 0
      },
      "text/plain": [
       "HBox(children=(FloatProgress(value=0.0, max=23.0), HTML(value='')))"
      ]
     },
     "metadata": {},
     "output_type": "display_data"
    },
    {
     "name": "stdout",
     "output_type": "stream",
     "text": [
      "\n",
      "Epoch: 68\n",
      "Training accuracy: 99.044042335268\n",
      "val accuracy: 67.80354706684857\n",
      "F1 score: 0.6737197944623775\n",
      "==============================================\n"
     ]
    },
    {
     "data": {
      "application/vnd.jupyter.widget-view+json": {
       "model_id": "6bd757f70eec48b8816f579958514ed0",
       "version_major": 2,
       "version_minor": 0
      },
      "text/plain": [
       "HBox(children=(FloatProgress(value=0.0, max=23.0), HTML(value='')))"
      ]
     },
     "metadata": {},
     "output_type": "display_data"
    },
    {
     "name": "stdout",
     "output_type": "stream",
     "text": [
      "\n",
      "Epoch: 69\n",
      "Training accuracy: 99.146466370775\n",
      "val accuracy: 67.53069577080491\n",
      "F1 score: 0.672396899526156\n",
      "==============================================\n"
     ]
    },
    {
     "data": {
      "application/vnd.jupyter.widget-view+json": {
       "model_id": "09a65a512ca8494385af0a70be2d2572",
       "version_major": 2,
       "version_minor": 0
      },
      "text/plain": [
       "HBox(children=(FloatProgress(value=0.0, max=23.0), HTML(value='')))"
      ]
     },
     "metadata": {},
     "output_type": "display_data"
    },
    {
     "name": "stdout",
     "output_type": "stream",
     "text": [
      "\n",
      "Epoch: 70\n",
      "Training accuracy: 99.180607715944\n",
      "val accuracy: 68.34924965893588\n",
      "F1 score: 0.679934866663105\n",
      "==============================================\n"
     ]
    },
    {
     "data": {
      "application/vnd.jupyter.widget-view+json": {
       "model_id": "7d55c8feb29b4c0d845b494d094c85a0",
       "version_major": 2,
       "version_minor": 0
      },
      "text/plain": [
       "HBox(children=(FloatProgress(value=0.0, max=23.0), HTML(value='')))"
      ]
     },
     "metadata": {},
     "output_type": "display_data"
    },
    {
     "name": "stdout",
     "output_type": "stream",
     "text": [
      "\n",
      "Epoch: 71\n",
      "Training accuracy: 99.180607715944\n",
      "val accuracy: 67.39427012278308\n",
      "F1 score: 0.6711807252378809\n",
      "==============================================\n"
     ]
    },
    {
     "data": {
      "application/vnd.jupyter.widget-view+json": {
       "model_id": "babed3fa47fa4ef591e9674b79eb5633",
       "version_major": 2,
       "version_minor": 0
      },
      "text/plain": [
       "HBox(children=(FloatProgress(value=0.0, max=23.0), HTML(value='')))"
      ]
     },
     "metadata": {},
     "output_type": "display_data"
    },
    {
     "name": "stdout",
     "output_type": "stream",
     "text": [
      "\n",
      "Epoch: 72\n",
      "Training accuracy: 99.21474906111301\n",
      "val accuracy: 67.80354706684857\n",
      "F1 score: 0.6728217310910128\n",
      "==============================================\n"
     ]
    },
    {
     "data": {
      "application/vnd.jupyter.widget-view+json": {
       "model_id": "b4a78db6165945b3a24d2261eb022f8a",
       "version_major": 2,
       "version_minor": 0
      },
      "text/plain": [
       "HBox(children=(FloatProgress(value=0.0, max=23.0), HTML(value='')))"
      ]
     },
     "metadata": {},
     "output_type": "display_data"
    },
    {
     "name": "stdout",
     "output_type": "stream",
     "text": [
      "\n",
      "Epoch: 73\n",
      "Training accuracy: 99.146466370775\n",
      "val accuracy: 67.12141882673943\n",
      "F1 score: 0.6684131303110671\n",
      "==============================================\n"
     ]
    },
    {
     "data": {
      "application/vnd.jupyter.widget-view+json": {
       "model_id": "cb6d0ad79c07499b8eac5fb9d15eeb3a",
       "version_major": 2,
       "version_minor": 0
      },
      "text/plain": [
       "HBox(children=(FloatProgress(value=0.0, max=23.0), HTML(value='')))"
      ]
     },
     "metadata": {},
     "output_type": "display_data"
    },
    {
     "name": "stdout",
     "output_type": "stream",
     "text": [
      "\n",
      "Epoch: 74\n",
      "Training accuracy: 99.180607715944\n",
      "val accuracy: 67.25784447476126\n",
      "F1 score: 0.6682313973700598\n",
      "==============================================\n"
     ]
    },
    {
     "data": {
      "application/vnd.jupyter.widget-view+json": {
       "model_id": "99107d0db13e4cc49b06ca2a7a5affda",
       "version_major": 2,
       "version_minor": 0
      },
      "text/plain": [
       "HBox(children=(FloatProgress(value=0.0, max=23.0), HTML(value='')))"
      ]
     },
     "metadata": {},
     "output_type": "display_data"
    },
    {
     "name": "stdout",
     "output_type": "stream",
     "text": [
      "\n",
      "Epoch: 75\n",
      "Training accuracy: 99.180607715944\n",
      "val accuracy: 67.12141882673943\n",
      "F1 score: 0.6684304400628354\n",
      "==============================================\n"
     ]
    },
    {
     "data": {
      "application/vnd.jupyter.widget-view+json": {
       "model_id": "fee53d5374d44d50930deb1b808fa335",
       "version_major": 2,
       "version_minor": 0
      },
      "text/plain": [
       "HBox(children=(FloatProgress(value=0.0, max=23.0), HTML(value='')))"
      ]
     },
     "metadata": {},
     "output_type": "display_data"
    },
    {
     "name": "stdout",
     "output_type": "stream",
     "text": [
      "\n",
      "Epoch: 76\n",
      "Training accuracy: 99.146466370775\n",
      "val accuracy: 67.53069577080491\n",
      "F1 score: 0.6700352587613811\n",
      "==============================================\n"
     ]
    },
    {
     "data": {
      "application/vnd.jupyter.widget-view+json": {
       "model_id": "f24ecb7fc31e438681f936a0336ac50c",
       "version_major": 2,
       "version_minor": 0
      },
      "text/plain": [
       "HBox(children=(FloatProgress(value=0.0, max=23.0), HTML(value='')))"
      ]
     },
     "metadata": {},
     "output_type": "display_data"
    },
    {
     "name": "stdout",
     "output_type": "stream",
     "text": [
      "\n",
      "Epoch: 77\n",
      "Training accuracy: 99.180607715944\n",
      "val accuracy: 66.16643929058662\n",
      "F1 score: 0.661431927763586\n",
      "==============================================\n"
     ]
    },
    {
     "data": {
      "application/vnd.jupyter.widget-view+json": {
       "model_id": "4c1f2d531d1f47a7868a7281184fbdd7",
       "version_major": 2,
       "version_minor": 0
      },
      "text/plain": [
       "HBox(children=(FloatProgress(value=0.0, max=23.0), HTML(value='')))"
      ]
     },
     "metadata": {},
     "output_type": "display_data"
    },
    {
     "name": "stdout",
     "output_type": "stream",
     "text": [
      "\n",
      "Epoch: 78\n",
      "Training accuracy: 99.21474906111301\n",
      "val accuracy: 67.12141882673943\n",
      "F1 score: 0.6696453606399729\n",
      "==============================================\n"
     ]
    },
    {
     "data": {
      "application/vnd.jupyter.widget-view+json": {
       "model_id": "92c61b6f5bdc4c3aa8bcf68c4c8aed3c",
       "version_major": 2,
       "version_minor": 0
      },
      "text/plain": [
       "HBox(children=(FloatProgress(value=0.0, max=23.0), HTML(value='')))"
      ]
     },
     "metadata": {},
     "output_type": "display_data"
    },
    {
     "name": "stdout",
     "output_type": "stream",
     "text": [
      "\n",
      "Epoch: 79\n",
      "Training accuracy: 99.21474906111301\n",
      "val accuracy: 67.53069577080491\n",
      "F1 score: 0.6716424680425347\n",
      "==============================================\n"
     ]
    },
    {
     "data": {
      "application/vnd.jupyter.widget-view+json": {
       "model_id": "955a613367e146438af5d93cada4cfd5",
       "version_major": 2,
       "version_minor": 0
      },
      "text/plain": [
       "HBox(children=(FloatProgress(value=0.0, max=23.0), HTML(value='')))"
      ]
     },
     "metadata": {},
     "output_type": "display_data"
    },
    {
     "name": "stdout",
     "output_type": "stream",
     "text": [
      "\n",
      "Epoch: 80\n",
      "Training accuracy: 99.248890406282\n",
      "val accuracy: 67.66712141882674\n",
      "F1 score: 0.6726413441701203\n",
      "==============================================\n"
     ]
    },
    {
     "data": {
      "application/vnd.jupyter.widget-view+json": {
       "model_id": "0e8d94fdf51a4a3c80711b451fb40fb6",
       "version_major": 2,
       "version_minor": 0
      },
      "text/plain": [
       "HBox(children=(FloatProgress(value=0.0, max=23.0), HTML(value='')))"
      ]
     },
     "metadata": {},
     "output_type": "display_data"
    },
    {
     "name": "stdout",
     "output_type": "stream",
     "text": [
      "\n",
      "Epoch: 81\n",
      "Training accuracy: 99.248890406282\n",
      "val accuracy: 67.66712141882674\n",
      "F1 score: 0.6729815784106736\n",
      "==============================================\n"
     ]
    },
    {
     "data": {
      "application/vnd.jupyter.widget-view+json": {
       "model_id": "2f0983b79e1c42ee8502f38040f4f5f6",
       "version_major": 2,
       "version_minor": 0
      },
      "text/plain": [
       "HBox(children=(FloatProgress(value=0.0, max=23.0), HTML(value='')))"
      ]
     },
     "metadata": {},
     "output_type": "display_data"
    },
    {
     "name": "stdout",
     "output_type": "stream",
     "text": [
      "\n",
      "Epoch: 82\n",
      "Training accuracy: 99.248890406282\n",
      "val accuracy: 67.80354706684857\n",
      "F1 score: 0.6732610265322071\n",
      "==============================================\n"
     ]
    },
    {
     "data": {
      "application/vnd.jupyter.widget-view+json": {
       "model_id": "bf79518c640d446ca0ca4b3e511c4ae0",
       "version_major": 2,
       "version_minor": 0
      },
      "text/plain": [
       "HBox(children=(FloatProgress(value=0.0, max=23.0), HTML(value='')))"
      ]
     },
     "metadata": {},
     "output_type": "display_data"
    },
    {
     "name": "stdout",
     "output_type": "stream",
     "text": [
      "\n",
      "Epoch: 83\n",
      "Training accuracy: 99.21474906111301\n",
      "val accuracy: 67.25784447476126\n",
      "F1 score: 0.6700601056047725\n",
      "==============================================\n"
     ]
    },
    {
     "data": {
      "application/vnd.jupyter.widget-view+json": {
       "model_id": "1140fe6a460546f9a5193fb8bfebe72b",
       "version_major": 2,
       "version_minor": 0
      },
      "text/plain": [
       "HBox(children=(FloatProgress(value=0.0, max=23.0), HTML(value='')))"
      ]
     },
     "metadata": {},
     "output_type": "display_data"
    },
    {
     "name": "stdout",
     "output_type": "stream",
     "text": [
      "\n",
      "Epoch: 84\n",
      "Training accuracy: 99.21474906111301\n",
      "val accuracy: 68.07639836289222\n",
      "F1 score: 0.6768083963851511\n",
      "==============================================\n"
     ]
    },
    {
     "data": {
      "application/vnd.jupyter.widget-view+json": {
       "model_id": "6d6225a5ec3345129b780fe749e69328",
       "version_major": 2,
       "version_minor": 0
      },
      "text/plain": [
       "HBox(children=(FloatProgress(value=0.0, max=23.0), HTML(value='')))"
      ]
     },
     "metadata": {},
     "output_type": "display_data"
    },
    {
     "name": "stdout",
     "output_type": "stream",
     "text": [
      "\n",
      "Epoch: 85\n",
      "Training accuracy: 99.283031751451\n",
      "val accuracy: 67.12141882673943\n",
      "F1 score: 0.6689292305001494\n",
      "==============================================\n"
     ]
    },
    {
     "data": {
      "application/vnd.jupyter.widget-view+json": {
       "model_id": "3dbaf159703f4212a9f031b183e97aa9",
       "version_major": 2,
       "version_minor": 0
      },
      "text/plain": [
       "HBox(children=(FloatProgress(value=0.0, max=23.0), HTML(value='')))"
      ]
     },
     "metadata": {},
     "output_type": "display_data"
    },
    {
     "name": "stdout",
     "output_type": "stream",
     "text": [
      "\n",
      "Epoch: 86\n",
      "Training accuracy: 99.248890406282\n",
      "val accuracy: 67.25784447476126\n",
      "F1 score: 0.6705750329925073\n",
      "==============================================\n"
     ]
    },
    {
     "data": {
      "application/vnd.jupyter.widget-view+json": {
       "model_id": "5102563793b34865ad700ec9fce24d87",
       "version_major": 2,
       "version_minor": 0
      },
      "text/plain": [
       "HBox(children=(FloatProgress(value=0.0, max=23.0), HTML(value='')))"
      ]
     },
     "metadata": {},
     "output_type": "display_data"
    },
    {
     "name": "stdout",
     "output_type": "stream",
     "text": [
      "\n",
      "Epoch: 87\n",
      "Training accuracy: 99.180607715944\n",
      "val accuracy: 67.9399727148704\n",
      "F1 score: 0.6750424411332344\n",
      "==============================================\n"
     ]
    },
    {
     "data": {
      "application/vnd.jupyter.widget-view+json": {
       "model_id": "21aa32670d42421e8ef1a605db334e07",
       "version_major": 2,
       "version_minor": 0
      },
      "text/plain": [
       "HBox(children=(FloatProgress(value=0.0, max=23.0), HTML(value='')))"
      ]
     },
     "metadata": {},
     "output_type": "display_data"
    },
    {
     "name": "stdout",
     "output_type": "stream",
     "text": [
      "\n",
      "Epoch: 88\n",
      "Training accuracy: 99.146466370775\n",
      "val accuracy: 68.34924965893588\n",
      "F1 score: 0.6784795289627611\n",
      "==============================================\n"
     ]
    },
    {
     "data": {
      "application/vnd.jupyter.widget-view+json": {
       "model_id": "1149d2a7f93c410b9993c771768ecd84",
       "version_major": 2,
       "version_minor": 0
      },
      "text/plain": [
       "HBox(children=(FloatProgress(value=0.0, max=23.0), HTML(value='')))"
      ]
     },
     "metadata": {},
     "output_type": "display_data"
    },
    {
     "name": "stdout",
     "output_type": "stream",
     "text": [
      "\n",
      "Epoch: 89\n",
      "Training accuracy: 99.283031751451\n",
      "val accuracy: 67.39427012278308\n",
      "F1 score: 0.6718873896161509\n",
      "==============================================\n"
     ]
    },
    {
     "data": {
      "application/vnd.jupyter.widget-view+json": {
       "model_id": "cebb7520e63c447194b92738666db76f",
       "version_major": 2,
       "version_minor": 0
      },
      "text/plain": [
       "HBox(children=(FloatProgress(value=0.0, max=23.0), HTML(value='')))"
      ]
     },
     "metadata": {},
     "output_type": "display_data"
    },
    {
     "name": "stdout",
     "output_type": "stream",
     "text": [
      "\n",
      "Epoch: 90\n",
      "Training accuracy: 99.21474906111301\n",
      "val accuracy: 66.9849931787176\n",
      "F1 score: 0.6678759450009375\n",
      "==============================================\n"
     ]
    },
    {
     "data": {
      "application/vnd.jupyter.widget-view+json": {
       "model_id": "23570f0ecdb14b409ab5266c78c9ae06",
       "version_major": 2,
       "version_minor": 0
      },
      "text/plain": [
       "HBox(children=(FloatProgress(value=0.0, max=23.0), HTML(value='')))"
      ]
     },
     "metadata": {},
     "output_type": "display_data"
    },
    {
     "name": "stdout",
     "output_type": "stream",
     "text": [
      "\n",
      "Epoch: 91\n",
      "Training accuracy: 99.21474906111301\n",
      "val accuracy: 66.84856753069577\n",
      "F1 score: 0.6664235907383591\n",
      "==============================================\n"
     ]
    },
    {
     "data": {
      "application/vnd.jupyter.widget-view+json": {
       "model_id": "4a0db42a8ea145659ca7a22b8f233a32",
       "version_major": 2,
       "version_minor": 0
      },
      "text/plain": [
       "HBox(children=(FloatProgress(value=0.0, max=23.0), HTML(value='')))"
      ]
     },
     "metadata": {},
     "output_type": "display_data"
    },
    {
     "name": "stdout",
     "output_type": "stream",
     "text": [
      "\n",
      "Epoch: 92\n",
      "Training accuracy: 99.21474906111301\n",
      "val accuracy: 67.12141882673943\n",
      "F1 score: 0.6688559641143165\n",
      "==============================================\n"
     ]
    },
    {
     "data": {
      "application/vnd.jupyter.widget-view+json": {
       "model_id": "1a646af321e7430fb888edf909d0b2e3",
       "version_major": 2,
       "version_minor": 0
      },
      "text/plain": [
       "HBox(children=(FloatProgress(value=0.0, max=23.0), HTML(value='')))"
      ]
     },
     "metadata": {},
     "output_type": "display_data"
    },
    {
     "name": "stdout",
     "output_type": "stream",
     "text": [
      "\n",
      "Epoch: 93\n",
      "Training accuracy: 99.21474906111301\n",
      "val accuracy: 66.84856753069577\n",
      "F1 score: 0.6655912682170266\n",
      "==============================================\n"
     ]
    },
    {
     "data": {
      "application/vnd.jupyter.widget-view+json": {
       "model_id": "178aa0c45fae47559c36f5e8bc10b3a1",
       "version_major": 2,
       "version_minor": 0
      },
      "text/plain": [
       "HBox(children=(FloatProgress(value=0.0, max=23.0), HTML(value='')))"
      ]
     },
     "metadata": {},
     "output_type": "display_data"
    },
    {
     "name": "stdout",
     "output_type": "stream",
     "text": [
      "\n",
      "Epoch: 94\n",
      "Training accuracy: 99.21474906111301\n",
      "val accuracy: 67.80354706684857\n",
      "F1 score: 0.674474946912319\n",
      "==============================================\n"
     ]
    },
    {
     "data": {
      "application/vnd.jupyter.widget-view+json": {
       "model_id": "1e641bc784a9494db067755057bee6bb",
       "version_major": 2,
       "version_minor": 0
      },
      "text/plain": [
       "HBox(children=(FloatProgress(value=0.0, max=23.0), HTML(value='')))"
      ]
     },
     "metadata": {},
     "output_type": "display_data"
    },
    {
     "name": "stdout",
     "output_type": "stream",
     "text": [
      "\n",
      "Epoch: 95\n",
      "Training accuracy: 99.248890406282\n",
      "val accuracy: 66.57571623465212\n",
      "F1 score: 0.6639584858684426\n",
      "==============================================\n"
     ]
    },
    {
     "data": {
      "application/vnd.jupyter.widget-view+json": {
       "model_id": "d6abfa07e85d49849fea536b34b922d6",
       "version_major": 2,
       "version_minor": 0
      },
      "text/plain": [
       "HBox(children=(FloatProgress(value=0.0, max=23.0), HTML(value='')))"
      ]
     },
     "metadata": {},
     "output_type": "display_data"
    },
    {
     "name": "stdout",
     "output_type": "stream",
     "text": [
      "\n",
      "Epoch: 96\n",
      "Training accuracy: 99.248890406282\n",
      "val accuracy: 67.39427012278308\n",
      "F1 score: 0.6696431562490672\n",
      "==============================================\n"
     ]
    },
    {
     "data": {
      "application/vnd.jupyter.widget-view+json": {
       "model_id": "9e5f702155ec4744a538fe43c1847f83",
       "version_major": 2,
       "version_minor": 0
      },
      "text/plain": [
       "HBox(children=(FloatProgress(value=0.0, max=23.0), HTML(value='')))"
      ]
     },
     "metadata": {},
     "output_type": "display_data"
    },
    {
     "name": "stdout",
     "output_type": "stream",
     "text": [
      "\n",
      "Epoch: 97\n",
      "Training accuracy: 99.21474906111301\n",
      "val accuracy: 66.9849931787176\n",
      "F1 score: 0.6679135767773361\n",
      "==============================================\n"
     ]
    },
    {
     "data": {
      "application/vnd.jupyter.widget-view+json": {
       "model_id": "ee00b97df5dd4ed18552099d77c8c907",
       "version_major": 2,
       "version_minor": 0
      },
      "text/plain": [
       "HBox(children=(FloatProgress(value=0.0, max=23.0), HTML(value='')))"
      ]
     },
     "metadata": {},
     "output_type": "display_data"
    },
    {
     "name": "stdout",
     "output_type": "stream",
     "text": [
      "\n",
      "Epoch: 98\n",
      "Training accuracy: 99.283031751451\n",
      "val accuracy: 66.9849931787176\n",
      "F1 score: 0.6688592260986138\n",
      "==============================================\n"
     ]
    },
    {
     "data": {
      "application/vnd.jupyter.widget-view+json": {
       "model_id": "b7b4358a444542be857a6651fa0cc8f3",
       "version_major": 2,
       "version_minor": 0
      },
      "text/plain": [
       "HBox(children=(FloatProgress(value=0.0, max=23.0), HTML(value='')))"
      ]
     },
     "metadata": {},
     "output_type": "display_data"
    },
    {
     "name": "stdout",
     "output_type": "stream",
     "text": [
      "\n",
      "Epoch: 99\n",
      "Training accuracy: 99.31717309662001\n",
      "val accuracy: 66.84856753069577\n",
      "F1 score: 0.6664790752240799\n",
      "==============================================\n"
     ]
    },
    {
     "data": {
      "image/png": "[encoded data removed]",
      "text/plain": [
       "<Figure size 360x360 with 2 Axes>"
      ]
     },
     "metadata": {
      "needs_background": "light"
     },
     "output_type": "display_data"
    },
    {
     "data": {
      "application/vnd.jupyter.widget-view+json": {
       "model_id": "67a6503f55044ba8af29e2d4b0662220",
       "version_major": 2,
       "version_minor": 0
      },
      "text/plain": [
       "HBox(children=(FloatProgress(value=1.0, bar_style='info', max=1.0), HTML(value='')))"
      ]
     },
     "metadata": {},
     "output_type": "display_data"
    },
    {
     "name": "stdout",
     "output_type": "stream",
     "text": [
      "\n",
      "{'1D_ResNet': 61.81129217147827, 'SVC': 3.485785722732544, 'RandomForest': 0.6974883079528809, 'knn': 0.07686519622802734, 'DecisionTree': 0.6289048194885254, 'GradientBoosting': 86.01616549491882, 'XgBoost': 42.34310245513916, 'LightGBM': 13.157261848449707}\n",
      "{'1D_ResNet': 0.6672007571716589, 'SVC': 0.5914772118666881, 'RandomForest': 0.7570965280033614, 'knn': 0.6371540469202237, 'DecisionTree': 0.6953619745537184, 'GradientBoosting': 0.7371371281119276, 'XgBoost': 0.7636786590449992, 'LightGBM': 0.7705976273810536}\n",
      "Counter({'LightGBM': 0.7871759890859482, 'RandomForest': 0.781718963165075, 'XgBoost': 0.7748976807639836, 'GradientBoosting': 0.7598908594815825, '1D_ResNet': 0.7066848567530696, 'DecisionTree': 0.6984993178717599, 'SVC': 0.6739427012278308, 'knn': 0.654843110504775})\n"
     ]
    },
    {
     "data": {
      "image/png": "[encoded data removed]",
      "text/plain": [
       "<Figure size 720x720 with 1 Axes>"
      ]
     },
     "metadata": {
      "needs_background": "light"
     },
     "output_type": "display_data"
    }
   ],
   "source": [
    "acc_result={}\n",
    "time_result={}\n",
    "f1_result={}\n",
    "\n",
    "dataset_path = '512_aptos_train.csv'\n",
    "train_data_loader, test_data_loader, num_train_instances, num_test_instances, n_cat = open_file(dataset_path)\n",
    "\n",
    "data = pd.read_csv(dataset_path)\n",
    "dataset = data.sample(frac=1).reset_index(drop=True)\n",
    "dataset = dataset.fillna(0)\n",
    "X_len = len(dataset.columns)\n",
    "X = dataset.iloc[:, 3:X_len].values if X_len==515 else dataset.iloc[:, 2:X_len].values\n",
    "y = dataset.iloc[:, 2].values if X_len==515 else dataset.iloc[:, 1].values\n",
    "if np.min(y) > 0: \n",
    "    y = y-np.min(y)\n",
    "n_cat = int(max(y))+1\n",
    "X_train, X_test, y_train, y_test = train_test_split(X, y, test_size = 0.2, random_state = 20, shuffle=True)\n",
    "\n",
    "model=Exe_Model(MSResNet)\n",
    "model.set_model(n_cat)\n",
    "model.train_model(train_data_loader, test_data_loader, num_train_instances, num_test_instances, es_tolerance=100)\n",
    "model.cm()\n",
    "\n",
    "acc_result['1D_ResNet'] = model.best_acc\n",
    "time_result['1D_ResNet'] = model.train_time\n",
    "f1_result['1D_ResNet'] = model.f1score\n",
    "\n",
    "for idx, sk_model in tqdm(enumerate(models)):\n",
    "    if sk_model=='SVC':\n",
    "        train_model=SVC(kernel='rbf', C = 10, gamma=0.001)\n",
    "    elif sk_model=='RandomForest':\n",
    "        train_model=RandomForestClassifier(criterion='gini', n_estimators=200, random_state=4, n_jobs=10)\n",
    "    elif sk_model=='knn':\n",
    "        train_model=KNeighborsClassifier(n_neighbors = n_cat)\n",
    "    elif sk_model=='DecisionTree':\n",
    "        train_model=DecisionTreeClassifier(random_state=10)\n",
    "    elif sk_model=='GradientBoosting':\n",
    "        train_model=GradientBoostingClassifier(random_state=10)\n",
    "    elif sk_model=='XgBoost':\n",
    "        train_model=XGBClassifier(n_estimators=1000)\n",
    "    elif sk_model=='LightGBM':\n",
    "        train_model=LGBMClassifier(n_estimators=1000)\n",
    "    start = time.time()\n",
    "    train_model.fit(X_train, y_train)\n",
    "    time_result[sk_model]=time.time() - start\n",
    "    y_pred = train_model.predict(X_test)\n",
    "    acc_result[sk_model]=accuracy_score(y_test, y_pred)\n",
    "    f1_result[sk_model]=f1_score(y_test, y_pred, average='weighted')\n",
    "    \n",
    "print(time_result)\n",
    "print(f1_result)\n",
    "count_and_plot2(acc_result)"
   ]
  },
  {
   "cell_type": "code",
   "execution_count": 31,
   "id": "industrial-driving",
   "metadata": {
    "ExecuteTime": {
     "end_time": "2021-07-20T18:56:40.199054Z",
     "start_time": "2021-07-20T18:49:51.279718Z"
    }
   },
   "outputs": [
    {
     "name": "stdout",
     "output_type": "stream",
     "text": [
      "     img  label     glcm1     glcm2     glcm3     glcm4     glcm5     glcm6  \\\n",
      "0  952.0    7.0  0.342711  0.309229  0.342623  0.310533  0.296212  0.309229   \n",
      "\n",
      "     glcm7     glcm8  ...  dim1_f134  dim1_f135  dim1_f136  dim1_f137  \\\n",
      "0  0.29816  0.310533  ...        0.0        0.0        0.0        0.0   \n",
      "\n",
      "   dim1_f138  dim1_f139  dim1_f140  dim1_f141  dim1_f142  dim1_f143  \n",
      "0        0.0        0.0        0.0        0.0        0.0        0.0  \n",
      "\n",
      "[1 rows x 514 columns]\n",
      "Counter({7.0: 625, 3.0: 625, 1.0: 625, 0.0: 625, 5.0: 625, 2.0: 625, 4.0: 625, 6.0: 625})\n"
     ]
    },
    {
     "data": {
      "image/png": "[encoded data removed]",
      "text/plain": [
       "<Figure size 720x720 with 1 Axes>"
      ]
     },
     "metadata": {
      "needs_background": "light"
     },
     "output_type": "display_data"
    },
    {
     "name": "stdout",
     "output_type": "stream",
     "text": [
      "label data shape: (5000,)\n",
      "Original data shape: (5000, 512)\n",
      "Test data shape:  torch.Size([1000, 1, 512])\n",
      "model loaded\n",
      "==============================================\n"
     ]
    },
    {
     "name": "stderr",
     "output_type": "stream",
     "text": [
      "/home/seung-ho/anaconda3/envs/cubical/lib/python3.8/site-packages/torch/nn/_reduction.py:43: UserWarning: size_average and reduce args will be deprecated, please use reduction='sum' instead.\n",
      "  warnings.warn(warning.format(ret))\n",
      "/home/seung-ho/anaconda3/envs/cubical/lib/python3.8/site-packages/torch/optim/lr_scheduler.py:117: UserWarning: Detected call of `lr_scheduler.step()` before `optimizer.step()`. In PyTorch 1.1.0 and later, you should call them in the opposite order: `optimizer.step()` before `lr_scheduler.step()`.  Failure to do this will result in PyTorch skipping the first value of the learning rate schedule. See more details at https://pytorch.org/docs/stable/optim.html#how-to-adjust-learning-rate\n",
      "  warnings.warn(\"Detected call of `lr_scheduler.step()` before `optimizer.step()`. \"\n"
     ]
    },
    {
     "data": {
      "application/vnd.jupyter.widget-view+json": {
       "model_id": "13fad4705d7449b1a77dd1a217a1424e",
       "version_major": 2,
       "version_minor": 0
      },
      "text/plain": [
       "HBox(children=(FloatProgress(value=0.0, max=32.0), HTML(value='')))"
      ]
     },
     "metadata": {},
     "output_type": "display_data"
    },
    {
     "name": "stdout",
     "output_type": "stream",
     "text": [
      "\n",
      "Epoch: 0\n",
      "Training accuracy: 40.8\n",
      "val accuracy: 40.6\n",
      "F1 score: 0.34515748533705154\n",
      "==============================================\n"
     ]
    },
    {
     "data": {
      "application/vnd.jupyter.widget-view+json": {
       "model_id": "c8af0716cdd04f1ca256eefe2d989bcf",
       "version_major": 2,
       "version_minor": 0
      },
      "text/plain": [
       "HBox(children=(FloatProgress(value=0.0, max=32.0), HTML(value='')))"
      ]
     },
     "metadata": {},
     "output_type": "display_data"
    },
    {
     "name": "stdout",
     "output_type": "stream",
     "text": [
      "\n",
      "Epoch: 1\n",
      "Training accuracy: 58.975\n",
      "val accuracy: 59.0\n",
      "F1 score: 0.5371072425812151\n",
      "==============================================\n"
     ]
    },
    {
     "data": {
      "application/vnd.jupyter.widget-view+json": {
       "model_id": "2b19fe59110d41d8a082faa631d5ebd1",
       "version_major": 2,
       "version_minor": 0
      },
      "text/plain": [
       "HBox(children=(FloatProgress(value=0.0, max=32.0), HTML(value='')))"
      ]
     },
     "metadata": {},
     "output_type": "display_data"
    },
    {
     "name": "stdout",
     "output_type": "stream",
     "text": [
      "\n",
      "Epoch: 2\n",
      "Training accuracy: 60.025\n",
      "val accuracy: 59.4\n",
      "F1 score: 0.5235915630655108\n",
      "==============================================\n"
     ]
    },
    {
     "data": {
      "application/vnd.jupyter.widget-view+json": {
       "model_id": "1384095149554e15aa8f8abf8a4e07e6",
       "version_major": 2,
       "version_minor": 0
      },
      "text/plain": [
       "HBox(children=(FloatProgress(value=0.0, max=32.0), HTML(value='')))"
      ]
     },
     "metadata": {},
     "output_type": "display_data"
    },
    {
     "name": "stdout",
     "output_type": "stream",
     "text": [
      "\n",
      "Epoch: 3\n",
      "Training accuracy: 47.375\n",
      "val accuracy: 49.8\n",
      "F1 score: 0.4394458601134817\n",
      "==============================================\n"
     ]
    },
    {
     "data": {
      "application/vnd.jupyter.widget-view+json": {
       "model_id": "71a21e31f8f64a379d2d4d499e98c34e",
       "version_major": 2,
       "version_minor": 0
      },
      "text/plain": [
       "HBox(children=(FloatProgress(value=0.0, max=32.0), HTML(value='')))"
      ]
     },
     "metadata": {},
     "output_type": "display_data"
    },
    {
     "name": "stdout",
     "output_type": "stream",
     "text": [
      "\n",
      "Epoch: 4\n",
      "Training accuracy: 50.5\n",
      "val accuracy: 49.8\n",
      "F1 score: 0.4902491944343673\n",
      "==============================================\n"
     ]
    },
    {
     "data": {
      "application/vnd.jupyter.widget-view+json": {
       "model_id": "30f4a26ada2148b092db798cf116ac3b",
       "version_major": 2,
       "version_minor": 0
      },
      "text/plain": [
       "HBox(children=(FloatProgress(value=0.0, max=32.0), HTML(value='')))"
      ]
     },
     "metadata": {},
     "output_type": "display_data"
    },
    {
     "name": "stdout",
     "output_type": "stream",
     "text": [
      "\n",
      "Epoch: 5\n",
      "Training accuracy: 48.575\n",
      "val accuracy: 47.2\n",
      "F1 score: 0.43642178256970693\n",
      "==============================================\n"
     ]
    },
    {
     "data": {
      "application/vnd.jupyter.widget-view+json": {
       "model_id": "380db35cb9c34daf915628a69f4abf75",
       "version_major": 2,
       "version_minor": 0
      },
      "text/plain": [
       "HBox(children=(FloatProgress(value=0.0, max=32.0), HTML(value='')))"
      ]
     },
     "metadata": {},
     "output_type": "display_data"
    },
    {
     "name": "stdout",
     "output_type": "stream",
     "text": [
      "\n",
      "Epoch: 6\n",
      "Training accuracy: 71.825\n",
      "val accuracy: 73.6\n",
      "F1 score: 0.7144392973872632\n",
      "==============================================\n"
     ]
    },
    {
     "data": {
      "application/vnd.jupyter.widget-view+json": {
       "model_id": "83f2c1894e76403fbce41e8cbaecb91c",
       "version_major": 2,
       "version_minor": 0
      },
      "text/plain": [
       "HBox(children=(FloatProgress(value=0.0, max=32.0), HTML(value='')))"
      ]
     },
     "metadata": {},
     "output_type": "display_data"
    },
    {
     "name": "stdout",
     "output_type": "stream",
     "text": [
      "\n",
      "Epoch: 7\n",
      "Training accuracy: 38.975\n",
      "val accuracy: 38.4\n",
      "F1 score: 0.3322472719587958\n",
      "==============================================\n"
     ]
    },
    {
     "data": {
      "application/vnd.jupyter.widget-view+json": {
       "model_id": "889f842569e84436b6925e3187518c47",
       "version_major": 2,
       "version_minor": 0
      },
      "text/plain": [
       "HBox(children=(FloatProgress(value=0.0, max=32.0), HTML(value='')))"
      ]
     },
     "metadata": {},
     "output_type": "display_data"
    },
    {
     "name": "stdout",
     "output_type": "stream",
     "text": [
      "\n",
      "Epoch: 8\n",
      "Training accuracy: 75.625\n",
      "val accuracy: 78.4\n",
      "F1 score: 0.7769092951640267\n",
      "==============================================\n"
     ]
    },
    {
     "data": {
      "application/vnd.jupyter.widget-view+json": {
       "model_id": "e90fd05f1125458996d32f8155850ec3",
       "version_major": 2,
       "version_minor": 0
      },
      "text/plain": [
       "HBox(children=(FloatProgress(value=0.0, max=32.0), HTML(value='')))"
      ]
     },
     "metadata": {},
     "output_type": "display_data"
    },
    {
     "name": "stdout",
     "output_type": "stream",
     "text": [
      "\n",
      "Epoch: 9\n",
      "Training accuracy: 68.2\n",
      "val accuracy: 69.4\n",
      "F1 score: 0.6749413717277166\n",
      "==============================================\n"
     ]
    },
    {
     "data": {
      "application/vnd.jupyter.widget-view+json": {
       "model_id": "c4743b2910cd436c987007d6a3c617d4",
       "version_major": 2,
       "version_minor": 0
      },
      "text/plain": [
       "HBox(children=(FloatProgress(value=0.0, max=32.0), HTML(value='')))"
      ]
     },
     "metadata": {},
     "output_type": "display_data"
    },
    {
     "name": "stdout",
     "output_type": "stream",
     "text": [
      "\n",
      "Epoch: 10\n",
      "Training accuracy: 62.85\n",
      "val accuracy: 63.0\n",
      "F1 score: 0.5659967553160525\n",
      "==============================================\n"
     ]
    },
    {
     "data": {
      "application/vnd.jupyter.widget-view+json": {
       "model_id": "cad08c1da216490685a45023706bddaa",
       "version_major": 2,
       "version_minor": 0
      },
      "text/plain": [
       "HBox(children=(FloatProgress(value=0.0, max=32.0), HTML(value='')))"
      ]
     },
     "metadata": {},
     "output_type": "display_data"
    },
    {
     "name": "stdout",
     "output_type": "stream",
     "text": [
      "\n",
      "Epoch: 11\n",
      "Training accuracy: 68.575\n",
      "val accuracy: 70.9\n",
      "F1 score: 0.694014279122432\n",
      "==============================================\n"
     ]
    },
    {
     "data": {
      "application/vnd.jupyter.widget-view+json": {
       "model_id": "88984f5170c848ba9acf7ac6d69f62d5",
       "version_major": 2,
       "version_minor": 0
      },
      "text/plain": [
       "HBox(children=(FloatProgress(value=0.0, max=32.0), HTML(value='')))"
      ]
     },
     "metadata": {},
     "output_type": "display_data"
    },
    {
     "name": "stdout",
     "output_type": "stream",
     "text": [
      "\n",
      "Epoch: 12\n",
      "Training accuracy: 66.7\n",
      "val accuracy: 66.5\n",
      "F1 score: 0.624635472951992\n",
      "==============================================\n"
     ]
    },
    {
     "data": {
      "application/vnd.jupyter.widget-view+json": {
       "model_id": "b94a607cd27543ae9c4f6d7512dd63e7",
       "version_major": 2,
       "version_minor": 0
      },
      "text/plain": [
       "HBox(children=(FloatProgress(value=0.0, max=32.0), HTML(value='')))"
      ]
     },
     "metadata": {},
     "output_type": "display_data"
    },
    {
     "name": "stdout",
     "output_type": "stream",
     "text": [
      "\n",
      "Epoch: 13\n",
      "Training accuracy: 50.2\n",
      "val accuracy: 49.8\n",
      "F1 score: 0.4485003499646007\n",
      "==============================================\n"
     ]
    },
    {
     "data": {
      "application/vnd.jupyter.widget-view+json": {
       "model_id": "39df1cd32ffd497a8659c73c74d308df",
       "version_major": 2,
       "version_minor": 0
      },
      "text/plain": [
       "HBox(children=(FloatProgress(value=0.0, max=32.0), HTML(value='')))"
      ]
     },
     "metadata": {},
     "output_type": "display_data"
    },
    {
     "name": "stdout",
     "output_type": "stream",
     "text": [
      "\n",
      "Epoch: 14\n",
      "Training accuracy: 65.8\n",
      "val accuracy: 68.0\n",
      "F1 score: 0.6694578510512674\n",
      "==============================================\n"
     ]
    },
    {
     "data": {
      "application/vnd.jupyter.widget-view+json": {
       "model_id": "2cfceb80327e462189ba0f4a81b1dc52",
       "version_major": 2,
       "version_minor": 0
      },
      "text/plain": [
       "HBox(children=(FloatProgress(value=0.0, max=32.0), HTML(value='')))"
      ]
     },
     "metadata": {},
     "output_type": "display_data"
    },
    {
     "name": "stdout",
     "output_type": "stream",
     "text": [
      "\n",
      "Epoch: 15\n",
      "Training accuracy: 81.125\n",
      "val accuracy: 78.5\n",
      "F1 score: 0.7834893013514616\n",
      "==============================================\n"
     ]
    },
    {
     "data": {
      "application/vnd.jupyter.widget-view+json": {
       "model_id": "37920bd988cb46d48ad092d0914a6735",
       "version_major": 2,
       "version_minor": 0
      },
      "text/plain": [
       "HBox(children=(FloatProgress(value=0.0, max=32.0), HTML(value='')))"
      ]
     },
     "metadata": {},
     "output_type": "display_data"
    },
    {
     "name": "stdout",
     "output_type": "stream",
     "text": [
      "\n",
      "Epoch: 16\n",
      "Training accuracy: 50.675\n",
      "val accuracy: 50.2\n",
      "F1 score: 0.43335688772643094\n",
      "==============================================\n"
     ]
    },
    {
     "data": {
      "application/vnd.jupyter.widget-view+json": {
       "model_id": "b20ac40bf8694702a970353920e72362",
       "version_major": 2,
       "version_minor": 0
      },
      "text/plain": [
       "HBox(children=(FloatProgress(value=0.0, max=32.0), HTML(value='')))"
      ]
     },
     "metadata": {},
     "output_type": "display_data"
    },
    {
     "name": "stdout",
     "output_type": "stream",
     "text": [
      "\n",
      "Epoch: 17\n",
      "Training accuracy: 74.125\n",
      "val accuracy: 74.8\n",
      "F1 score: 0.748989009231154\n",
      "==============================================\n"
     ]
    },
    {
     "data": {
      "application/vnd.jupyter.widget-view+json": {
       "model_id": "bedd4c9b579c44c7a02eac42f96b841f",
       "version_major": 2,
       "version_minor": 0
      },
      "text/plain": [
       "HBox(children=(FloatProgress(value=0.0, max=32.0), HTML(value='')))"
      ]
     },
     "metadata": {},
     "output_type": "display_data"
    },
    {
     "name": "stdout",
     "output_type": "stream",
     "text": [
      "\n",
      "Epoch: 18\n",
      "Training accuracy: 66.75\n",
      "val accuracy: 66.7\n",
      "F1 score: 0.6586845504100202\n",
      "==============================================\n"
     ]
    },
    {
     "data": {
      "application/vnd.jupyter.widget-view+json": {
       "model_id": "e70b7c00053e4da29e229cbd7c6babd5",
       "version_major": 2,
       "version_minor": 0
      },
      "text/plain": [
       "HBox(children=(FloatProgress(value=0.0, max=32.0), HTML(value='')))"
      ]
     },
     "metadata": {},
     "output_type": "display_data"
    },
    {
     "name": "stdout",
     "output_type": "stream",
     "text": [
      "\n",
      "Epoch: 19\n",
      "Training accuracy: 80.125\n",
      "val accuracy: 79.3\n",
      "F1 score: 0.7858171585568796\n",
      "==============================================\n"
     ]
    },
    {
     "data": {
      "application/vnd.jupyter.widget-view+json": {
       "model_id": "fe8898314dad43c3b3514f4287b0979e",
       "version_major": 2,
       "version_minor": 0
      },
      "text/plain": [
       "HBox(children=(FloatProgress(value=0.0, max=32.0), HTML(value='')))"
      ]
     },
     "metadata": {},
     "output_type": "display_data"
    },
    {
     "name": "stdout",
     "output_type": "stream",
     "text": [
      "\n",
      "Epoch: 20\n",
      "Training accuracy: 80.1\n",
      "val accuracy: 78.0\n",
      "F1 score: 0.7763679945922245\n",
      "==============================================\n"
     ]
    },
    {
     "data": {
      "application/vnd.jupyter.widget-view+json": {
       "model_id": "4c84982d888a44b6be7f508ce4226e46",
       "version_major": 2,
       "version_minor": 0
      },
      "text/plain": [
       "HBox(children=(FloatProgress(value=0.0, max=32.0), HTML(value='')))"
      ]
     },
     "metadata": {},
     "output_type": "display_data"
    },
    {
     "name": "stdout",
     "output_type": "stream",
     "text": [
      "\n",
      "Epoch: 21\n",
      "Training accuracy: 76.25\n",
      "val accuracy: 75.7\n",
      "F1 score: 0.7429324845751117\n",
      "==============================================\n"
     ]
    },
    {
     "data": {
      "application/vnd.jupyter.widget-view+json": {
       "model_id": "6d37e8e2a91741aba4badbcbe1220fec",
       "version_major": 2,
       "version_minor": 0
      },
      "text/plain": [
       "HBox(children=(FloatProgress(value=0.0, max=32.0), HTML(value='')))"
      ]
     },
     "metadata": {},
     "output_type": "display_data"
    },
    {
     "name": "stdout",
     "output_type": "stream",
     "text": [
      "\n",
      "Epoch: 22\n",
      "Training accuracy: 83.825\n",
      "val accuracy: 82.5\n",
      "F1 score: 0.8203359203841619\n",
      "==============================================\n"
     ]
    },
    {
     "data": {
      "application/vnd.jupyter.widget-view+json": {
       "model_id": "1286cb37948e4f08b0dbc385dfebf5cf",
       "version_major": 2,
       "version_minor": 0
      },
      "text/plain": [
       "HBox(children=(FloatProgress(value=0.0, max=32.0), HTML(value='')))"
      ]
     },
     "metadata": {},
     "output_type": "display_data"
    },
    {
     "name": "stdout",
     "output_type": "stream",
     "text": [
      "\n",
      "Epoch: 23\n",
      "Training accuracy: 86.575\n",
      "val accuracy: 85.9\n",
      "F1 score: 0.8585962000553058\n",
      "==============================================\n"
     ]
    },
    {
     "data": {
      "application/vnd.jupyter.widget-view+json": {
       "model_id": "b8e8047013fd4c8f8099751457ffaaac",
       "version_major": 2,
       "version_minor": 0
      },
      "text/plain": [
       "HBox(children=(FloatProgress(value=0.0, max=32.0), HTML(value='')))"
      ]
     },
     "metadata": {},
     "output_type": "display_data"
    },
    {
     "name": "stdout",
     "output_type": "stream",
     "text": [
      "\n",
      "Epoch: 24\n",
      "Training accuracy: 85.075\n",
      "val accuracy: 81.7\n",
      "F1 score: 0.819842150868804\n",
      "==============================================\n"
     ]
    },
    {
     "data": {
      "application/vnd.jupyter.widget-view+json": {
       "model_id": "1d7b3fabe0ee46b280a599fea53afe28",
       "version_major": 2,
       "version_minor": 0
      },
      "text/plain": [
       "HBox(children=(FloatProgress(value=0.0, max=32.0), HTML(value='')))"
      ]
     },
     "metadata": {},
     "output_type": "display_data"
    },
    {
     "name": "stdout",
     "output_type": "stream",
     "text": [
      "\n",
      "Epoch: 25\n",
      "Training accuracy: 80.875\n",
      "val accuracy: 80.6\n",
      "F1 score: 0.8070775526235434\n",
      "==============================================\n"
     ]
    },
    {
     "data": {
      "application/vnd.jupyter.widget-view+json": {
       "model_id": "642f9c10c52e441ab1786d2ad94d9f0a",
       "version_major": 2,
       "version_minor": 0
      },
      "text/plain": [
       "HBox(children=(FloatProgress(value=0.0, max=32.0), HTML(value='')))"
      ]
     },
     "metadata": {},
     "output_type": "display_data"
    },
    {
     "name": "stdout",
     "output_type": "stream",
     "text": [
      "\n",
      "Epoch: 26\n",
      "Training accuracy: 85.3\n",
      "val accuracy: 82.1\n",
      "F1 score: 0.819049904484092\n",
      "==============================================\n"
     ]
    },
    {
     "data": {
      "application/vnd.jupyter.widget-view+json": {
       "model_id": "bd7d5a210edb453080d20322a206311d",
       "version_major": 2,
       "version_minor": 0
      },
      "text/plain": [
       "HBox(children=(FloatProgress(value=0.0, max=32.0), HTML(value='')))"
      ]
     },
     "metadata": {},
     "output_type": "display_data"
    },
    {
     "name": "stdout",
     "output_type": "stream",
     "text": [
      "\n",
      "Epoch: 27\n",
      "Training accuracy: 86.95\n",
      "val accuracy: 84.0\n",
      "F1 score: 0.8419037011059463\n",
      "==============================================\n"
     ]
    },
    {
     "data": {
      "application/vnd.jupyter.widget-view+json": {
       "model_id": "9b09d5c52f7a4cdbb82ba29405eecd16",
       "version_major": 2,
       "version_minor": 0
      },
      "text/plain": [
       "HBox(children=(FloatProgress(value=0.0, max=32.0), HTML(value='')))"
      ]
     },
     "metadata": {},
     "output_type": "display_data"
    },
    {
     "name": "stdout",
     "output_type": "stream",
     "text": [
      "\n",
      "Epoch: 28\n",
      "Training accuracy: 77.0\n",
      "val accuracy: 77.5\n",
      "F1 score: 0.777722511009622\n",
      "==============================================\n"
     ]
    },
    {
     "data": {
      "application/vnd.jupyter.widget-view+json": {
       "model_id": "7911c1bd916f4bb0b82718677a7bdf56",
       "version_major": 2,
       "version_minor": 0
      },
      "text/plain": [
       "HBox(children=(FloatProgress(value=0.0, max=32.0), HTML(value='')))"
      ]
     },
     "metadata": {},
     "output_type": "display_data"
    },
    {
     "name": "stdout",
     "output_type": "stream",
     "text": [
      "\n",
      "Epoch: 29\n",
      "Training accuracy: 73.375\n",
      "val accuracy: 70.9\n",
      "F1 score: 0.7054477494214632\n",
      "==============================================\n"
     ]
    },
    {
     "data": {
      "application/vnd.jupyter.widget-view+json": {
       "model_id": "bd2d8cd6133543aab1bc500a42181439",
       "version_major": 2,
       "version_minor": 0
      },
      "text/plain": [
       "HBox(children=(FloatProgress(value=0.0, max=32.0), HTML(value='')))"
      ]
     },
     "metadata": {},
     "output_type": "display_data"
    },
    {
     "name": "stdout",
     "output_type": "stream",
     "text": [
      "\n",
      "Epoch: 30\n",
      "Training accuracy: 76.95\n",
      "val accuracy: 75.4\n",
      "F1 score: 0.7532921425264969\n",
      "==============================================\n"
     ]
    },
    {
     "data": {
      "application/vnd.jupyter.widget-view+json": {
       "model_id": "2690cdb38ea1490d84e9138ca8b60e1a",
       "version_major": 2,
       "version_minor": 0
      },
      "text/plain": [
       "HBox(children=(FloatProgress(value=0.0, max=32.0), HTML(value='')))"
      ]
     },
     "metadata": {},
     "output_type": "display_data"
    },
    {
     "name": "stdout",
     "output_type": "stream",
     "text": [
      "\n",
      "Epoch: 31\n",
      "Training accuracy: 74.2\n",
      "val accuracy: 75.5\n",
      "F1 score: 0.7386897793223252\n",
      "==============================================\n"
     ]
    },
    {
     "data": {
      "application/vnd.jupyter.widget-view+json": {
       "model_id": "9eed8741f4774e7d90e0a004862d4683",
       "version_major": 2,
       "version_minor": 0
      },
      "text/plain": [
       "HBox(children=(FloatProgress(value=0.0, max=32.0), HTML(value='')))"
      ]
     },
     "metadata": {},
     "output_type": "display_data"
    },
    {
     "name": "stdout",
     "output_type": "stream",
     "text": [
      "\n",
      "Epoch: 32\n",
      "Training accuracy: 81.45\n",
      "val accuracy: 77.9\n",
      "F1 score: 0.7763000209348107\n",
      "==============================================\n"
     ]
    },
    {
     "data": {
      "application/vnd.jupyter.widget-view+json": {
       "model_id": "a15331c7e03541a481306ccc9437cafc",
       "version_major": 2,
       "version_minor": 0
      },
      "text/plain": [
       "HBox(children=(FloatProgress(value=0.0, max=32.0), HTML(value='')))"
      ]
     },
     "metadata": {},
     "output_type": "display_data"
    },
    {
     "name": "stdout",
     "output_type": "stream",
     "text": [
      "\n",
      "Epoch: 33\n",
      "Training accuracy: 83.05\n",
      "val accuracy: 80.1\n",
      "F1 score: 0.8067327238622336\n",
      "==============================================\n"
     ]
    },
    {
     "data": {
      "application/vnd.jupyter.widget-view+json": {
       "model_id": "3ae03297b96f4d2f8161e23badf86008",
       "version_major": 2,
       "version_minor": 0
      },
      "text/plain": [
       "HBox(children=(FloatProgress(value=0.0, max=32.0), HTML(value='')))"
      ]
     },
     "metadata": {},
     "output_type": "display_data"
    },
    {
     "name": "stdout",
     "output_type": "stream",
     "text": [
      "\n",
      "Epoch: 34\n",
      "Training accuracy: 82.225\n",
      "val accuracy: 79.6\n",
      "F1 score: 0.7927791461525835\n",
      "==============================================\n"
     ]
    },
    {
     "data": {
      "application/vnd.jupyter.widget-view+json": {
       "model_id": "d29c2a8147a940efb0df26293a2a97e8",
       "version_major": 2,
       "version_minor": 0
      },
      "text/plain": [
       "HBox(children=(FloatProgress(value=0.0, max=32.0), HTML(value='')))"
      ]
     },
     "metadata": {},
     "output_type": "display_data"
    },
    {
     "name": "stdout",
     "output_type": "stream",
     "text": [
      "\n",
      "Epoch: 35\n",
      "Training accuracy: 85.125\n",
      "val accuracy: 82.9\n",
      "F1 score: 0.8225619754771127\n",
      "==============================================\n"
     ]
    },
    {
     "data": {
      "application/vnd.jupyter.widget-view+json": {
       "model_id": "2eb286fe94df409e86683d6ee0d7addb",
       "version_major": 2,
       "version_minor": 0
      },
      "text/plain": [
       "HBox(children=(FloatProgress(value=0.0, max=32.0), HTML(value='')))"
      ]
     },
     "metadata": {},
     "output_type": "display_data"
    },
    {
     "name": "stdout",
     "output_type": "stream",
     "text": [
      "\n",
      "Epoch: 36\n",
      "Training accuracy: 89.375\n",
      "val accuracy: 86.2\n",
      "F1 score: 0.8599918577462404\n",
      "==============================================\n"
     ]
    },
    {
     "data": {
      "application/vnd.jupyter.widget-view+json": {
       "model_id": "7869f53c5bea4fa3bdc87c07212c037d",
       "version_major": 2,
       "version_minor": 0
      },
      "text/plain": [
       "HBox(children=(FloatProgress(value=0.0, max=32.0), HTML(value='')))"
      ]
     },
     "metadata": {},
     "output_type": "display_data"
    },
    {
     "name": "stdout",
     "output_type": "stream",
     "text": [
      "\n",
      "Epoch: 37\n",
      "Training accuracy: 85.475\n",
      "val accuracy: 84.7\n",
      "F1 score: 0.8415347203558371\n",
      "==============================================\n"
     ]
    },
    {
     "data": {
      "application/vnd.jupyter.widget-view+json": {
       "model_id": "687047ad99bb4f5cb3b0c0b6af76079a",
       "version_major": 2,
       "version_minor": 0
      },
      "text/plain": [
       "HBox(children=(FloatProgress(value=0.0, max=32.0), HTML(value='')))"
      ]
     },
     "metadata": {},
     "output_type": "display_data"
    },
    {
     "name": "stdout",
     "output_type": "stream",
     "text": [
      "\n",
      "Epoch: 38\n",
      "Training accuracy: 84.125\n",
      "val accuracy: 78.9\n",
      "F1 score: 0.791856142423974\n",
      "==============================================\n"
     ]
    },
    {
     "data": {
      "application/vnd.jupyter.widget-view+json": {
       "model_id": "1a8b646f52e6441fb56e81d8494ef6d7",
       "version_major": 2,
       "version_minor": 0
      },
      "text/plain": [
       "HBox(children=(FloatProgress(value=0.0, max=32.0), HTML(value='')))"
      ]
     },
     "metadata": {},
     "output_type": "display_data"
    },
    {
     "name": "stdout",
     "output_type": "stream",
     "text": [
      "\n",
      "Epoch: 39\n",
      "Training accuracy: 76.825\n",
      "val accuracy: 74.1\n",
      "F1 score: 0.7381824063777277\n",
      "==============================================\n"
     ]
    },
    {
     "data": {
      "application/vnd.jupyter.widget-view+json": {
       "model_id": "634da5716bb84e49a769eac1a52958f3",
       "version_major": 2,
       "version_minor": 0
      },
      "text/plain": [
       "HBox(children=(FloatProgress(value=0.0, max=32.0), HTML(value='')))"
      ]
     },
     "metadata": {},
     "output_type": "display_data"
    },
    {
     "name": "stdout",
     "output_type": "stream",
     "text": [
      "\n",
      "Epoch: 40\n",
      "Training accuracy: 61.025\n",
      "val accuracy: 59.6\n",
      "F1 score: 0.5516563893053292\n",
      "==============================================\n"
     ]
    },
    {
     "data": {
      "application/vnd.jupyter.widget-view+json": {
       "model_id": "2ea97744711643df8dc1015b54b3d17f",
       "version_major": 2,
       "version_minor": 0
      },
      "text/plain": [
       "HBox(children=(FloatProgress(value=0.0, max=32.0), HTML(value='')))"
      ]
     },
     "metadata": {},
     "output_type": "display_data"
    },
    {
     "name": "stdout",
     "output_type": "stream",
     "text": [
      "\n",
      "Epoch: 41\n",
      "Training accuracy: 86.6\n",
      "val accuracy: 82.4\n",
      "F1 score: 0.8206106149188991\n",
      "==============================================\n"
     ]
    },
    {
     "data": {
      "application/vnd.jupyter.widget-view+json": {
       "model_id": "046b1b454d3340f2b402e28c37fec684",
       "version_major": 2,
       "version_minor": 0
      },
      "text/plain": [
       "HBox(children=(FloatProgress(value=0.0, max=32.0), HTML(value='')))"
      ]
     },
     "metadata": {},
     "output_type": "display_data"
    },
    {
     "name": "stdout",
     "output_type": "stream",
     "text": [
      "\n",
      "Epoch: 42\n",
      "Training accuracy: 81.125\n",
      "val accuracy: 76.8\n",
      "F1 score: 0.7727729201802799\n",
      "==============================================\n"
     ]
    },
    {
     "data": {
      "application/vnd.jupyter.widget-view+json": {
       "model_id": "7300af4782c446a588cbbe416ead9494",
       "version_major": 2,
       "version_minor": 0
      },
      "text/plain": [
       "HBox(children=(FloatProgress(value=0.0, max=32.0), HTML(value='')))"
      ]
     },
     "metadata": {},
     "output_type": "display_data"
    },
    {
     "name": "stdout",
     "output_type": "stream",
     "text": [
      "\n",
      "Epoch: 43\n",
      "Training accuracy: 85.5\n",
      "val accuracy: 81.1\n",
      "F1 score: 0.8075409859991164\n",
      "==============================================\n"
     ]
    },
    {
     "data": {
      "application/vnd.jupyter.widget-view+json": {
       "model_id": "7755111486414ddaab69f0a93754a6f0",
       "version_major": 2,
       "version_minor": 0
      },
      "text/plain": [
       "HBox(children=(FloatProgress(value=0.0, max=32.0), HTML(value='')))"
      ]
     },
     "metadata": {},
     "output_type": "display_data"
    },
    {
     "name": "stdout",
     "output_type": "stream",
     "text": [
      "\n",
      "Epoch: 44\n",
      "Training accuracy: 84.15\n",
      "val accuracy: 78.4\n",
      "F1 score: 0.7833121825608077\n",
      "==============================================\n"
     ]
    },
    {
     "data": {
      "application/vnd.jupyter.widget-view+json": {
       "model_id": "458df0a0f4634f0da76459532164ee27",
       "version_major": 2,
       "version_minor": 0
      },
      "text/plain": [
       "HBox(children=(FloatProgress(value=0.0, max=32.0), HTML(value='')))"
      ]
     },
     "metadata": {},
     "output_type": "display_data"
    },
    {
     "name": "stdout",
     "output_type": "stream",
     "text": [
      "\n",
      "Epoch: 45\n",
      "Training accuracy: 76.675\n",
      "val accuracy: 75.8\n",
      "F1 score: 0.7584449342117673\n",
      "==============================================\n"
     ]
    },
    {
     "data": {
      "application/vnd.jupyter.widget-view+json": {
       "model_id": "81ee6ee9a059470dab1dafa4b017ce1a",
       "version_major": 2,
       "version_minor": 0
      },
      "text/plain": [
       "HBox(children=(FloatProgress(value=0.0, max=32.0), HTML(value='')))"
      ]
     },
     "metadata": {},
     "output_type": "display_data"
    },
    {
     "name": "stdout",
     "output_type": "stream",
     "text": [
      "\n",
      "Epoch: 46\n",
      "Training accuracy: 82.375\n",
      "val accuracy: 77.4\n",
      "F1 score: 0.7664409127140468\n",
      "==============================================\n"
     ]
    },
    {
     "data": {
      "application/vnd.jupyter.widget-view+json": {
       "model_id": "3638d77a22d34ff2b70697e9362181a8",
       "version_major": 2,
       "version_minor": 0
      },
      "text/plain": [
       "HBox(children=(FloatProgress(value=0.0, max=32.0), HTML(value='')))"
      ]
     },
     "metadata": {},
     "output_type": "display_data"
    },
    {
     "name": "stdout",
     "output_type": "stream",
     "text": [
      "\n",
      "Epoch: 47\n",
      "Training accuracy: 81.825\n",
      "val accuracy: 77.7\n",
      "F1 score: 0.7695357582146671\n",
      "==============================================\n"
     ]
    },
    {
     "data": {
      "application/vnd.jupyter.widget-view+json": {
       "model_id": "6e65fde072c746c3ae29c071dcab180a",
       "version_major": 2,
       "version_minor": 0
      },
      "text/plain": [
       "HBox(children=(FloatProgress(value=0.0, max=32.0), HTML(value='')))"
      ]
     },
     "metadata": {},
     "output_type": "display_data"
    },
    {
     "name": "stdout",
     "output_type": "stream",
     "text": [
      "\n",
      "Epoch: 48\n",
      "Training accuracy: 85.725\n",
      "val accuracy: 82.8\n",
      "F1 score: 0.828599048908603\n",
      "==============================================\n"
     ]
    },
    {
     "data": {
      "application/vnd.jupyter.widget-view+json": {
       "model_id": "453d22b95bf34ba3937b2472475ea436",
       "version_major": 2,
       "version_minor": 0
      },
      "text/plain": [
       "HBox(children=(FloatProgress(value=0.0, max=32.0), HTML(value='')))"
      ]
     },
     "metadata": {},
     "output_type": "display_data"
    },
    {
     "name": "stdout",
     "output_type": "stream",
     "text": [
      "\n",
      "Epoch: 49\n",
      "Training accuracy: 95.9\n",
      "val accuracy: 87.8\n",
      "F1 score: 0.8784954297831026\n",
      "==============================================\n"
     ]
    },
    {
     "data": {
      "application/vnd.jupyter.widget-view+json": {
       "model_id": "0714f505065d4a858a143d4ec14b9bda",
       "version_major": 2,
       "version_minor": 0
      },
      "text/plain": [
       "HBox(children=(FloatProgress(value=0.0, max=32.0), HTML(value='')))"
      ]
     },
     "metadata": {},
     "output_type": "display_data"
    },
    {
     "name": "stdout",
     "output_type": "stream",
     "text": [
      "\n",
      "Epoch: 50\n",
      "Training accuracy: 96.725\n",
      "val accuracy: 88.7\n",
      "F1 score: 0.8869523970057369\n",
      "==============================================\n"
     ]
    },
    {
     "data": {
      "application/vnd.jupyter.widget-view+json": {
       "model_id": "d80c59cf1f974691b891cadf1f99604c",
       "version_major": 2,
       "version_minor": 0
      },
      "text/plain": [
       "HBox(children=(FloatProgress(value=0.0, max=32.0), HTML(value='')))"
      ]
     },
     "metadata": {},
     "output_type": "display_data"
    },
    {
     "name": "stdout",
     "output_type": "stream",
     "text": [
      "\n",
      "Epoch: 51\n",
      "Training accuracy: 96.725\n",
      "val accuracy: 88.7\n",
      "F1 score: 0.8871078121859286\n",
      "==============================================\n"
     ]
    },
    {
     "data": {
      "application/vnd.jupyter.widget-view+json": {
       "model_id": "ff5e7609c4e34e06b67842cbae113b5b",
       "version_major": 2,
       "version_minor": 0
      },
      "text/plain": [
       "HBox(children=(FloatProgress(value=0.0, max=32.0), HTML(value='')))"
      ]
     },
     "metadata": {},
     "output_type": "display_data"
    },
    {
     "name": "stdout",
     "output_type": "stream",
     "text": [
      "\n",
      "Epoch: 52\n",
      "Training accuracy: 96.7\n",
      "val accuracy: 88.0\n",
      "F1 score: 0.8803486838199523\n",
      "==============================================\n"
     ]
    },
    {
     "data": {
      "application/vnd.jupyter.widget-view+json": {
       "model_id": "0e2d60fc3f4c4fa784b081472260b98a",
       "version_major": 2,
       "version_minor": 0
      },
      "text/plain": [
       "HBox(children=(FloatProgress(value=0.0, max=32.0), HTML(value='')))"
      ]
     },
     "metadata": {},
     "output_type": "display_data"
    },
    {
     "name": "stdout",
     "output_type": "stream",
     "text": [
      "\n",
      "Epoch: 53\n",
      "Training accuracy: 96.975\n",
      "val accuracy: 88.0\n",
      "F1 score: 0.8804274831565801\n",
      "==============================================\n"
     ]
    },
    {
     "data": {
      "application/vnd.jupyter.widget-view+json": {
       "model_id": "68012c4fdd034ab58d99c2182d773c3c",
       "version_major": 2,
       "version_minor": 0
      },
      "text/plain": [
       "HBox(children=(FloatProgress(value=0.0, max=32.0), HTML(value='')))"
      ]
     },
     "metadata": {},
     "output_type": "display_data"
    },
    {
     "name": "stdout",
     "output_type": "stream",
     "text": [
      "\n",
      "Epoch: 54\n",
      "Training accuracy: 97.7\n",
      "val accuracy: 88.1\n",
      "F1 score: 0.8805260922679404\n",
      "==============================================\n"
     ]
    },
    {
     "data": {
      "application/vnd.jupyter.widget-view+json": {
       "model_id": "ae80f7f02611410090d9e373f6760972",
       "version_major": 2,
       "version_minor": 0
      },
      "text/plain": [
       "HBox(children=(FloatProgress(value=0.0, max=32.0), HTML(value='')))"
      ]
     },
     "metadata": {},
     "output_type": "display_data"
    },
    {
     "name": "stdout",
     "output_type": "stream",
     "text": [
      "\n",
      "Epoch: 55\n",
      "Training accuracy: 97.725\n",
      "val accuracy: 88.5\n",
      "F1 score: 0.8853406009432473\n",
      "==============================================\n"
     ]
    },
    {
     "data": {
      "application/vnd.jupyter.widget-view+json": {
       "model_id": "bf94ecc788084ca0ab4f3470371b0ecf",
       "version_major": 2,
       "version_minor": 0
      },
      "text/plain": [
       "HBox(children=(FloatProgress(value=0.0, max=32.0), HTML(value='')))"
      ]
     },
     "metadata": {},
     "output_type": "display_data"
    },
    {
     "name": "stdout",
     "output_type": "stream",
     "text": [
      "\n",
      "Epoch: 56\n",
      "Training accuracy: 97.625\n",
      "val accuracy: 88.4\n",
      "F1 score: 0.8840447384639318\n",
      "==============================================\n"
     ]
    },
    {
     "data": {
      "application/vnd.jupyter.widget-view+json": {
       "model_id": "eba980d74e08409a98a82b9658f1f7cd",
       "version_major": 2,
       "version_minor": 0
      },
      "text/plain": [
       "HBox(children=(FloatProgress(value=0.0, max=32.0), HTML(value='')))"
      ]
     },
     "metadata": {},
     "output_type": "display_data"
    },
    {
     "name": "stdout",
     "output_type": "stream",
     "text": [
      "\n",
      "Epoch: 57\n",
      "Training accuracy: 97.375\n",
      "val accuracy: 88.2\n",
      "F1 score: 0.8818280149750385\n",
      "==============================================\n"
     ]
    },
    {
     "data": {
      "application/vnd.jupyter.widget-view+json": {
       "model_id": "af9292ad7b0b49a89466c1775b714e42",
       "version_major": 2,
       "version_minor": 0
      },
      "text/plain": [
       "HBox(children=(FloatProgress(value=0.0, max=32.0), HTML(value='')))"
      ]
     },
     "metadata": {},
     "output_type": "display_data"
    },
    {
     "name": "stdout",
     "output_type": "stream",
     "text": [
      "\n",
      "Epoch: 58\n",
      "Training accuracy: 97.325\n",
      "val accuracy: 87.7\n",
      "F1 score: 0.8782880548541807\n",
      "==============================================\n"
     ]
    },
    {
     "data": {
      "application/vnd.jupyter.widget-view+json": {
       "model_id": "c4c74490cc4740b59cf7696503d8ab73",
       "version_major": 2,
       "version_minor": 0
      },
      "text/plain": [
       "HBox(children=(FloatProgress(value=0.0, max=32.0), HTML(value='')))"
      ]
     },
     "metadata": {},
     "output_type": "display_data"
    },
    {
     "name": "stdout",
     "output_type": "stream",
     "text": [
      "\n",
      "Epoch: 59\n",
      "Training accuracy: 97.575\n",
      "val accuracy: 87.8\n",
      "F1 score: 0.8786494526454939\n",
      "==============================================\n"
     ]
    },
    {
     "data": {
      "application/vnd.jupyter.widget-view+json": {
       "model_id": "70a376707b1e4e62b273585a55cc4b92",
       "version_major": 2,
       "version_minor": 0
      },
      "text/plain": [
       "HBox(children=(FloatProgress(value=0.0, max=32.0), HTML(value='')))"
      ]
     },
     "metadata": {},
     "output_type": "display_data"
    },
    {
     "name": "stdout",
     "output_type": "stream",
     "text": [
      "\n",
      "Epoch: 60\n",
      "Training accuracy: 98.2\n",
      "val accuracy: 87.8\n",
      "F1 score: 0.8780513184045127\n",
      "==============================================\n"
     ]
    },
    {
     "data": {
      "application/vnd.jupyter.widget-view+json": {
       "model_id": "7777df4d52f343b7bb1ae8d228ade56b",
       "version_major": 2,
       "version_minor": 0
      },
      "text/plain": [
       "HBox(children=(FloatProgress(value=0.0, max=32.0), HTML(value='')))"
      ]
     },
     "metadata": {},
     "output_type": "display_data"
    },
    {
     "name": "stdout",
     "output_type": "stream",
     "text": [
      "\n",
      "Epoch: 61\n",
      "Training accuracy: 98.4\n",
      "val accuracy: 87.9\n",
      "F1 score: 0.8790669641462603\n",
      "==============================================\n"
     ]
    },
    {
     "data": {
      "application/vnd.jupyter.widget-view+json": {
       "model_id": "1bff9578436541d79889c7873e106190",
       "version_major": 2,
       "version_minor": 0
      },
      "text/plain": [
       "HBox(children=(FloatProgress(value=0.0, max=32.0), HTML(value='')))"
      ]
     },
     "metadata": {},
     "output_type": "display_data"
    },
    {
     "name": "stdout",
     "output_type": "stream",
     "text": [
      "\n",
      "Epoch: 62\n",
      "Training accuracy: 97.975\n",
      "val accuracy: 88.0\n",
      "F1 score: 0.8799665166437253\n",
      "==============================================\n"
     ]
    },
    {
     "data": {
      "application/vnd.jupyter.widget-view+json": {
       "model_id": "2318baf0b32e492982409b77d0225026",
       "version_major": 2,
       "version_minor": 0
      },
      "text/plain": [
       "HBox(children=(FloatProgress(value=0.0, max=32.0), HTML(value='')))"
      ]
     },
     "metadata": {},
     "output_type": "display_data"
    },
    {
     "name": "stdout",
     "output_type": "stream",
     "text": [
      "\n",
      "Epoch: 63\n",
      "Training accuracy: 98.525\n",
      "val accuracy: 88.7\n",
      "F1 score: 0.8869300512809343\n",
      "==============================================\n"
     ]
    },
    {
     "data": {
      "application/vnd.jupyter.widget-view+json": {
       "model_id": "4abdb5f52dd74e97823f4d0bfd899597",
       "version_major": 2,
       "version_minor": 0
      },
      "text/plain": [
       "HBox(children=(FloatProgress(value=0.0, max=32.0), HTML(value='')))"
      ]
     },
     "metadata": {},
     "output_type": "display_data"
    },
    {
     "name": "stdout",
     "output_type": "stream",
     "text": [
      "\n",
      "Epoch: 64\n",
      "Training accuracy: 98.225\n",
      "val accuracy: 87.9\n",
      "F1 score: 0.8796476279515097\n",
      "==============================================\n"
     ]
    },
    {
     "data": {
      "application/vnd.jupyter.widget-view+json": {
       "model_id": "2845f45abd8f4b38beddc236a431e935",
       "version_major": 2,
       "version_minor": 0
      },
      "text/plain": [
       "HBox(children=(FloatProgress(value=0.0, max=32.0), HTML(value='')))"
      ]
     },
     "metadata": {},
     "output_type": "display_data"
    },
    {
     "name": "stdout",
     "output_type": "stream",
     "text": [
      "\n",
      "Epoch: 65\n",
      "Training accuracy: 98.4\n",
      "val accuracy: 88.7\n",
      "F1 score: 0.886463595337163\n",
      "==============================================\n"
     ]
    },
    {
     "data": {
      "application/vnd.jupyter.widget-view+json": {
       "model_id": "12d257a3d14f4baa8a1ce7d08df87557",
       "version_major": 2,
       "version_minor": 0
      },
      "text/plain": [
       "HBox(children=(FloatProgress(value=0.0, max=32.0), HTML(value='')))"
      ]
     },
     "metadata": {},
     "output_type": "display_data"
    },
    {
     "name": "stdout",
     "output_type": "stream",
     "text": [
      "\n",
      "Epoch: 66\n",
      "Training accuracy: 98.55\n",
      "val accuracy: 88.8\n",
      "F1 score: 0.8884332311708715\n",
      "==============================================\n"
     ]
    },
    {
     "data": {
      "application/vnd.jupyter.widget-view+json": {
       "model_id": "e81e208255d9434db51a6a199abfb6ac",
       "version_major": 2,
       "version_minor": 0
      },
      "text/plain": [
       "HBox(children=(FloatProgress(value=0.0, max=32.0), HTML(value='')))"
      ]
     },
     "metadata": {},
     "output_type": "display_data"
    },
    {
     "name": "stdout",
     "output_type": "stream",
     "text": [
      "\n",
      "Epoch: 67\n",
      "Training accuracy: 98.65\n",
      "val accuracy: 87.7\n",
      "F1 score: 0.8780813473531391\n",
      "==============================================\n"
     ]
    },
    {
     "data": {
      "application/vnd.jupyter.widget-view+json": {
       "model_id": "6722a4a6e2014cd588e9676c0e1d8a78",
       "version_major": 2,
       "version_minor": 0
      },
      "text/plain": [
       "HBox(children=(FloatProgress(value=0.0, max=32.0), HTML(value='')))"
      ]
     },
     "metadata": {},
     "output_type": "display_data"
    },
    {
     "name": "stdout",
     "output_type": "stream",
     "text": [
      "\n",
      "Epoch: 68\n",
      "Training accuracy: 98.775\n",
      "val accuracy: 88.2\n",
      "F1 score: 0.8823852613619613\n",
      "==============================================\n"
     ]
    },
    {
     "data": {
      "application/vnd.jupyter.widget-view+json": {
       "model_id": "e7e9d09da66142eda4eae4e5b5c4b92e",
       "version_major": 2,
       "version_minor": 0
      },
      "text/plain": [
       "HBox(children=(FloatProgress(value=0.0, max=32.0), HTML(value='')))"
      ]
     },
     "metadata": {},
     "output_type": "display_data"
    },
    {
     "name": "stdout",
     "output_type": "stream",
     "text": [
      "\n",
      "Epoch: 69\n",
      "Training accuracy: 98.625\n",
      "val accuracy: 88.1\n",
      "F1 score: 0.8811823238088209\n",
      "==============================================\n"
     ]
    },
    {
     "data": {
      "application/vnd.jupyter.widget-view+json": {
       "model_id": "8b5c119fbca34947858d716e0b10d340",
       "version_major": 2,
       "version_minor": 0
      },
      "text/plain": [
       "HBox(children=(FloatProgress(value=0.0, max=32.0), HTML(value='')))"
      ]
     },
     "metadata": {},
     "output_type": "display_data"
    },
    {
     "name": "stdout",
     "output_type": "stream",
     "text": [
      "\n",
      "Epoch: 70\n",
      "Training accuracy: 98.725\n",
      "val accuracy: 88.8\n",
      "F1 score: 0.88797121476798\n",
      "==============================================\n"
     ]
    },
    {
     "data": {
      "application/vnd.jupyter.widget-view+json": {
       "model_id": "c5548f0120c940da9bce6d0266fd3b9e",
       "version_major": 2,
       "version_minor": 0
      },
      "text/plain": [
       "HBox(children=(FloatProgress(value=0.0, max=32.0), HTML(value='')))"
      ]
     },
     "metadata": {},
     "output_type": "display_data"
    },
    {
     "name": "stdout",
     "output_type": "stream",
     "text": [
      "\n",
      "Epoch: 71\n",
      "Training accuracy: 99.1\n",
      "val accuracy: 87.7\n",
      "F1 score: 0.8774640729495014\n",
      "==============================================\n"
     ]
    },
    {
     "data": {
      "application/vnd.jupyter.widget-view+json": {
       "model_id": "06a6de52715d4a7bbfd083b9b3512d45",
       "version_major": 2,
       "version_minor": 0
      },
      "text/plain": [
       "HBox(children=(FloatProgress(value=0.0, max=32.0), HTML(value='')))"
      ]
     },
     "metadata": {},
     "output_type": "display_data"
    },
    {
     "name": "stdout",
     "output_type": "stream",
     "text": [
      "\n",
      "Epoch: 72\n",
      "Training accuracy: 98.9\n",
      "val accuracy: 87.2\n",
      "F1 score: 0.8728459505199989\n",
      "==============================================\n"
     ]
    },
    {
     "data": {
      "application/vnd.jupyter.widget-view+json": {
       "model_id": "20fd5a4c0f3849198e9e15b56a3117e4",
       "version_major": 2,
       "version_minor": 0
      },
      "text/plain": [
       "HBox(children=(FloatProgress(value=0.0, max=32.0), HTML(value='')))"
      ]
     },
     "metadata": {},
     "output_type": "display_data"
    },
    {
     "name": "stdout",
     "output_type": "stream",
     "text": [
      "\n",
      "Epoch: 73\n",
      "Training accuracy: 98.875\n",
      "val accuracy: 87.9\n",
      "F1 score: 0.879663425691358\n",
      "==============================================\n"
     ]
    },
    {
     "data": {
      "application/vnd.jupyter.widget-view+json": {
       "model_id": "591c6883c9ae4c35b35b6b2b16e9c868",
       "version_major": 2,
       "version_minor": 0
      },
      "text/plain": [
       "HBox(children=(FloatProgress(value=0.0, max=32.0), HTML(value='')))"
      ]
     },
     "metadata": {},
     "output_type": "display_data"
    },
    {
     "name": "stdout",
     "output_type": "stream",
     "text": [
      "\n",
      "Epoch: 74\n",
      "Training accuracy: 98.75\n",
      "val accuracy: 87.8\n",
      "F1 score: 0.8782648834079629\n",
      "==============================================\n"
     ]
    },
    {
     "data": {
      "application/vnd.jupyter.widget-view+json": {
       "model_id": "af110380e7cb4c6eb05bdfada2201820",
       "version_major": 2,
       "version_minor": 0
      },
      "text/plain": [
       "HBox(children=(FloatProgress(value=0.0, max=32.0), HTML(value='')))"
      ]
     },
     "metadata": {},
     "output_type": "display_data"
    },
    {
     "name": "stdout",
     "output_type": "stream",
     "text": [
      "\n",
      "Epoch: 75\n",
      "Training accuracy: 99.3\n",
      "val accuracy: 88.1\n",
      "F1 score: 0.8814033006329546\n",
      "==============================================\n"
     ]
    },
    {
     "data": {
      "application/vnd.jupyter.widget-view+json": {
       "model_id": "0d44205098ac46a7a012a38f06c2b4ef",
       "version_major": 2,
       "version_minor": 0
      },
      "text/plain": [
       "HBox(children=(FloatProgress(value=0.0, max=32.0), HTML(value='')))"
      ]
     },
     "metadata": {},
     "output_type": "display_data"
    },
    {
     "name": "stdout",
     "output_type": "stream",
     "text": [
      "\n",
      "Epoch: 76\n",
      "Training accuracy: 99.25\n",
      "val accuracy: 87.4\n",
      "F1 score: 0.8744348035219207\n",
      "==============================================\n"
     ]
    },
    {
     "data": {
      "application/vnd.jupyter.widget-view+json": {
       "model_id": "7c84bbfd662d4b81aa5215062ba8373a",
       "version_major": 2,
       "version_minor": 0
      },
      "text/plain": [
       "HBox(children=(FloatProgress(value=0.0, max=32.0), HTML(value='')))"
      ]
     },
     "metadata": {},
     "output_type": "display_data"
    },
    {
     "name": "stdout",
     "output_type": "stream",
     "text": [
      "\n",
      "Epoch: 77\n",
      "Training accuracy: 99.15\n",
      "val accuracy: 88.2\n",
      "F1 score: 0.8818545744497149\n",
      "==============================================\n"
     ]
    },
    {
     "data": {
      "application/vnd.jupyter.widget-view+json": {
       "model_id": "00b8426aafba4b42b85e566833c7ee15",
       "version_major": 2,
       "version_minor": 0
      },
      "text/plain": [
       "HBox(children=(FloatProgress(value=0.0, max=32.0), HTML(value='')))"
      ]
     },
     "metadata": {},
     "output_type": "display_data"
    },
    {
     "name": "stdout",
     "output_type": "stream",
     "text": [
      "\n",
      "Epoch: 78\n",
      "Training accuracy: 98.75\n",
      "val accuracy: 87.6\n",
      "F1 score: 0.8775004141193129\n",
      "==============================================\n"
     ]
    },
    {
     "data": {
      "application/vnd.jupyter.widget-view+json": {
       "model_id": "8cb39ee40d864d658a0b57d88383a98c",
       "version_major": 2,
       "version_minor": 0
      },
      "text/plain": [
       "HBox(children=(FloatProgress(value=0.0, max=32.0), HTML(value='')))"
      ]
     },
     "metadata": {},
     "output_type": "display_data"
    },
    {
     "name": "stdout",
     "output_type": "stream",
     "text": [
      "\n",
      "Epoch: 79\n",
      "Training accuracy: 99.1\n",
      "val accuracy: 87.7\n",
      "F1 score: 0.8780122253217487\n",
      "==============================================\n"
     ]
    },
    {
     "data": {
      "application/vnd.jupyter.widget-view+json": {
       "model_id": "eb5dc53b3b5443018efb9a80774bb553",
       "version_major": 2,
       "version_minor": 0
      },
      "text/plain": [
       "HBox(children=(FloatProgress(value=0.0, max=32.0), HTML(value='')))"
      ]
     },
     "metadata": {},
     "output_type": "display_data"
    },
    {
     "name": "stdout",
     "output_type": "stream",
     "text": [
      "\n",
      "Epoch: 80\n",
      "Training accuracy: 99.275\n",
      "val accuracy: 87.3\n",
      "F1 score: 0.8739992754399618\n",
      "==============================================\n"
     ]
    },
    {
     "data": {
      "application/vnd.jupyter.widget-view+json": {
       "model_id": "dac9f70649244ed69152212091ffab38",
       "version_major": 2,
       "version_minor": 0
      },
      "text/plain": [
       "HBox(children=(FloatProgress(value=0.0, max=32.0), HTML(value='')))"
      ]
     },
     "metadata": {},
     "output_type": "display_data"
    },
    {
     "name": "stdout",
     "output_type": "stream",
     "text": [
      "\n",
      "Epoch: 81\n",
      "Training accuracy: 99.425\n",
      "val accuracy: 87.8\n",
      "F1 score: 0.8778560179572558\n",
      "==============================================\n"
     ]
    },
    {
     "data": {
      "application/vnd.jupyter.widget-view+json": {
       "model_id": "fcf63a8fdd2445dd81a20bf30268efac",
       "version_major": 2,
       "version_minor": 0
      },
      "text/plain": [
       "HBox(children=(FloatProgress(value=0.0, max=32.0), HTML(value='')))"
      ]
     },
     "metadata": {},
     "output_type": "display_data"
    },
    {
     "name": "stdout",
     "output_type": "stream",
     "text": [
      "\n",
      "Epoch: 82\n",
      "Training accuracy: 99.475\n",
      "val accuracy: 87.9\n",
      "F1 score: 0.8792216410375538\n",
      "==============================================\n"
     ]
    },
    {
     "data": {
      "application/vnd.jupyter.widget-view+json": {
       "model_id": "e3944905774641debce804486a837fa8",
       "version_major": 2,
       "version_minor": 0
      },
      "text/plain": [
       "HBox(children=(FloatProgress(value=0.0, max=32.0), HTML(value='')))"
      ]
     },
     "metadata": {},
     "output_type": "display_data"
    },
    {
     "name": "stdout",
     "output_type": "stream",
     "text": [
      "\n",
      "Epoch: 83\n",
      "Training accuracy: 99.1\n",
      "val accuracy: 88.7\n",
      "F1 score: 0.8877003718726096\n",
      "==============================================\n"
     ]
    },
    {
     "data": {
      "application/vnd.jupyter.widget-view+json": {
       "model_id": "fc6c988b2c21434dba5fdc4debf8d406",
       "version_major": 2,
       "version_minor": 0
      },
      "text/plain": [
       "HBox(children=(FloatProgress(value=0.0, max=32.0), HTML(value='')))"
      ]
     },
     "metadata": {},
     "output_type": "display_data"
    },
    {
     "name": "stdout",
     "output_type": "stream",
     "text": [
      "\n",
      "Epoch: 84\n",
      "Training accuracy: 99.575\n",
      "val accuracy: 88.1\n",
      "F1 score: 0.8812803728488877\n",
      "==============================================\n"
     ]
    },
    {
     "data": {
      "application/vnd.jupyter.widget-view+json": {
       "model_id": "a87bc0d039b7475b8beb592df0be83a9",
       "version_major": 2,
       "version_minor": 0
      },
      "text/plain": [
       "HBox(children=(FloatProgress(value=0.0, max=32.0), HTML(value='')))"
      ]
     },
     "metadata": {},
     "output_type": "display_data"
    },
    {
     "name": "stdout",
     "output_type": "stream",
     "text": [
      "\n",
      "Epoch: 85\n",
      "Training accuracy: 99.5\n",
      "val accuracy: 87.8\n",
      "F1 score: 0.8790532446387902\n",
      "==============================================\n"
     ]
    },
    {
     "data": {
      "application/vnd.jupyter.widget-view+json": {
       "model_id": "f8ae8c1c503e4587bb37d67e19c11323",
       "version_major": 2,
       "version_minor": 0
      },
      "text/plain": [
       "HBox(children=(FloatProgress(value=0.0, max=32.0), HTML(value='')))"
      ]
     },
     "metadata": {},
     "output_type": "display_data"
    },
    {
     "name": "stdout",
     "output_type": "stream",
     "text": [
      "\n",
      "Epoch: 86\n",
      "Training accuracy: 99.475\n",
      "val accuracy: 87.9\n",
      "F1 score: 0.8801246062135856\n",
      "==============================================\n"
     ]
    },
    {
     "data": {
      "application/vnd.jupyter.widget-view+json": {
       "model_id": "91911e68a33a4a1583b91939fd5d521c",
       "version_major": 2,
       "version_minor": 0
      },
      "text/plain": [
       "HBox(children=(FloatProgress(value=0.0, max=32.0), HTML(value='')))"
      ]
     },
     "metadata": {},
     "output_type": "display_data"
    },
    {
     "name": "stdout",
     "output_type": "stream",
     "text": [
      "\n",
      "Epoch: 87\n",
      "Training accuracy: 99.675\n",
      "val accuracy: 88.1\n",
      "F1 score: 0.8807473689693781\n",
      "==============================================\n"
     ]
    },
    {
     "data": {
      "application/vnd.jupyter.widget-view+json": {
       "model_id": "10304ccfef104f3491c3b4c214833e92",
       "version_major": 2,
       "version_minor": 0
      },
      "text/plain": [
       "HBox(children=(FloatProgress(value=0.0, max=32.0), HTML(value='')))"
      ]
     },
     "metadata": {},
     "output_type": "display_data"
    },
    {
     "name": "stdout",
     "output_type": "stream",
     "text": [
      "\n",
      "Epoch: 88\n",
      "Training accuracy: 99.275\n",
      "val accuracy: 87.8\n",
      "F1 score: 0.8788002481398591\n",
      "==============================================\n"
     ]
    },
    {
     "data": {
      "application/vnd.jupyter.widget-view+json": {
       "model_id": "6bd90814febc470eba31ee83d4ae0ca0",
       "version_major": 2,
       "version_minor": 0
      },
      "text/plain": [
       "HBox(children=(FloatProgress(value=0.0, max=32.0), HTML(value='')))"
      ]
     },
     "metadata": {},
     "output_type": "display_data"
    },
    {
     "name": "stdout",
     "output_type": "stream",
     "text": [
      "\n",
      "Epoch: 89\n",
      "Training accuracy: 99.2\n",
      "val accuracy: 86.3\n",
      "F1 score: 0.8647227368022136\n",
      "==============================================\n"
     ]
    },
    {
     "data": {
      "application/vnd.jupyter.widget-view+json": {
       "model_id": "160e841804ce4aa98e35296c03c1de47",
       "version_major": 2,
       "version_minor": 0
      },
      "text/plain": [
       "HBox(children=(FloatProgress(value=0.0, max=32.0), HTML(value='')))"
      ]
     },
     "metadata": {},
     "output_type": "display_data"
    },
    {
     "name": "stdout",
     "output_type": "stream",
     "text": [
      "\n",
      "Epoch: 90\n",
      "Training accuracy: 99.125\n",
      "val accuracy: 87.7\n",
      "F1 score: 0.8784636923034926\n",
      "==============================================\n"
     ]
    },
    {
     "data": {
      "application/vnd.jupyter.widget-view+json": {
       "model_id": "5d0a6f3b62a4485282182431121a2d04",
       "version_major": 2,
       "version_minor": 0
      },
      "text/plain": [
       "HBox(children=(FloatProgress(value=0.0, max=32.0), HTML(value='')))"
      ]
     },
     "metadata": {},
     "output_type": "display_data"
    },
    {
     "name": "stdout",
     "output_type": "stream",
     "text": [
      "\n",
      "Epoch: 91\n",
      "Training accuracy: 99.525\n",
      "val accuracy: 87.7\n",
      "F1 score: 0.8785974324115614\n",
      "==============================================\n"
     ]
    },
    {
     "data": {
      "application/vnd.jupyter.widget-view+json": {
       "model_id": "61e66c77a123423699d0e7ef3a3af40a",
       "version_major": 2,
       "version_minor": 0
      },
      "text/plain": [
       "HBox(children=(FloatProgress(value=0.0, max=32.0), HTML(value='')))"
      ]
     },
     "metadata": {},
     "output_type": "display_data"
    },
    {
     "name": "stdout",
     "output_type": "stream",
     "text": [
      "\n",
      "Epoch: 92\n",
      "Training accuracy: 99.675\n",
      "val accuracy: 88.1\n",
      "F1 score: 0.8799025321499178\n",
      "==============================================\n"
     ]
    },
    {
     "data": {
      "application/vnd.jupyter.widget-view+json": {
       "model_id": "f03494fb303c403ab56f1923fe0b2a4b",
       "version_major": 2,
       "version_minor": 0
      },
      "text/plain": [
       "HBox(children=(FloatProgress(value=0.0, max=32.0), HTML(value='')))"
      ]
     },
     "metadata": {},
     "output_type": "display_data"
    },
    {
     "name": "stdout",
     "output_type": "stream",
     "text": [
      "\n",
      "Epoch: 93\n",
      "Training accuracy: 99.9\n",
      "val accuracy: 87.7\n",
      "F1 score: 0.8774892785875259\n",
      "==============================================\n"
     ]
    },
    {
     "data": {
      "application/vnd.jupyter.widget-view+json": {
       "model_id": "e1ecfe83d94f4f3cb9710d21209e52d7",
       "version_major": 2,
       "version_minor": 0
      },
      "text/plain": [
       "HBox(children=(FloatProgress(value=0.0, max=32.0), HTML(value='')))"
      ]
     },
     "metadata": {},
     "output_type": "display_data"
    },
    {
     "name": "stdout",
     "output_type": "stream",
     "text": [
      "\n",
      "Epoch: 94\n",
      "Training accuracy: 99.925\n",
      "val accuracy: 87.9\n",
      "F1 score: 0.8791035461875786\n",
      "==============================================\n"
     ]
    },
    {
     "data": {
      "application/vnd.jupyter.widget-view+json": {
       "model_id": "c674266c03f247c09fb91e14f2af47e2",
       "version_major": 2,
       "version_minor": 0
      },
      "text/plain": [
       "HBox(children=(FloatProgress(value=0.0, max=32.0), HTML(value='')))"
      ]
     },
     "metadata": {},
     "output_type": "display_data"
    },
    {
     "name": "stdout",
     "output_type": "stream",
     "text": [
      "\n",
      "Epoch: 95\n",
      "Training accuracy: 99.95\n",
      "val accuracy: 87.9\n",
      "F1 score: 0.8794125731550994\n",
      "==============================================\n"
     ]
    },
    {
     "data": {
      "application/vnd.jupyter.widget-view+json": {
       "model_id": "35041cf283c7450494b97dc4fdbb53a2",
       "version_major": 2,
       "version_minor": 0
      },
      "text/plain": [
       "HBox(children=(FloatProgress(value=0.0, max=32.0), HTML(value='')))"
      ]
     },
     "metadata": {},
     "output_type": "display_data"
    },
    {
     "name": "stdout",
     "output_type": "stream",
     "text": [
      "\n",
      "Epoch: 96\n",
      "Training accuracy: 99.85\n",
      "val accuracy: 87.7\n",
      "F1 score: 0.8774473692914675\n",
      "==============================================\n"
     ]
    },
    {
     "data": {
      "application/vnd.jupyter.widget-view+json": {
       "model_id": "ef72a7fed5fc4f31b113814a33c4dfc3",
       "version_major": 2,
       "version_minor": 0
      },
      "text/plain": [
       "HBox(children=(FloatProgress(value=0.0, max=32.0), HTML(value='')))"
      ]
     },
     "metadata": {},
     "output_type": "display_data"
    },
    {
     "name": "stdout",
     "output_type": "stream",
     "text": [
      "\n",
      "Epoch: 97\n",
      "Training accuracy: 99.95\n",
      "val accuracy: 87.6\n",
      "F1 score: 0.8758859853504578\n",
      "==============================================\n"
     ]
    },
    {
     "data": {
      "application/vnd.jupyter.widget-view+json": {
       "model_id": "dd4d546043dd45ca810d0d4227048985",
       "version_major": 2,
       "version_minor": 0
      },
      "text/plain": [
       "HBox(children=(FloatProgress(value=0.0, max=32.0), HTML(value='')))"
      ]
     },
     "metadata": {},
     "output_type": "display_data"
    },
    {
     "name": "stdout",
     "output_type": "stream",
     "text": [
      "\n",
      "Epoch: 98\n",
      "Training accuracy: 99.95\n",
      "val accuracy: 88.2\n",
      "F1 score: 0.8823447965634366\n",
      "==============================================\n"
     ]
    },
    {
     "data": {
      "application/vnd.jupyter.widget-view+json": {
       "model_id": "590ee0c8cc354b24803ddd695faf7e85",
       "version_major": 2,
       "version_minor": 0
      },
      "text/plain": [
       "HBox(children=(FloatProgress(value=0.0, max=32.0), HTML(value='')))"
      ]
     },
     "metadata": {},
     "output_type": "display_data"
    },
    {
     "name": "stdout",
     "output_type": "stream",
     "text": [
      "\n",
      "Epoch: 99\n",
      "Training accuracy: 99.975\n",
      "val accuracy: 87.7\n",
      "F1 score: 0.8774330528859203\n",
      "==============================================\n"
     ]
    },
    {
     "data": {
      "image/png": "[encoded data removed]",
      "text/plain": [
       "<Figure size 576x576 with 2 Axes>"
      ]
     },
     "metadata": {
      "needs_background": "light"
     },
     "output_type": "display_data"
    },
    {
     "data": {
      "application/vnd.jupyter.widget-view+json": {
       "model_id": "1c701a8b259446b8bfa9af5871779fa5",
       "version_major": 2,
       "version_minor": 0
      },
      "text/plain": [
       "HBox(children=(FloatProgress(value=1.0, bar_style='info', max=1.0), HTML(value='')))"
      ]
     },
     "metadata": {},
     "output_type": "display_data"
    },
    {
     "name": "stdout",
     "output_type": "stream",
     "text": [
      "\n",
      "{'1D_ResNet': 86.29778695106506, 'SVC': 4.051560640335083, 'RandomForest': 1.0714848041534424, 'knn': 0.12500500679016113, 'DecisionTree': 1.2606956958770752, 'GradientBoosting': 255.88337349891663, 'XgBoost': 44.33706521987915, 'LightGBM': 12.474993705749512}\n",
      "{'1D_ResNet': 0.8884332311708715, 'SVC': 0.6857888698429276, 'RandomForest': 0.8341433527009251, 'knn': 0.7434760167620862, 'DecisionTree': 0.7269885427251445, 'GradientBoosting': 0.8322925663933848, 'XgBoost': 0.8429881729224363, 'LightGBM': 0.8502433043354322}\n",
      "Counter({'1D_ResNet': 0.888, 'LightGBM': 0.851, 'XgBoost': 0.844, 'RandomForest': 0.834, 'GradientBoosting': 0.833, 'knn': 0.743, 'DecisionTree': 0.727, 'SVC': 0.689})\n"
     ]
    },
    {
     "data": {
      "image/png": "[encoded data removed]",
      "text/plain": [
       "<Figure size 720x720 with 1 Axes>"
      ]
     },
     "metadata": {
      "needs_background": "light"
     },
     "output_type": "display_data"
    }
   ],
   "source": [
    "acc_result={}\n",
    "time_result={}\n",
    "f1_result={}\n",
    "\n",
    "dataset_path = '512_colorectal.csv'\n",
    "train_data_loader, test_data_loader, num_train_instances, num_test_instances, n_cat = open_file(dataset_path)\n",
    "\n",
    "data = pd.read_csv(dataset_path)\n",
    "dataset = data.sample(frac=1).reset_index(drop=True)\n",
    "dataset = dataset.fillna(0)\n",
    "X_len = len(dataset.columns)\n",
    "X = dataset.iloc[:, 3:X_len].values if X_len==515 else dataset.iloc[:, 2:X_len].values\n",
    "y = dataset.iloc[:, 2].values if X_len==515 else dataset.iloc[:, 1].values\n",
    "if np.min(y) > 0: \n",
    "    y = y-np.min(y)\n",
    "n_cat = int(max(y))+1\n",
    "X_train, X_test, y_train, y_test = train_test_split(X, y, test_size = 0.2, random_state = 20, shuffle=True)\n",
    "\n",
    "model=Exe_Model(MSResNet)\n",
    "model.set_model(n_cat)\n",
    "model.train_model(train_data_loader, test_data_loader, num_train_instances, num_test_instances, es_tolerance=50)\n",
    "model.cm()\n",
    "\n",
    "acc_result['1D_ResNet'] = model.best_acc\n",
    "time_result['1D_ResNet'] = model.train_time\n",
    "f1_result['1D_ResNet'] = model.f1score\n",
    "\n",
    "for idx, sk_model in tqdm(enumerate(models)):\n",
    "    if sk_model=='SVC':\n",
    "        train_model=SVC(kernel='rbf', C = 10, gamma=0.001)\n",
    "    elif sk_model=='RandomForest':\n",
    "        train_model=RandomForestClassifier(criterion='gini', n_estimators=200, random_state=4, n_jobs=10)\n",
    "    elif sk_model=='knn':\n",
    "        train_model=KNeighborsClassifier(n_neighbors = n_cat)\n",
    "    elif sk_model=='DecisionTree':\n",
    "        train_model=DecisionTreeClassifier(random_state=10)\n",
    "    elif sk_model=='GradientBoosting':\n",
    "        train_model=GradientBoostingClassifier(random_state=10)\n",
    "    elif sk_model=='XgBoost':\n",
    "        train_model=XGBClassifier(n_estimators=1000)\n",
    "    elif sk_model=='LightGBM':\n",
    "        train_model=LGBMClassifier(n_estimators=1000)\n",
    "    start = time.time()\n",
    "    train_model.fit(X_train, y_train)\n",
    "    time_result[sk_model]=time.time() - start\n",
    "    y_pred = train_model.predict(X_test)\n",
    "    acc_result[sk_model]=accuracy_score(y_test, y_pred)\n",
    "    f1_result[sk_model]=f1_score(y_test, y_pred, average='weighted')\n",
    "    \n",
    "print(time_result)\n",
    "print(f1_result)\n",
    "count_and_plot2(acc_result)"
   ]
  },
  {
   "cell_type": "code",
   "execution_count": 29,
   "id": "touched-wallpaper",
   "metadata": {
    "ExecuteTime": {
     "end_time": "2021-07-20T18:37:32.075542Z",
     "start_time": "2021-07-20T18:19:00.259318Z"
    }
   },
   "outputs": [
    {
     "name": "stdout",
     "output_type": "stream",
     "text": [
      "     img  label    glcm1     glcm2     glcm3     glcm4     glcm5     glcm6  \\\n",
      "0  109.0    0.0  0.06583  0.056789  0.064265  0.055691  0.050531  0.056789   \n",
      "\n",
      "      glcm7     glcm8  ...  dim1_f134  dim1_f135  dim1_f136  dim1_f137  \\\n",
      "0  0.049597  0.055691  ...   1.282165   1.281576   1.280057   1.277924   \n",
      "\n",
      "   dim1_f138  dim1_f139  dim1_f140  dim1_f141  dim1_f142  dim1_f143  \n",
      "0   1.277049   1.275885   1.275666    1.27524   1.274766   1.274239  \n",
      "\n",
      "[1 rows x 514 columns]\n",
      "Counter({0.0: 20000, 1.0: 20000})\n"
     ]
    },
    {
     "data": {
      "image/png": "[encoded data removed]",
      "text/plain": [
       "<Figure size 720x720 with 1 Axes>"
      ]
     },
     "metadata": {
      "needs_background": "light"
     },
     "output_type": "display_data"
    },
    {
     "name": "stdout",
     "output_type": "stream",
     "text": [
      "label data shape: (40000,)\n",
      "Original data shape: (40000, 512)\n",
      "Test data shape:  torch.Size([8000, 1, 512])\n",
      "model loaded\n",
      "==============================================\n"
     ]
    },
    {
     "name": "stderr",
     "output_type": "stream",
     "text": [
      "/home/seung-ho/anaconda3/envs/cubical/lib/python3.8/site-packages/torch/nn/_reduction.py:43: UserWarning: size_average and reduce args will be deprecated, please use reduction='sum' instead.\n",
      "  warnings.warn(warning.format(ret))\n",
      "/home/seung-ho/anaconda3/envs/cubical/lib/python3.8/site-packages/torch/optim/lr_scheduler.py:117: UserWarning: Detected call of `lr_scheduler.step()` before `optimizer.step()`. In PyTorch 1.1.0 and later, you should call them in the opposite order: `optimizer.step()` before `lr_scheduler.step()`.  Failure to do this will result in PyTorch skipping the first value of the learning rate schedule. See more details at https://pytorch.org/docs/stable/optim.html#how-to-adjust-learning-rate\n",
      "  warnings.warn(\"Detected call of `lr_scheduler.step()` before `optimizer.step()`. \"\n"
     ]
    },
    {
     "data": {
      "application/vnd.jupyter.widget-view+json": {
       "model_id": "d34d127dc5754bf6a28f251e9e6ac45f",
       "version_major": 2,
       "version_minor": 0
      },
      "text/plain": [
       "HBox(children=(FloatProgress(value=0.0, max=250.0), HTML(value='')))"
      ]
     },
     "metadata": {},
     "output_type": "display_data"
    },
    {
     "name": "stdout",
     "output_type": "stream",
     "text": [
      "\n",
      "Epoch: 0\n",
      "Training accuracy: 94.421875\n",
      "val accuracy: 94.325\n",
      "F1 score: 0.9430401392588998\n",
      "==============================================\n"
     ]
    },
    {
     "data": {
      "application/vnd.jupyter.widget-view+json": {
       "model_id": "4de5b2641f904abbb98d578748096678",
       "version_major": 2,
       "version_minor": 0
      },
      "text/plain": [
       "HBox(children=(FloatProgress(value=0.0, max=250.0), HTML(value='')))"
      ]
     },
     "metadata": {},
     "output_type": "display_data"
    },
    {
     "name": "stdout",
     "output_type": "stream",
     "text": [
      "\n",
      "Epoch: 1\n",
      "Training accuracy: 93.159375\n",
      "val accuracy: 92.5625\n",
      "F1 score: 0.9252712134174037\n",
      "==============================================\n"
     ]
    },
    {
     "data": {
      "application/vnd.jupyter.widget-view+json": {
       "model_id": "e1affeba055e43f1911635aafccd5c1d",
       "version_major": 2,
       "version_minor": 0
      },
      "text/plain": [
       "HBox(children=(FloatProgress(value=0.0, max=250.0), HTML(value='')))"
      ]
     },
     "metadata": {},
     "output_type": "display_data"
    },
    {
     "name": "stdout",
     "output_type": "stream",
     "text": [
      "\n",
      "Epoch: 2\n",
      "Training accuracy: 98.690625\n",
      "val accuracy: 98.65\n",
      "F1 score: 0.9864976265181731\n",
      "==============================================\n"
     ]
    },
    {
     "data": {
      "application/vnd.jupyter.widget-view+json": {
       "model_id": "26a4059dd58d4f4aa627442bb9930a48",
       "version_major": 2,
       "version_minor": 0
      },
      "text/plain": [
       "HBox(children=(FloatProgress(value=0.0, max=250.0), HTML(value='')))"
      ]
     },
     "metadata": {},
     "output_type": "display_data"
    },
    {
     "name": "stdout",
     "output_type": "stream",
     "text": [
      "\n",
      "Epoch: 3\n",
      "Training accuracy: 98.525\n",
      "val accuracy: 98.5375\n",
      "F1 score: 0.9853745788433276\n",
      "==============================================\n"
     ]
    },
    {
     "data": {
      "application/vnd.jupyter.widget-view+json": {
       "model_id": "b2ef41664a26474787811d35e547d20c",
       "version_major": 2,
       "version_minor": 0
      },
      "text/plain": [
       "HBox(children=(FloatProgress(value=0.0, max=250.0), HTML(value='')))"
      ]
     },
     "metadata": {},
     "output_type": "display_data"
    },
    {
     "name": "stdout",
     "output_type": "stream",
     "text": [
      "\n",
      "Epoch: 4\n",
      "Training accuracy: 97.1125\n",
      "val accuracy: 96.975\n",
      "F1 score: 0.9697164673274461\n",
      "==============================================\n"
     ]
    },
    {
     "data": {
      "application/vnd.jupyter.widget-view+json": {
       "model_id": "b569f6b49a1e413c9820a10c0ad6810f",
       "version_major": 2,
       "version_minor": 0
      },
      "text/plain": [
       "HBox(children=(FloatProgress(value=0.0, max=250.0), HTML(value='')))"
      ]
     },
     "metadata": {},
     "output_type": "display_data"
    },
    {
     "name": "stdout",
     "output_type": "stream",
     "text": [
      "\n",
      "Epoch: 5\n",
      "Training accuracy: 99.0625\n",
      "val accuracy: 99.0875\n",
      "F1 score: 0.9908743042073732\n",
      "==============================================\n"
     ]
    },
    {
     "data": {
      "application/vnd.jupyter.widget-view+json": {
       "model_id": "e24e75180c644ebea3a4b865b0efa8f6",
       "version_major": 2,
       "version_minor": 0
      },
      "text/plain": [
       "HBox(children=(FloatProgress(value=0.0, max=250.0), HTML(value='')))"
      ]
     },
     "metadata": {},
     "output_type": "display_data"
    },
    {
     "name": "stdout",
     "output_type": "stream",
     "text": [
      "\n",
      "Epoch: 6\n",
      "Training accuracy: 95.71875\n",
      "val accuracy: 95.3375\n",
      "F1 score: 0.9532976304788314\n",
      "==============================================\n"
     ]
    },
    {
     "data": {
      "application/vnd.jupyter.widget-view+json": {
       "model_id": "c34d6ac637ef469ea2993bd662fe5769",
       "version_major": 2,
       "version_minor": 0
      },
      "text/plain": [
       "HBox(children=(FloatProgress(value=0.0, max=250.0), HTML(value='')))"
      ]
     },
     "metadata": {},
     "output_type": "display_data"
    },
    {
     "name": "stdout",
     "output_type": "stream",
     "text": [
      "\n",
      "Epoch: 7\n",
      "Training accuracy: 65.221875\n",
      "val accuracy: 64.55\n",
      "F1 score: 0.5964112670940371\n",
      "==============================================\n"
     ]
    },
    {
     "data": {
      "application/vnd.jupyter.widget-view+json": {
       "model_id": "8a74035c05f1496b881c12610d6359ba",
       "version_major": 2,
       "version_minor": 0
      },
      "text/plain": [
       "HBox(children=(FloatProgress(value=0.0, max=250.0), HTML(value='')))"
      ]
     },
     "metadata": {},
     "output_type": "display_data"
    },
    {
     "name": "stdout",
     "output_type": "stream",
     "text": [
      "\n",
      "Epoch: 8\n",
      "Training accuracy: 97.46875\n",
      "val accuracy: 97.4125\n",
      "F1 score: 0.97410307130496\n",
      "==============================================\n"
     ]
    },
    {
     "data": {
      "application/vnd.jupyter.widget-view+json": {
       "model_id": "369c8ed3748d44eb8e081ec5e44277b0",
       "version_major": 2,
       "version_minor": 0
      },
      "text/plain": [
       "HBox(children=(FloatProgress(value=0.0, max=250.0), HTML(value='')))"
      ]
     },
     "metadata": {},
     "output_type": "display_data"
    },
    {
     "name": "stdout",
     "output_type": "stream",
     "text": [
      "\n",
      "Epoch: 9\n",
      "Training accuracy: 99.034375\n",
      "val accuracy: 99.1125\n",
      "F1 score: 0.9911251837482992\n",
      "==============================================\n"
     ]
    },
    {
     "data": {
      "application/vnd.jupyter.widget-view+json": {
       "model_id": "0b9a7ca013644706a1e73b9319e7a17c",
       "version_major": 2,
       "version_minor": 0
      },
      "text/plain": [
       "HBox(children=(FloatProgress(value=0.0, max=250.0), HTML(value='')))"
      ]
     },
     "metadata": {},
     "output_type": "display_data"
    },
    {
     "name": "stdout",
     "output_type": "stream",
     "text": [
      "\n",
      "Epoch: 10\n",
      "Training accuracy: 96.828125\n",
      "val accuracy: 96.7125\n",
      "F1 score: 0.9671018040651492\n",
      "==============================================\n"
     ]
    },
    {
     "data": {
      "application/vnd.jupyter.widget-view+json": {
       "model_id": "84b516b1bd8e47d2842a4389b3da5bbb",
       "version_major": 2,
       "version_minor": 0
      },
      "text/plain": [
       "HBox(children=(FloatProgress(value=0.0, max=250.0), HTML(value='')))"
      ]
     },
     "metadata": {},
     "output_type": "display_data"
    },
    {
     "name": "stdout",
     "output_type": "stream",
     "text": [
      "\n",
      "Epoch: 11\n",
      "Training accuracy: 98.453125\n",
      "val accuracy: 98.4125\n",
      "F1 score: 0.9841242967790993\n",
      "==============================================\n"
     ]
    },
    {
     "data": {
      "application/vnd.jupyter.widget-view+json": {
       "model_id": "decef577fdf346fda4329dafbf09e5d8",
       "version_major": 2,
       "version_minor": 0
      },
      "text/plain": [
       "HBox(children=(FloatProgress(value=0.0, max=250.0), HTML(value='')))"
      ]
     },
     "metadata": {},
     "output_type": "display_data"
    },
    {
     "name": "stdout",
     "output_type": "stream",
     "text": [
      "\n",
      "Epoch: 12\n",
      "Training accuracy: 96.621875\n",
      "val accuracy: 96.6625\n",
      "F1 score: 0.9665794023655822\n",
      "==============================================\n"
     ]
    },
    {
     "data": {
      "application/vnd.jupyter.widget-view+json": {
       "model_id": "817043da1b0a4ed4a043117a72ad359e",
       "version_major": 2,
       "version_minor": 0
      },
      "text/plain": [
       "HBox(children=(FloatProgress(value=0.0, max=250.0), HTML(value='')))"
      ]
     },
     "metadata": {},
     "output_type": "display_data"
    },
    {
     "name": "stdout",
     "output_type": "stream",
     "text": [
      "\n",
      "Epoch: 13\n",
      "Training accuracy: 99.14375\n",
      "val accuracy: 99.225\n",
      "F1 score: 0.9922496075847324\n",
      "==============================================\n"
     ]
    },
    {
     "data": {
      "application/vnd.jupyter.widget-view+json": {
       "model_id": "84571c2505f74f938209c0272ae43534",
       "version_major": 2,
       "version_minor": 0
      },
      "text/plain": [
       "HBox(children=(FloatProgress(value=0.0, max=250.0), HTML(value='')))"
      ]
     },
     "metadata": {},
     "output_type": "display_data"
    },
    {
     "name": "stdout",
     "output_type": "stream",
     "text": [
      "\n",
      "Epoch: 14\n",
      "Training accuracy: 92.575\n",
      "val accuracy: 92.075\n",
      "F1 score: 0.9203173153006463\n",
      "==============================================\n"
     ]
    },
    {
     "data": {
      "application/vnd.jupyter.widget-view+json": {
       "model_id": "dbe4d79350af4ce3a3a6f24cad83feb5",
       "version_major": 2,
       "version_minor": 0
      },
      "text/plain": [
       "HBox(children=(FloatProgress(value=0.0, max=250.0), HTML(value='')))"
      ]
     },
     "metadata": {},
     "output_type": "display_data"
    },
    {
     "name": "stdout",
     "output_type": "stream",
     "text": [
      "\n",
      "Epoch: 15\n",
      "Training accuracy: 94.278125\n",
      "val accuracy: 93.7875\n",
      "F1 score: 0.9376758631136679\n",
      "==============================================\n"
     ]
    },
    {
     "data": {
      "application/vnd.jupyter.widget-view+json": {
       "model_id": "af13ed508f7d472a95a0e6b5f3ee00a5",
       "version_major": 2,
       "version_minor": 0
      },
      "text/plain": [
       "HBox(children=(FloatProgress(value=0.0, max=250.0), HTML(value='')))"
      ]
     },
     "metadata": {},
     "output_type": "display_data"
    },
    {
     "name": "stdout",
     "output_type": "stream",
     "text": [
      "\n",
      "Epoch: 16\n",
      "Training accuracy: 98.765625\n",
      "val accuracy: 98.6625\n",
      "F1 score: 0.9866250470256175\n",
      "==============================================\n"
     ]
    },
    {
     "data": {
      "application/vnd.jupyter.widget-view+json": {
       "model_id": "f5a178c938f541bdaaf4cad684601b98",
       "version_major": 2,
       "version_minor": 0
      },
      "text/plain": [
       "HBox(children=(FloatProgress(value=0.0, max=250.0), HTML(value='')))"
      ]
     },
     "metadata": {},
     "output_type": "display_data"
    },
    {
     "name": "stdout",
     "output_type": "stream",
     "text": [
      "\n",
      "Epoch: 17\n",
      "Training accuracy: 98.621875\n",
      "val accuracy: 98.2625\n",
      "F1 score: 0.9826239262587448\n",
      "==============================================\n"
     ]
    },
    {
     "data": {
      "application/vnd.jupyter.widget-view+json": {
       "model_id": "139cdadf01554ac0b79d415fc9268d1a",
       "version_major": 2,
       "version_minor": 0
      },
      "text/plain": [
       "HBox(children=(FloatProgress(value=0.0, max=250.0), HTML(value='')))"
      ]
     },
     "metadata": {},
     "output_type": "display_data"
    },
    {
     "name": "stdout",
     "output_type": "stream",
     "text": [
      "\n",
      "Epoch: 18\n",
      "Training accuracy: 99.128125\n",
      "val accuracy: 99.1\n",
      "F1 score: 0.9909994227577837\n",
      "==============================================\n"
     ]
    },
    {
     "data": {
      "application/vnd.jupyter.widget-view+json": {
       "model_id": "833abe9eba8d4ebdb97facc16ee157b5",
       "version_major": 2,
       "version_minor": 0
      },
      "text/plain": [
       "HBox(children=(FloatProgress(value=0.0, max=250.0), HTML(value='')))"
      ]
     },
     "metadata": {},
     "output_type": "display_data"
    },
    {
     "name": "stdout",
     "output_type": "stream",
     "text": [
      "\n",
      "Epoch: 19\n",
      "Training accuracy: 98.653125\n",
      "val accuracy: 98.7\n",
      "F1 score: 0.9869968216897943\n",
      "==============================================\n"
     ]
    },
    {
     "data": {
      "application/vnd.jupyter.widget-view+json": {
       "model_id": "aac0327eed61438ab0aea7a4133fc534",
       "version_major": 2,
       "version_minor": 0
      },
      "text/plain": [
       "HBox(children=(FloatProgress(value=0.0, max=250.0), HTML(value='')))"
      ]
     },
     "metadata": {},
     "output_type": "display_data"
    },
    {
     "name": "stdout",
     "output_type": "stream",
     "text": [
      "\n",
      "Epoch: 20\n",
      "Training accuracy: 98.928125\n",
      "val accuracy: 99.0125\n",
      "F1 score: 0.9901238710063163\n",
      "==============================================\n"
     ]
    },
    {
     "data": {
      "application/vnd.jupyter.widget-view+json": {
       "model_id": "bddce40719174c74b01cc50ce53704fa",
       "version_major": 2,
       "version_minor": 0
      },
      "text/plain": [
       "HBox(children=(FloatProgress(value=0.0, max=250.0), HTML(value='')))"
      ]
     },
     "metadata": {},
     "output_type": "display_data"
    },
    {
     "name": "stdout",
     "output_type": "stream",
     "text": [
      "\n",
      "Epoch: 21\n",
      "Training accuracy: 98.9875\n",
      "val accuracy: 98.9625\n",
      "F1 score: 0.9896247381564354\n",
      "==============================================\n"
     ]
    },
    {
     "data": {
      "application/vnd.jupyter.widget-view+json": {
       "model_id": "ed4c87c5a5c446ef813b78db66adb520",
       "version_major": 2,
       "version_minor": 0
      },
      "text/plain": [
       "HBox(children=(FloatProgress(value=0.0, max=250.0), HTML(value='')))"
      ]
     },
     "metadata": {},
     "output_type": "display_data"
    },
    {
     "name": "stdout",
     "output_type": "stream",
     "text": [
      "\n",
      "Epoch: 22\n",
      "Training accuracy: 89.715625\n",
      "val accuracy: 89.0875\n",
      "F1 score: 0.8896971624455116\n",
      "==============================================\n"
     ]
    },
    {
     "data": {
      "application/vnd.jupyter.widget-view+json": {
       "model_id": "bc5cc9f2fcc34382a85e25190e32debe",
       "version_major": 2,
       "version_minor": 0
      },
      "text/plain": [
       "HBox(children=(FloatProgress(value=0.0, max=250.0), HTML(value='')))"
      ]
     },
     "metadata": {},
     "output_type": "display_data"
    },
    {
     "name": "stdout",
     "output_type": "stream",
     "text": [
      "\n",
      "Epoch: 23\n",
      "Training accuracy: 98.20625\n",
      "val accuracy: 98.15\n",
      "F1 score: 0.9814915811007515\n",
      "==============================================\n"
     ]
    },
    {
     "data": {
      "application/vnd.jupyter.widget-view+json": {
       "model_id": "10a907263ed64d4ba342f5e5684a3b7d",
       "version_major": 2,
       "version_minor": 0
      },
      "text/plain": [
       "HBox(children=(FloatProgress(value=0.0, max=250.0), HTML(value='')))"
      ]
     },
     "metadata": {},
     "output_type": "display_data"
    },
    {
     "name": "stdout",
     "output_type": "stream",
     "text": [
      "\n",
      "Epoch: 24\n",
      "Training accuracy: 99.371875\n",
      "val accuracy: 99.325\n",
      "F1 score: 0.993250071723932\n",
      "==============================================\n"
     ]
    },
    {
     "data": {
      "application/vnd.jupyter.widget-view+json": {
       "model_id": "70249e45a46148c99c5aa7c31404020e",
       "version_major": 2,
       "version_minor": 0
      },
      "text/plain": [
       "HBox(children=(FloatProgress(value=0.0, max=250.0), HTML(value='')))"
      ]
     },
     "metadata": {},
     "output_type": "display_data"
    },
    {
     "name": "stdout",
     "output_type": "stream",
     "text": [
      "\n",
      "Epoch: 25\n",
      "Training accuracy: 98.921875\n",
      "val accuracy: 98.825\n",
      "F1 score: 0.9882500793125446\n",
      "==============================================\n"
     ]
    },
    {
     "data": {
      "application/vnd.jupyter.widget-view+json": {
       "model_id": "82aba8037c694019b655e94fee95997c",
       "version_major": 2,
       "version_minor": 0
      },
      "text/plain": [
       "HBox(children=(FloatProgress(value=0.0, max=250.0), HTML(value='')))"
      ]
     },
     "metadata": {},
     "output_type": "display_data"
    },
    {
     "name": "stdout",
     "output_type": "stream",
     "text": [
      "\n",
      "Epoch: 26\n",
      "Training accuracy: 99.31875\n",
      "val accuracy: 99.125\n",
      "F1 score: 0.9912502078176955\n",
      "==============================================\n"
     ]
    },
    {
     "data": {
      "application/vnd.jupyter.widget-view+json": {
       "model_id": "05324bbcf35844b6ab6c1f71749e0ccf",
       "version_major": 2,
       "version_minor": 0
      },
      "text/plain": [
       "HBox(children=(FloatProgress(value=0.0, max=250.0), HTML(value='')))"
      ]
     },
     "metadata": {},
     "output_type": "display_data"
    },
    {
     "name": "stdout",
     "output_type": "stream",
     "text": [
      "\n",
      "Epoch: 27\n",
      "Training accuracy: 98.946875\n",
      "val accuracy: 98.9625\n",
      "F1 score: 0.9896233551692477\n",
      "==============================================\n"
     ]
    },
    {
     "data": {
      "application/vnd.jupyter.widget-view+json": {
       "model_id": "903ae0f10760441ca58548a0a4d619a2",
       "version_major": 2,
       "version_minor": 0
      },
      "text/plain": [
       "HBox(children=(FloatProgress(value=0.0, max=250.0), HTML(value='')))"
      ]
     },
     "metadata": {},
     "output_type": "display_data"
    },
    {
     "name": "stdout",
     "output_type": "stream",
     "text": [
      "\n",
      "Epoch: 28\n",
      "Training accuracy: 99.4\n",
      "val accuracy: 99.3125\n",
      "F1 score: 0.9931251204264719\n",
      "==============================================\n"
     ]
    },
    {
     "data": {
      "application/vnd.jupyter.widget-view+json": {
       "model_id": "9de645641760490f8a19b4029e6fcfdb",
       "version_major": 2,
       "version_minor": 0
      },
      "text/plain": [
       "HBox(children=(FloatProgress(value=0.0, max=250.0), HTML(value='')))"
      ]
     },
     "metadata": {},
     "output_type": "display_data"
    },
    {
     "name": "stdout",
     "output_type": "stream",
     "text": [
      "\n",
      "Epoch: 29\n",
      "Training accuracy: 98.85\n",
      "val accuracy: 98.8625\n",
      "F1 score: 0.9886231190955788\n",
      "==============================================\n"
     ]
    },
    {
     "data": {
      "application/vnd.jupyter.widget-view+json": {
       "model_id": "81f8073801264a12b220f0474efc14d5",
       "version_major": 2,
       "version_minor": 0
      },
      "text/plain": [
       "HBox(children=(FloatProgress(value=0.0, max=250.0), HTML(value='')))"
      ]
     },
     "metadata": {},
     "output_type": "display_data"
    },
    {
     "name": "stdout",
     "output_type": "stream",
     "text": [
      "\n",
      "Epoch: 30\n",
      "Training accuracy: 99.1625\n",
      "val accuracy: 99.125\n",
      "F1 score: 0.9912491247759426\n",
      "==============================================\n"
     ]
    },
    {
     "data": {
      "application/vnd.jupyter.widget-view+json": {
       "model_id": "2215ea12c6424590a7d1de306497e6f4",
       "version_major": 2,
       "version_minor": 0
      },
      "text/plain": [
       "HBox(children=(FloatProgress(value=0.0, max=250.0), HTML(value='')))"
      ]
     },
     "metadata": {},
     "output_type": "display_data"
    },
    {
     "name": "stdout",
     "output_type": "stream",
     "text": [
      "\n",
      "Epoch: 31\n",
      "Training accuracy: 99.36875\n",
      "val accuracy: 99.2875\n",
      "F1 score: 0.9928750820545835\n",
      "==============================================\n"
     ]
    },
    {
     "data": {
      "application/vnd.jupyter.widget-view+json": {
       "model_id": "e224eea74b7b417697781765916b4fb6",
       "version_major": 2,
       "version_minor": 0
      },
      "text/plain": [
       "HBox(children=(FloatProgress(value=0.0, max=250.0), HTML(value='')))"
      ]
     },
     "metadata": {},
     "output_type": "display_data"
    },
    {
     "name": "stdout",
     "output_type": "stream",
     "text": [
      "\n",
      "Epoch: 32\n",
      "Training accuracy: 98.946875\n",
      "val accuracy: 99.0\n",
      "F1 score: 0.9899989434710104\n",
      "==============================================\n"
     ]
    },
    {
     "data": {
      "application/vnd.jupyter.widget-view+json": {
       "model_id": "3064f9e395a34a23be09a25e1dddda87",
       "version_major": 2,
       "version_minor": 0
      },
      "text/plain": [
       "HBox(children=(FloatProgress(value=0.0, max=250.0), HTML(value='')))"
      ]
     },
     "metadata": {},
     "output_type": "display_data"
    },
    {
     "name": "stdout",
     "output_type": "stream",
     "text": [
      "\n",
      "Epoch: 33\n",
      "Training accuracy: 98.909375\n",
      "val accuracy: 98.7625\n",
      "F1 score: 0.987624919755828\n",
      "==============================================\n"
     ]
    },
    {
     "data": {
      "application/vnd.jupyter.widget-view+json": {
       "model_id": "3d6efe794ee943ba9f3313985e74755d",
       "version_major": 2,
       "version_minor": 0
      },
      "text/plain": [
       "HBox(children=(FloatProgress(value=0.0, max=250.0), HTML(value='')))"
      ]
     },
     "metadata": {},
     "output_type": "display_data"
    },
    {
     "name": "stdout",
     "output_type": "stream",
     "text": [
      "\n",
      "Epoch: 34\n",
      "Training accuracy: 98.665625\n",
      "val accuracy: 98.45\n",
      "F1 score: 0.9844948433413223\n",
      "==============================================\n"
     ]
    },
    {
     "data": {
      "application/vnd.jupyter.widget-view+json": {
       "model_id": "a1fa819f5af443cd859689643d80fba9",
       "version_major": 2,
       "version_minor": 0
      },
      "text/plain": [
       "HBox(children=(FloatProgress(value=0.0, max=250.0), HTML(value='')))"
      ]
     },
     "metadata": {},
     "output_type": "display_data"
    },
    {
     "name": "stdout",
     "output_type": "stream",
     "text": [
      "\n",
      "Epoch: 35\n",
      "Training accuracy: 99.29375\n",
      "val accuracy: 99.075\n",
      "F1 score: 0.9907502185356754\n",
      "==============================================\n"
     ]
    },
    {
     "data": {
      "application/vnd.jupyter.widget-view+json": {
       "model_id": "d220601b8b134a20862cee6e5fa29446",
       "version_major": 2,
       "version_minor": 0
      },
      "text/plain": [
       "HBox(children=(FloatProgress(value=0.0, max=250.0), HTML(value='')))"
      ]
     },
     "metadata": {},
     "output_type": "display_data"
    },
    {
     "name": "stdout",
     "output_type": "stream",
     "text": [
      "\n",
      "Epoch: 36\n",
      "Training accuracy: 99.1875\n",
      "val accuracy: 99.225\n",
      "F1 score: 0.992249309115265\n",
      "==============================================\n"
     ]
    },
    {
     "data": {
      "application/vnd.jupyter.widget-view+json": {
       "model_id": "9c698f36d0d8488c897adee81664641a",
       "version_major": 2,
       "version_minor": 0
      },
      "text/plain": [
       "HBox(children=(FloatProgress(value=0.0, max=250.0), HTML(value='')))"
      ]
     },
     "metadata": {},
     "output_type": "display_data"
    },
    {
     "name": "stdout",
     "output_type": "stream",
     "text": [
      "\n",
      "Epoch: 37\n",
      "Training accuracy: 99.475\n",
      "val accuracy: 99.3\n",
      "F1 score: 0.9930000323777703\n",
      "==============================================\n"
     ]
    },
    {
     "data": {
      "application/vnd.jupyter.widget-view+json": {
       "model_id": "8780b5a8f5484c848a7463305095839a",
       "version_major": 2,
       "version_minor": 0
      },
      "text/plain": [
       "HBox(children=(FloatProgress(value=0.0, max=250.0), HTML(value='')))"
      ]
     },
     "metadata": {},
     "output_type": "display_data"
    },
    {
     "name": "stdout",
     "output_type": "stream",
     "text": [
      "\n",
      "Epoch: 38\n",
      "Training accuracy: 99.50625\n",
      "val accuracy: 99.3375\n",
      "F1 score: 0.9933749918214682\n",
      "==============================================\n"
     ]
    },
    {
     "data": {
      "application/vnd.jupyter.widget-view+json": {
       "model_id": "02056d968a064b1e87cb04ce71d936f8",
       "version_major": 2,
       "version_minor": 0
      },
      "text/plain": [
       "HBox(children=(FloatProgress(value=0.0, max=250.0), HTML(value='')))"
      ]
     },
     "metadata": {},
     "output_type": "display_data"
    },
    {
     "name": "stdout",
     "output_type": "stream",
     "text": [
      "\n",
      "Epoch: 39\n",
      "Training accuracy: 99.496875\n",
      "val accuracy: 99.2875\n",
      "F1 score: 0.9928750820545835\n",
      "==============================================\n"
     ]
    },
    {
     "data": {
      "application/vnd.jupyter.widget-view+json": {
       "model_id": "dc5af331835e4969b285b26ab92b5f4b",
       "version_major": 2,
       "version_minor": 0
      },
      "text/plain": [
       "HBox(children=(FloatProgress(value=0.0, max=250.0), HTML(value='')))"
      ]
     },
     "metadata": {},
     "output_type": "display_data"
    },
    {
     "name": "stdout",
     "output_type": "stream",
     "text": [
      "\n",
      "Epoch: 40\n",
      "Training accuracy: 99.240625\n",
      "val accuracy: 99.125\n",
      "F1 score: 0.9912492199688474\n",
      "==============================================\n"
     ]
    },
    {
     "data": {
      "application/vnd.jupyter.widget-view+json": {
       "model_id": "6055ba97866e4622a1d5b99b74c13f02",
       "version_major": 2,
       "version_minor": 0
      },
      "text/plain": [
       "HBox(children=(FloatProgress(value=0.0, max=250.0), HTML(value='')))"
      ]
     },
     "metadata": {},
     "output_type": "display_data"
    },
    {
     "name": "stdout",
     "output_type": "stream",
     "text": [
      "\n",
      "Epoch: 41\n",
      "Training accuracy: 94.00625\n",
      "val accuracy: 92.8625\n",
      "F1 score: 0.928326381571314\n",
      "==============================================\n"
     ]
    },
    {
     "data": {
      "application/vnd.jupyter.widget-view+json": {
       "model_id": "38e804c97ded4caeb15f457905358dce",
       "version_major": 2,
       "version_minor": 0
      },
      "text/plain": [
       "HBox(children=(FloatProgress(value=0.0, max=250.0), HTML(value='')))"
      ]
     },
     "metadata": {},
     "output_type": "display_data"
    },
    {
     "name": "stdout",
     "output_type": "stream",
     "text": [
      "\n",
      "Epoch: 42\n",
      "Training accuracy: 99.396875\n",
      "val accuracy: 99.1875\n",
      "F1 score: 0.9918748228764541\n",
      "==============================================\n"
     ]
    },
    {
     "data": {
      "application/vnd.jupyter.widget-view+json": {
       "model_id": "716cb298287d4528bfb5e34eb14f0f9f",
       "version_major": 2,
       "version_minor": 0
      },
      "text/plain": [
       "HBox(children=(FloatProgress(value=0.0, max=250.0), HTML(value='')))"
      ]
     },
     "metadata": {},
     "output_type": "display_data"
    },
    {
     "name": "stdout",
     "output_type": "stream",
     "text": [
      "\n",
      "Epoch: 43\n",
      "Training accuracy: 99.575\n",
      "val accuracy: 99.2375\n",
      "F1 score: 0.9923751507200144\n",
      "==============================================\n"
     ]
    },
    {
     "data": {
      "application/vnd.jupyter.widget-view+json": {
       "model_id": "dfe2e1eb245f45908eadc6d1bf1ce775",
       "version_major": 2,
       "version_minor": 0
      },
      "text/plain": [
       "HBox(children=(FloatProgress(value=0.0, max=250.0), HTML(value='')))"
      ]
     },
     "metadata": {},
     "output_type": "display_data"
    },
    {
     "name": "stdout",
     "output_type": "stream",
     "text": [
      "\n",
      "Epoch: 44\n",
      "Training accuracy: 99.6125\n",
      "val accuracy: 99.3625\n",
      "F1 score: 0.9936250841754788\n",
      "==============================================\n"
     ]
    },
    {
     "data": {
      "application/vnd.jupyter.widget-view+json": {
       "model_id": "06f4dc7cdaae4e36ba533929dd894acd",
       "version_major": 2,
       "version_minor": 0
      },
      "text/plain": [
       "HBox(children=(FloatProgress(value=0.0, max=250.0), HTML(value='')))"
      ]
     },
     "metadata": {},
     "output_type": "display_data"
    },
    {
     "name": "stdout",
     "output_type": "stream",
     "text": [
      "\n",
      "Epoch: 45\n",
      "Training accuracy: 99.43125\n",
      "val accuracy: 99.3375\n",
      "F1 score: 0.9933748775251686\n",
      "==============================================\n"
     ]
    },
    {
     "data": {
      "application/vnd.jupyter.widget-view+json": {
       "model_id": "648f70a28e8548059c73bb0de95c058d",
       "version_major": 2,
       "version_minor": 0
      },
      "text/plain": [
       "HBox(children=(FloatProgress(value=0.0, max=250.0), HTML(value='')))"
      ]
     },
     "metadata": {},
     "output_type": "display_data"
    },
    {
     "name": "stdout",
     "output_type": "stream",
     "text": [
      "\n",
      "Epoch: 46\n",
      "Training accuracy: 99.221875\n",
      "val accuracy: 98.9125\n",
      "F1 score: 0.9891252475798894\n",
      "==============================================\n"
     ]
    },
    {
     "data": {
      "application/vnd.jupyter.widget-view+json": {
       "model_id": "4955a132de714d43927489b5d0740c15",
       "version_major": 2,
       "version_minor": 0
      },
      "text/plain": [
       "HBox(children=(FloatProgress(value=0.0, max=250.0), HTML(value='')))"
      ]
     },
     "metadata": {},
     "output_type": "display_data"
    },
    {
     "name": "stdout",
     "output_type": "stream",
     "text": [
      "\n",
      "Epoch: 47\n",
      "Training accuracy: 99.5875\n",
      "val accuracy: 99.3375\n",
      "F1 score: 0.9933748327986878\n",
      "==============================================\n"
     ]
    },
    {
     "data": {
      "application/vnd.jupyter.widget-view+json": {
       "model_id": "c1a538ef307d4078a991b889ba7571ad",
       "version_major": 2,
       "version_minor": 0
      },
      "text/plain": [
       "HBox(children=(FloatProgress(value=0.0, max=250.0), HTML(value='')))"
      ]
     },
     "metadata": {},
     "output_type": "display_data"
    },
    {
     "name": "stdout",
     "output_type": "stream",
     "text": [
      "\n",
      "Epoch: 48\n",
      "Training accuracy: 99.65625\n",
      "val accuracy: 99.3625\n",
      "F1 score: 0.9936249586576593\n",
      "==============================================\n"
     ]
    },
    {
     "data": {
      "application/vnd.jupyter.widget-view+json": {
       "model_id": "b5786af8629d4f95be82b1c7585691a0",
       "version_major": 2,
       "version_minor": 0
      },
      "text/plain": [
       "HBox(children=(FloatProgress(value=0.0, max=250.0), HTML(value='')))"
      ]
     },
     "metadata": {},
     "output_type": "display_data"
    },
    {
     "name": "stdout",
     "output_type": "stream",
     "text": [
      "\n",
      "Epoch: 49\n",
      "Training accuracy: 99.746875\n",
      "val accuracy: 99.45\n",
      "F1 score: 0.9945000254396766\n",
      "==============================================\n"
     ]
    },
    {
     "data": {
      "application/vnd.jupyter.widget-view+json": {
       "model_id": "9acd63379efc4708b8f05811895be2a6",
       "version_major": 2,
       "version_minor": 0
      },
      "text/plain": [
       "HBox(children=(FloatProgress(value=0.0, max=250.0), HTML(value='')))"
      ]
     },
     "metadata": {},
     "output_type": "display_data"
    },
    {
     "name": "stdout",
     "output_type": "stream",
     "text": [
      "\n",
      "Epoch: 50\n",
      "Training accuracy: 99.784375\n",
      "val accuracy: 99.4125\n",
      "F1 score: 0.9941250335086494\n",
      "==============================================\n"
     ]
    },
    {
     "data": {
      "application/vnd.jupyter.widget-view+json": {
       "model_id": "4b85294b5813428e8451c2c9b79d93a8",
       "version_major": 2,
       "version_minor": 0
      },
      "text/plain": [
       "HBox(children=(FloatProgress(value=0.0, max=250.0), HTML(value='')))"
      ]
     },
     "metadata": {},
     "output_type": "display_data"
    },
    {
     "name": "stdout",
     "output_type": "stream",
     "text": [
      "\n",
      "Epoch: 51\n",
      "Training accuracy: 99.796875\n",
      "val accuracy: 99.4375\n",
      "F1 score: 0.9943750067682051\n",
      "==============================================\n"
     ]
    },
    {
     "data": {
      "application/vnd.jupyter.widget-view+json": {
       "model_id": "ac4aaec52e454b36b5ffcf06390a923a",
       "version_major": 2,
       "version_minor": 0
      },
      "text/plain": [
       "HBox(children=(FloatProgress(value=0.0, max=250.0), HTML(value='')))"
      ]
     },
     "metadata": {},
     "output_type": "display_data"
    },
    {
     "name": "stdout",
     "output_type": "stream",
     "text": [
      "\n",
      "Epoch: 52\n",
      "Training accuracy: 99.775\n",
      "val accuracy: 99.3375\n",
      "F1 score: 0.9933750978283327\n",
      "==============================================\n"
     ]
    },
    {
     "data": {
      "application/vnd.jupyter.widget-view+json": {
       "model_id": "7c3133a15dd94dea8fddcb10cd868f60",
       "version_major": 2,
       "version_minor": 0
      },
      "text/plain": [
       "HBox(children=(FloatProgress(value=0.0, max=250.0), HTML(value='')))"
      ]
     },
     "metadata": {},
     "output_type": "display_data"
    },
    {
     "name": "stdout",
     "output_type": "stream",
     "text": [
      "\n",
      "Epoch: 53\n",
      "Training accuracy: 99.8\n",
      "val accuracy: 99.3375\n",
      "F1 score: 0.9933751160473275\n",
      "==============================================\n"
     ]
    },
    {
     "data": {
      "application/vnd.jupyter.widget-view+json": {
       "model_id": "53eb753ad7934648afbf62dc614f348b",
       "version_major": 2,
       "version_minor": 0
      },
      "text/plain": [
       "HBox(children=(FloatProgress(value=0.0, max=250.0), HTML(value='')))"
      ]
     },
     "metadata": {},
     "output_type": "display_data"
    },
    {
     "name": "stdout",
     "output_type": "stream",
     "text": [
      "\n",
      "Epoch: 54\n",
      "Training accuracy: 99.81875\n",
      "val accuracy: 99.4\n",
      "F1 score: 0.9940000840053763\n",
      "==============================================\n"
     ]
    },
    {
     "data": {
      "application/vnd.jupyter.widget-view+json": {
       "model_id": "91969c67f4fd4a84b671ed129d04b074",
       "version_major": 2,
       "version_minor": 0
      },
      "text/plain": [
       "HBox(children=(FloatProgress(value=0.0, max=250.0), HTML(value='')))"
      ]
     },
     "metadata": {},
     "output_type": "display_data"
    },
    {
     "name": "stdout",
     "output_type": "stream",
     "text": [
      "\n",
      "Epoch: 55\n",
      "Training accuracy: 99.83125\n",
      "val accuracy: 99.4125\n",
      "F1 score: 0.9941250070690144\n",
      "==============================================\n"
     ]
    },
    {
     "data": {
      "application/vnd.jupyter.widget-view+json": {
       "model_id": "9921aea843a04c29a2dc65de8e22efed",
       "version_major": 2,
       "version_minor": 0
      },
      "text/plain": [
       "HBox(children=(FloatProgress(value=0.0, max=250.0), HTML(value='')))"
      ]
     },
     "metadata": {},
     "output_type": "display_data"
    },
    {
     "name": "stdout",
     "output_type": "stream",
     "text": [
      "\n",
      "Epoch: 56\n",
      "Training accuracy: 99.8375\n",
      "val accuracy: 99.3875\n",
      "F1 score: 0.9938749767417563\n",
      "==============================================\n"
     ]
    },
    {
     "data": {
      "application/vnd.jupyter.widget-view+json": {
       "model_id": "41f617c258dc4dee907eb9c67aae53ee",
       "version_major": 2,
       "version_minor": 0
      },
      "text/plain": [
       "HBox(children=(FloatProgress(value=0.0, max=250.0), HTML(value='')))"
      ]
     },
     "metadata": {},
     "output_type": "display_data"
    },
    {
     "name": "stdout",
     "output_type": "stream",
     "text": [
      "\n",
      "Epoch: 57\n",
      "Training accuracy: 99.84375\n",
      "val accuracy: 99.325\n",
      "F1 score: 0.9932500945060485\n",
      "==============================================\n"
     ]
    },
    {
     "data": {
      "application/vnd.jupyter.widget-view+json": {
       "model_id": "42e825c9ab7c46afba70975674008da2",
       "version_major": 2,
       "version_minor": 0
      },
      "text/plain": [
       "HBox(children=(FloatProgress(value=0.0, max=250.0), HTML(value='')))"
      ]
     },
     "metadata": {},
     "output_type": "display_data"
    },
    {
     "name": "stdout",
     "output_type": "stream",
     "text": [
      "\n",
      "Epoch: 58\n",
      "Training accuracy: 99.85\n",
      "val accuracy: 99.35\n",
      "F1 score: 0.9935001251311314\n",
      "==============================================\n"
     ]
    },
    {
     "data": {
      "application/vnd.jupyter.widget-view+json": {
       "model_id": "0663b0536634410f912d0cc4b6f420da",
       "version_major": 2,
       "version_minor": 0
      },
      "text/plain": [
       "HBox(children=(FloatProgress(value=0.0, max=250.0), HTML(value='')))"
      ]
     },
     "metadata": {},
     "output_type": "display_data"
    },
    {
     "name": "stdout",
     "output_type": "stream",
     "text": [
      "\n",
      "Epoch: 59\n",
      "Training accuracy: 99.859375\n",
      "val accuracy: 99.375\n",
      "F1 score: 0.99375\n",
      "==============================================\n"
     ]
    },
    {
     "data": {
      "application/vnd.jupyter.widget-view+json": {
       "model_id": "fa8738d8ab5c45afa6a0ca4e9907ccf5",
       "version_major": 2,
       "version_minor": 0
      },
      "text/plain": [
       "HBox(children=(FloatProgress(value=0.0, max=250.0), HTML(value='')))"
      ]
     },
     "metadata": {},
     "output_type": "display_data"
    },
    {
     "name": "stdout",
     "output_type": "stream",
     "text": [
      "\n",
      "Epoch: 60\n",
      "Training accuracy: 99.85\n",
      "val accuracy: 99.4\n",
      "F1 score: 0.9940000930055862\n",
      "==============================================\n"
     ]
    },
    {
     "data": {
      "application/vnd.jupyter.widget-view+json": {
       "model_id": "e814d868123045149c4723733106f9f4",
       "version_major": 2,
       "version_minor": 0
      },
      "text/plain": [
       "HBox(children=(FloatProgress(value=0.0, max=250.0), HTML(value='')))"
      ]
     },
     "metadata": {},
     "output_type": "display_data"
    },
    {
     "name": "stdout",
     "output_type": "stream",
     "text": [
      "\n",
      "Epoch: 61\n",
      "Training accuracy: 99.85\n",
      "val accuracy: 99.425\n",
      "F1 score: 0.9942498842659442\n",
      "==============================================\n"
     ]
    },
    {
     "data": {
      "application/vnd.jupyter.widget-view+json": {
       "model_id": "741dc6ca8fc04f21baa67c522400a2cc",
       "version_major": 2,
       "version_minor": 0
      },
      "text/plain": [
       "HBox(children=(FloatProgress(value=0.0, max=250.0), HTML(value='')))"
      ]
     },
     "metadata": {},
     "output_type": "display_data"
    },
    {
     "name": "stdout",
     "output_type": "stream",
     "text": [
      "\n",
      "Epoch: 62\n",
      "Training accuracy: 99.875\n",
      "val accuracy: 99.35\n",
      "F1 score: 0.9935000910058245\n",
      "==============================================\n"
     ]
    },
    {
     "data": {
      "application/vnd.jupyter.widget-view+json": {
       "model_id": "e725b09660224888a6617c78450fe92a",
       "version_major": 2,
       "version_minor": 0
      },
      "text/plain": [
       "HBox(children=(FloatProgress(value=0.0, max=250.0), HTML(value='')))"
      ]
     },
     "metadata": {},
     "output_type": "display_data"
    },
    {
     "name": "stdout",
     "output_type": "stream",
     "text": [
      "\n",
      "Epoch: 63\n",
      "Training accuracy: 99.859375\n",
      "val accuracy: 99.4375\n",
      "F1 score: 0.9943750197771288\n",
      "==============================================\n"
     ]
    },
    {
     "data": {
      "application/vnd.jupyter.widget-view+json": {
       "model_id": "b5874eabe40d43c49b20c857c07c1b84",
       "version_major": 2,
       "version_minor": 0
      },
      "text/plain": [
       "HBox(children=(FloatProgress(value=0.0, max=250.0), HTML(value='')))"
      ]
     },
     "metadata": {},
     "output_type": "display_data"
    },
    {
     "name": "stdout",
     "output_type": "stream",
     "text": [
      "\n",
      "Epoch: 64\n",
      "Training accuracy: 99.85625\n",
      "val accuracy: 99.2375\n",
      "F1 score: 0.9923751807410753\n",
      "==============================================\n"
     ]
    },
    {
     "data": {
      "application/vnd.jupyter.widget-view+json": {
       "model_id": "352ec22f56804189b9ff716193c72f10",
       "version_major": 2,
       "version_minor": 0
      },
      "text/plain": [
       "HBox(children=(FloatProgress(value=0.0, max=250.0), HTML(value='')))"
      ]
     },
     "metadata": {},
     "output_type": "display_data"
    },
    {
     "name": "stdout",
     "output_type": "stream",
     "text": [
      "\n",
      "Epoch: 65\n",
      "Training accuracy: 99.89375\n",
      "val accuracy: 99.35\n",
      "F1 score: 0.9934999106141843\n",
      "==============================================\n"
     ]
    },
    {
     "data": {
      "application/vnd.jupyter.widget-view+json": {
       "model_id": "c9b96908b4cb4dbd9f88bcfdc1b33457",
       "version_major": 2,
       "version_minor": 0
      },
      "text/plain": [
       "HBox(children=(FloatProgress(value=0.0, max=250.0), HTML(value='')))"
      ]
     },
     "metadata": {},
     "output_type": "display_data"
    },
    {
     "name": "stdout",
     "output_type": "stream",
     "text": [
      "\n",
      "Epoch: 66\n",
      "Training accuracy: 99.90625\n",
      "val accuracy: 99.375\n",
      "F1 score: 0.9937501054746829\n",
      "==============================================\n"
     ]
    },
    {
     "data": {
      "application/vnd.jupyter.widget-view+json": {
       "model_id": "3bf662f264db4404983d1cfefdc35070",
       "version_major": 2,
       "version_minor": 0
      },
      "text/plain": [
       "HBox(children=(FloatProgress(value=0.0, max=250.0), HTML(value='')))"
      ]
     },
     "metadata": {},
     "output_type": "display_data"
    },
    {
     "name": "stdout",
     "output_type": "stream",
     "text": [
      "\n",
      "Epoch: 67\n",
      "Training accuracy: 99.9125\n",
      "val accuracy: 99.4125\n",
      "F1 score: 0.9941250335086494\n",
      "==============================================\n"
     ]
    },
    {
     "data": {
      "application/vnd.jupyter.widget-view+json": {
       "model_id": "b98061090e6f4e05b5c9f53ec61b342f",
       "version_major": 2,
       "version_minor": 0
      },
      "text/plain": [
       "HBox(children=(FloatProgress(value=0.0, max=250.0), HTML(value='')))"
      ]
     },
     "metadata": {},
     "output_type": "display_data"
    },
    {
     "name": "stdout",
     "output_type": "stream",
     "text": [
      "\n",
      "Epoch: 68\n",
      "Training accuracy: 99.903125\n",
      "val accuracy: 99.3125\n",
      "F1 score: 0.9931251285905124\n",
      "==============================================\n"
     ]
    },
    {
     "data": {
      "application/vnd.jupyter.widget-view+json": {
       "model_id": "54a222486fcd42ccbb8c683da4054185",
       "version_major": 2,
       "version_minor": 0
      },
      "text/plain": [
       "HBox(children=(FloatProgress(value=0.0, max=250.0), HTML(value='')))"
      ]
     },
     "metadata": {},
     "output_type": "display_data"
    },
    {
     "name": "stdout",
     "output_type": "stream",
     "text": [
      "\n",
      "Epoch: 69\n",
      "Training accuracy: 99.928125\n",
      "val accuracy: 99.3875\n",
      "F1 score: 0.9938750215350958\n",
      "==============================================\n",
      "\n",
      " Best validation accuracy: 0.9945    when epoch: 49\n",
      "triain time: 465.8653812408447\n"
     ]
    },
    {
     "data": {
      "image/png": "[encoded data removed]",
      "text/plain": [
       "<Figure size 144x144 with 2 Axes>"
      ]
     },
     "metadata": {
      "needs_background": "light"
     },
     "output_type": "display_data"
    },
    {
     "data": {
      "application/vnd.jupyter.widget-view+json": {
       "model_id": "e4987b36a6364634ba608a9cfe129d32",
       "version_major": 2,
       "version_minor": 0
      },
      "text/plain": [
       "HBox(children=(FloatProgress(value=1.0, bar_style='info', max=1.0), HTML(value='')))"
      ]
     },
     "metadata": {},
     "output_type": "display_data"
    },
    {
     "name": "stdout",
     "output_type": "stream",
     "text": [
      "\n",
      "{'1D_ResNet': 465.86541986465454, 'SVC': 213.31859683990479, 'RandomForest': 7.750104665756226, 'knn': 1.9681711196899414, 'DecisionTree': 10.292692184448242, 'GradientBoosting': 252.37444519996643, 'XgBoost': 58.838353633880615, 'LightGBM': 11.376654863357544}\n",
      "{'1D_ResNet': 0.9945000254396766, 'SVC': 0.9547059460447748, 'RandomForest': 0.9918751921038539, 'knn': 0.88438460839599, 'DecisionTree': 0.9876250976620509, 'GradientBoosting': 0.9887501054852321, 'XgBoost': 0.9932500219412081, 'LightGBM': 0.9947499822780203}\n",
      "Counter({'LightGBM': 0.99475, '1D_ResNet': 0.9945, 'XgBoost': 0.99325, 'RandomForest': 0.991875, 'GradientBoosting': 0.98875, 'DecisionTree': 0.987625, 'SVC': 0.95475, 'knn': 0.88475})\n"
     ]
    },
    {
     "data": {
      "image/png": "[encoded data removed]",
      "text/plain": [
       "<Figure size 720x720 with 1 Axes>"
      ]
     },
     "metadata": {
      "needs_background": "light"
     },
     "output_type": "display_data"
    }
   ],
   "source": [
    "acc_result={}\n",
    "time_result={}\n",
    "f1_result={}\n",
    "\n",
    "dataset_path = '512_concrete.csv'\n",
    "train_data_loader, test_data_loader, num_train_instances, num_test_instances, n_cat = open_file(dataset_path)\n",
    "\n",
    "data = pd.read_csv(dataset_path)\n",
    "dataset = data.sample(frac=1).reset_index(drop=True)\n",
    "dataset = dataset.fillna(0)\n",
    "X_len = len(dataset.columns)\n",
    "X = dataset.iloc[:, 3:X_len].values if X_len==515 else dataset.iloc[:, 2:X_len].values\n",
    "y = dataset.iloc[:, 2].values if X_len==515 else dataset.iloc[:, 1].values\n",
    "if np.min(y) > 0: \n",
    "    y = y-np.min(y)\n",
    "n_cat = int(max(y))+1\n",
    "X_train, X_test, y_train, y_test = train_test_split(X, y, test_size = 0.2, random_state = 20, shuffle=True)\n",
    "\n",
    "model=Exe_Model(MSResNet)\n",
    "model.set_model(n_cat)\n",
    "model.train_model(train_data_loader, test_data_loader, num_train_instances, num_test_instances, es_tolerance=20)\n",
    "model.cm()\n",
    "\n",
    "acc_result['1D_ResNet'] = model.best_acc\n",
    "time_result['1D_ResNet'] = model.train_time\n",
    "f1_result['1D_ResNet'] = model.f1score\n",
    "\n",
    "for idx, sk_model in tqdm(enumerate(models)):\n",
    "    if sk_model=='SVC':\n",
    "        train_model=SVC(kernel='rbf', C = 10, gamma=0.001)\n",
    "    elif sk_model=='RandomForest':\n",
    "        train_model=RandomForestClassifier(criterion='gini', n_estimators=200, random_state=4, n_jobs=10)\n",
    "    elif sk_model=='knn':\n",
    "        train_model=KNeighborsClassifier(n_neighbors = n_cat)\n",
    "    elif sk_model=='DecisionTree':\n",
    "        train_model=DecisionTreeClassifier(random_state=10)\n",
    "    elif sk_model=='GradientBoosting':\n",
    "        train_model=GradientBoostingClassifier(random_state=10)\n",
    "    elif sk_model=='XgBoost':\n",
    "        train_model=XGBClassifier(n_estimators=1000)\n",
    "    elif sk_model=='LightGBM':\n",
    "        train_model=LGBMClassifier(n_estimators=1000)\n",
    "    start = time.time()\n",
    "    train_model.fit(X_train, y_train)\n",
    "    time_result[sk_model]=time.time() - start\n",
    "    y_pred = train_model.predict(X_test)\n",
    "    acc_result[sk_model]=accuracy_score(y_test, y_pred)\n",
    "    f1_result[sk_model]=f1_score(y_test, y_pred, average='weighted')\n",
    "    \n",
    "print(time_result)\n",
    "print(f1_result)\n",
    "count_and_plot2(acc_result)"
   ]
  },
  {
   "cell_type": "code",
   "execution_count": 34,
   "id": "indoor-triangle",
   "metadata": {
    "ExecuteTime": {
     "end_time": "2021-07-21T01:28:57.857647Z",
     "start_time": "2021-07-21T01:28:57.737056Z"
    }
   },
   "outputs": [
    {
     "name": "stdout",
     "output_type": "stream",
     "text": [
      "{'1D_ResNet': 61.81129217147827, 'SVC': 3.485785722732544, 'RandomForest': 0.6974883079528809, 'knn': 0.07686519622802734, 'DecisionTree': 0.6289048194885254, 'GradientBoosting': 86.01616549491882, 'XgBoost': 42.34310245513916, 'LightGBM': 13.157261848449707}\n",
      "{'1D_ResNet': 0.6672007571716589, 'SVC': 0.5914772118666881, 'RandomForest': 0.7570965280033614, 'knn': 0.6371540469202237, 'DecisionTree': 0.6953619745537184, 'GradientBoosting': 0.7371371281119276, 'XgBoost': 0.7636786590449992, 'LightGBM': 0.7705976273810536}\n",
      "Counter({'LightGBM': 0.7871759890859482, 'RandomForest': 0.781718963165075, 'XgBoost': 0.7748976807639836, 'GradientBoosting': 0.7598908594815825, '1D_ResNet': 0.7326, 'DecisionTree': 0.6984993178717599, 'SVC': 0.6739427012278308, 'knn': 0.654843110504775})\n"
     ]
    },
    {
     "data": {
      "image/png": "[encoded data removed]",
      "text/plain": [
       "<Figure size 720x720 with 1 Axes>"
      ]
     },
     "metadata": {
      "needs_background": "light"
     },
     "output_type": "display_data"
    }
   ],
   "source": [
    "acc_result['1D_ResNet']=0.7326\n",
    "print(time_result)\n",
    "print(f1_result)\n",
    "count_and_plot2(acc_result)"
   ]
  },
  {
   "cell_type": "code",
   "execution_count": null,
   "id": "handed-gasoline",
   "metadata": {},
   "outputs": [],
   "source": []
  }
 ],
 "metadata": {
  "kernelspec": {
   "display_name": "Python 3",
   "language": "python",
   "name": "python3"
  },
  "language_info": {
   "codemirror_mode": {
    "name": "ipython",
    "version": 3
   },
   "file_extension": ".py",
   "mimetype": "text/x-python",
   "name": "python",
   "nbconvert_exporter": "python",
   "pygments_lexer": "ipython3",
   "version": "3.8.3"
  },
  "toc": {
   "base_numbering": 1,
   "nav_menu": {},
   "number_sections": true,
   "sideBar": true,
   "skip_h1_title": false,
   "title_cell": "Table of Contents",
   "title_sidebar": "Contents",
   "toc_cell": false,
   "toc_position": {},
   "toc_section_display": true,
   "toc_window_display": false
  },
  "varInspector": {
   "cols": {
    "lenName": 16,
    "lenType": 16,
    "lenVar": 40
   },
   "kernels_config": {
    "python": {
     "delete_cmd_postfix": "",
     "delete_cmd_prefix": "del ",
     "library": "var_list.py",
     "varRefreshCmd": "print(var_dic_list())"
    },
    "r": {
     "delete_cmd_postfix": ") ",
     "delete_cmd_prefix": "rm(",
     "library": "var_list.r",
     "varRefreshCmd": "cat(var_dic_list()) "
    }
   },
   "types_to_exclude": [
    "module",
    "function",
    "builtin_function_or_method",
    "instance",
    "_Feature"
   ],
   "window_display": false
  }
 },
 "nbformat": 4,
 "nbformat_minor": 5
}
